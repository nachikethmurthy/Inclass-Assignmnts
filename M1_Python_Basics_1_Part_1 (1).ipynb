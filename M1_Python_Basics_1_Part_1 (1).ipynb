{
  "nbformat": 4,
  "nbformat_minor": 0,
  "metadata": {
    "colab": {
      "name": "M1_Python_Basics_1_Part_1.ipynb",
      "provenance": [],
      "collapsed_sections": []
    },
    "kernelspec": {
      "name": "python3",
      "display_name": "Python 3"
    }
  },
  "cells": [
    {
      "cell_type": "markdown",
      "metadata": {
        "id": "j4O_3cFe4kpD"
      },
      "source": [
        "![alt text](https://i.imgur.com/YNooG8G.png)"
      ]
    },
    {
      "cell_type": "markdown",
      "metadata": {
        "id": "3jbsX8jJS_kf"
      },
      "source": [
        "# Getting Started with Python\n",
        "\n",
        "\n",
        "---\n",
        "\n",
        "\n",
        "\n",
        "\n",
        "\n",
        "\n",
        "## What is Python?\n",
        "Python is a popular programming language that is reliable, flexible, easy to learn, free to use on all operating systems, and supported by both a strong developer community and many free libraries. Python supports all manners of development, including web applications, web services, desktop apps, scripting, data science, scientific computing, and Jupyter notebooks. Python is a language used by many universities, scientists, casual developers, and professional developers alike.\n",
        "\n",
        "\n",
        "\n",
        "You can learn more about the language on [python.org](https://www.python.org/) and [Python for Beginners](https://www.python.org/about/gettingstarted/).\n",
        "Or you can refer to [edureka python blogs](https://www.edureka.co/blog/what-is-python/): \n",
        "\n",
        "This introduction is written for Python 3.6.7 but is generally applicable to other Python 3.x versions. \n",
        "\n",
        "The original material is Copyright (c) 2001-2018 Python Software Foundation.\n",
        "\n",
        "> **Note**: This notebook is designed to have you run code cells one by one, and several code cells contain deliberate errors for demonstration purposes. As a result, if you use the **Cell** > **Run All** command, some code cells past the error won't be run. To resume running the code in each case, use **Cell** > **Run All Below** from the cell after the error."
      ]
    },
    {
      "cell_type": "code",
      "metadata": {
        "colab": {
          "base_uri": "https://localhost:8080/"
        },
        "id": "T2-bch_p-dEh",
        "outputId": "28766fdd-a3ca-4c4a-f50a-70c7ec91c4ee"
      },
      "source": [
        "variable1 = 10\n",
        "print(variable1)"
      ],
      "execution_count": null,
      "outputs": [
        {
          "output_type": "stream",
          "name": "stdout",
          "text": [
            "10\n"
          ]
        }
      ]
    },
    {
      "cell_type": "code",
      "metadata": {
        "colab": {
          "base_uri": "https://localhost:8080/"
        },
        "id": "wVX4OO8q-c7s",
        "outputId": "c8953dd8-975a-4e87-e0a5-b73a82c881a9"
      },
      "source": [
        "variable1 = 15\n",
        "print(variable1)"
      ],
      "execution_count": null,
      "outputs": [
        {
          "output_type": "stream",
          "name": "stdout",
          "text": [
            "15\n"
          ]
        }
      ]
    },
    {
      "cell_type": "code",
      "metadata": {
        "id": "mBAurAHl4fXA",
        "colab": {
          "base_uri": "https://localhost:8080/"
        },
        "outputId": "b0a2c48c-417a-4be7-f3cd-3080ba09bb68"
      },
      "source": [
        "#Why Use Python for AI-ML - Code Simplicity\n",
        "# Printing a statement in Python\n",
        "print('Hello World')"
      ],
      "execution_count": null,
      "outputs": [
        {
          "output_type": "stream",
          "name": "stdout",
          "text": [
            "Hello World\n"
          ]
        }
      ]
    },
    {
      "cell_type": "code",
      "metadata": {
        "colab": {
          "base_uri": "https://localhost:8080/"
        },
        "id": "YWuFCDW52vGP",
        "outputId": "3380e1bb-f4a3-472c-f709-acfcb34a8099"
      },
      "source": [
        "print(500)"
      ],
      "execution_count": null,
      "outputs": [
        {
          "output_type": "stream",
          "name": "stdout",
          "text": [
            "500\n"
          ]
        }
      ]
    },
    {
      "cell_type": "code",
      "metadata": {
        "colab": {
          "base_uri": "https://localhost:8080/"
        },
        "id": "lq9tPL352zNr",
        "outputId": "f46ec892-3ccc-4767-f015-28ee5c2d85e6"
      },
      "source": [
        "print(variable1)"
      ],
      "execution_count": null,
      "outputs": [
        {
          "output_type": "stream",
          "name": "stdout",
          "text": [
            "15\n"
          ]
        }
      ]
    },
    {
      "cell_type": "code",
      "metadata": {
        "id": "B4-WUziJ3C-7"
      },
      "source": [
        "variable2 = 100\n",
        "variable3 = \"Deep Learning\""
      ],
      "execution_count": null,
      "outputs": []
    },
    {
      "cell_type": "code",
      "metadata": {
        "colab": {
          "base_uri": "https://localhost:8080/"
        },
        "id": "MyaRwx_n2949",
        "outputId": "251268b2-04ae-4ba3-9a11-4241d6ee7310"
      },
      "source": [
        "print(variable1,variable2, variable3)"
      ],
      "execution_count": null,
      "outputs": [
        {
          "output_type": "stream",
          "name": "stdout",
          "text": [
            "15 100 Deep Learning\n"
          ]
        }
      ]
    },
    {
      "cell_type": "code",
      "metadata": {
        "id": "a-bFFprT5Gwc",
        "colab": {
          "base_uri": "https://localhost:8080/"
        },
        "outputId": "9a7f120d-3ebf-4833-9619-7cf3acca5884"
      },
      "source": [
        "# Sum of two numbers in Python\n",
        "\n",
        "# Type 1 --> Its as easy as!\n",
        "10+20"
      ],
      "execution_count": null,
      "outputs": [
        {
          "output_type": "execute_result",
          "data": {
            "text/plain": [
              "30"
            ]
          },
          "metadata": {},
          "execution_count": 2
        }
      ]
    },
    {
      "cell_type": "code",
      "metadata": {
        "id": "bS_GD8GPwzt7",
        "colab": {
          "base_uri": "https://localhost:8080/"
        },
        "outputId": "7149cd7c-3d02-4a34-9c2f-a835fad450e9"
      },
      "source": [
        "#Type 2\n",
        "a = 10\n",
        "b = 20\n",
        "print(a+b)\n",
        "print(a*b)"
      ],
      "execution_count": null,
      "outputs": [
        {
          "output_type": "stream",
          "name": "stdout",
          "text": [
            "30\n",
            "200\n"
          ]
        }
      ]
    },
    {
      "cell_type": "markdown",
      "metadata": {
        "id": "JM3-AP211e0S"
      },
      "source": [
        "## Q. Can a non-programmer learn the Python language from a non-tech background? With just this language, is it possible to earn some passive income?\n",
        "\n",
        "There is no rule like people only from technical background can learn python (or any other programming language for that matter). People with any background can be a programmer, what it takes is practice (a lot of it, if you want to be best or at least better than the good ) and your thinking from coding perspective (Develop your thinking in terms of programing/coding, it will come with practice).\n",
        "\n",
        "You will find many examples who are best programmers in industry instead having non-tech background. Chemical engineers, Mechanical engineers, Mathematicians, Pharmacy background there are many of these.\n",
        "\n",
        "So, Yes! you can learn python and it doesn't matter what is your prior educational background is. Refer good books, online learning courses/channels. But remember, the skills you need as a programmer will only come with practice, so practice a lot, do it daily, I mean obviously how your current work-life balance permits. But you have to sweat to enjoy the fruits later.\n",
        "\n",
        "Now once you are good at it, you can look for a job(entry level) or as you mentioned passive you can do freelancing - build your profile strong. you can work part-time. There are many organizations who outsource their work, once you are in likewise group you will get many opportunities. And for that do some freelancing first, build your network."
      ]
    },
    {
      "cell_type": "markdown",
      "metadata": {
        "id": "5QH82sMiS_kh"
      },
      "source": [
        "## Comments\n",
        "\n",
        "Most of the examples in this notebook include comments. \n",
        "\n",
        "\n",
        "*   A Comments in Python start with the hash character, `#`\n",
        "*   A comment may appear at the start of a line or following whitespace or code, but not within a string literal\n",
        "*   A hash character within a string literal is just a hash character.\n",
        "*   Comments are used just to clarify the code and are not interpreted by python\n",
        "\n",
        "For example:"
      ]
    },
    {
      "cell_type": "code",
      "metadata": {
        "id": "ZVqLosoIDNIt",
        "colab": {
          "base_uri": "https://localhost:8080/"
        },
        "outputId": "16545825-2a2c-4423-bdb1-499e26a800f6"
      },
      "source": [
        "# this is the first comment\n",
        "sample = 1                 # and a comment on the same line as code\n",
        "# ... and now a third!\n",
        "STRING = \"# This is not a comment.\"\n",
        "print(STRING)"
      ],
      "execution_count": null,
      "outputs": [
        {
          "output_type": "stream",
          "name": "stdout",
          "text": [
            "# This is not a comment.\n"
          ]
        }
      ]
    },
    {
      "cell_type": "markdown",
      "metadata": {
        "id": "q_nir-wTVDty"
      },
      "source": [
        "##Accepting User Inputs"
      ]
    },
    {
      "cell_type": "markdown",
      "metadata": {
        "id": "1hyoZTyQVDtz"
      },
      "source": [
        "**input( )** accepts input and stores it as a string. Hence, if the user inputs a integer, the code should convert the string to an integer and then proceed."
      ]
    },
    {
      "cell_type": "code",
      "metadata": {
        "id": "HmJWJNL6VDt7",
        "colab": {
          "base_uri": "https://localhost:8080/"
        },
        "outputId": "120127a5-4056-4c22-f6bd-b02f724901f5"
      },
      "source": [
        "num1 =  input(\"Enter a number \\t\")"
      ],
      "execution_count": null,
      "outputs": [
        {
          "name": "stdout",
          "output_type": "stream",
          "text": [
            "Enter a number \t50\n"
          ]
        }
      ]
    },
    {
      "cell_type": "code",
      "metadata": {
        "id": "_5drdWc3W4kV",
        "colab": {
          "base_uri": "https://localhost:8080/",
          "height": 164
        },
        "outputId": "5195ab49-3935-4580-cfee-e1ae519c9c8d"
      },
      "source": [
        "print(num1+10) #This will generate an error because num1 is of type string, so you have to type cast num1 first"
      ],
      "execution_count": null,
      "outputs": [
        {
          "output_type": "error",
          "ename": "TypeError",
          "evalue": "ignored",
          "traceback": [
            "\u001b[0;31m---------------------------------------------------------------------------\u001b[0m",
            "\u001b[0;31mTypeError\u001b[0m                                 Traceback (most recent call last)",
            "\u001b[0;32m<ipython-input-6-5bcb5c7bba90>\u001b[0m in \u001b[0;36m<module>\u001b[0;34m()\u001b[0m\n\u001b[0;32m----> 1\u001b[0;31m \u001b[0mprint\u001b[0m\u001b[0;34m(\u001b[0m\u001b[0mnum1\u001b[0m\u001b[0;34m+\u001b[0m\u001b[0;36m10\u001b[0m\u001b[0;34m)\u001b[0m \u001b[0;31m#This will generate an error because num1 is of type string, so you have to type cast num1 first\u001b[0m\u001b[0;34m\u001b[0m\u001b[0;34m\u001b[0m\u001b[0m\n\u001b[0m",
            "\u001b[0;31mTypeError\u001b[0m: can only concatenate str (not \"int\") to str"
          ]
        }
      ]
    },
    {
      "cell_type": "code",
      "metadata": {
        "id": "h8eb-hN4VDt-",
        "colab": {
          "base_uri": "https://localhost:8080/"
        },
        "outputId": "b596c464-395c-4fea-be03-59ea7be3327d"
      },
      "source": [
        "num1 = int(num1)\n",
        "print(num1+10)"
      ],
      "execution_count": null,
      "outputs": [
        {
          "output_type": "stream",
          "name": "stdout",
          "text": [
            "60\n"
          ]
        }
      ]
    },
    {
      "cell_type": "code",
      "metadata": {
        "id": "fCee_ENZxvWO",
        "colab": {
          "base_uri": "https://localhost:8080/"
        },
        "outputId": "b584cbbe-3ec0-425b-b744-66a06c5a4880"
      },
      "source": [
        "a = int(input(\"Enter a number \"))\n",
        "b = int(input(\"Enter another number \"))\n",
        "sum = a + b\n",
        "print(\"Sum of {0} and {1} is {2}\" .format(a,b,sum))"
      ],
      "execution_count": null,
      "outputs": [
        {
          "output_type": "stream",
          "name": "stdout",
          "text": [
            "Enter a number 10\n",
            "Enter another number 20\n",
            "Sum of 10 and 20 is 30\n"
          ]
        }
      ]
    },
    {
      "cell_type": "markdown",
      "metadata": {
        "id": "uVQCM4FJ5Y_j"
      },
      "source": [
        "##Tokens in Python"
      ]
    },
    {
      "cell_type": "markdown",
      "metadata": {
        "id": "BFoo8f1R5cvX"
      },
      "source": [
        "“Basic building blocks written together to form a program is known as **Token**.”\n"
      ]
    },
    {
      "cell_type": "markdown",
      "metadata": {
        "id": "1wYGnuO552W9"
      },
      "source": [
        "###Types of Tokens in Python\n",
        "![](https://i.imgur.com/schSzJr.png)"
      ]
    },
    {
      "cell_type": "code",
      "metadata": {
        "id": "uRCCuajq5lHK",
        "colab": {
          "base_uri": "https://localhost:8080/"
        },
        "outputId": "7b411c5f-1159-497f-d49e-4f814b2af7df"
      },
      "source": [
        "# In the above example, sum of two numbers in Python:\n",
        "a = 10\n",
        "b = 20\n",
        "print(a+b)\n",
        "\n",
        "# Here 10,20 are literals, stored in variable(identifier) a, b. \n",
        "# print is a keyword and + is an operator"
      ],
      "execution_count": null,
      "outputs": [
        {
          "output_type": "stream",
          "name": "stdout",
          "text": [
            "30\n"
          ]
        }
      ]
    },
    {
      "cell_type": "markdown",
      "metadata": {
        "id": "GdTs5x_z23_A"
      },
      "source": [
        "## Literals"
      ]
    },
    {
      "cell_type": "code",
      "metadata": {
        "colab": {
          "base_uri": "https://localhost:8080/"
        },
        "id": "GHnRtOOt1yvD",
        "outputId": "876184d5-2336-4408-9ba5-b83635f53a97"
      },
      "source": [
        "a = 10\n",
        "b = 10.56\n",
        "c = 5+6j\n",
        "d = \"Hello\" #String\n",
        "e = True\n",
        "f = False\n",
        "print(type(a),type(b),type(c),type(d), type(e),type(f)) # Data type - values to be assigned"
      ],
      "execution_count": null,
      "outputs": [
        {
          "output_type": "stream",
          "name": "stdout",
          "text": [
            "<class 'int'> <class 'float'> <class 'complex'> <class 'str'> <class 'bool'> <class 'bool'>\n"
          ]
        }
      ]
    },
    {
      "cell_type": "code",
      "metadata": {
        "id": "0osRKqFf4_Ip"
      },
      "source": [
        "# True --> Camelcase - Boolean value\n",
        "# true --> Not a keyword/Boolean value"
      ],
      "execution_count": null,
      "outputs": []
    },
    {
      "cell_type": "code",
      "metadata": {
        "colab": {
          "base_uri": "https://localhost:8080/"
        },
        "id": "wujdMkJI4FRZ",
        "outputId": "778f4818-a31a-4157-a10a-92b2e7d5d686"
      },
      "source": [
        "#String data types - can be created with single quote as well\n",
        "e = 'python'\n",
        "print(type(e))"
      ],
      "execution_count": null,
      "outputs": [
        {
          "output_type": "stream",
          "name": "stdout",
          "text": [
            "<class 'str'>\n"
          ]
        }
      ]
    },
    {
      "cell_type": "markdown",
      "metadata": {
        "id": "VjIOsEt2Lj6i"
      },
      "source": [
        "##Identifiers in Python"
      ]
    },
    {
      "cell_type": "code",
      "metadata": {
        "id": "qexCjS4jLqw6",
        "colab": {
          "base_uri": "https://localhost:8080/"
        },
        "outputId": "467be2d7-eb41-4b5d-916d-388e7a7e7e49"
      },
      "source": [
        "Incentive = 1000\n",
        "total_sal = 10000 + Incentive\n",
        "\n",
        "# Incentive = 1500\n",
        "# total_sal = 10000 + Incentive\n",
        "\n",
        "print(total_sal)"
      ],
      "execution_count": null,
      "outputs": [
        {
          "output_type": "stream",
          "name": "stdout",
          "text": [
            "11000\n"
          ]
        }
      ]
    },
    {
      "cell_type": "code",
      "metadata": {
        "id": "qJofpxdAL7vt"
      },
      "source": [
        "var = 10\n",
        "Var = 'edureka!' #Python is case-sensitive\n",
        "print(var,Var)"
      ],
      "execution_count": null,
      "outputs": []
    },
    {
      "cell_type": "code",
      "metadata": {
        "id": "uF8v120m3RoB"
      },
      "source": [
        "\"\"\"\n",
        "### Rules\n",
        "1. Variable Names are case-sensitive\n",
        "2. Should begin with english letters or either underscore\n",
        "3. Variable names can be alphanumeric\n",
        "4. variable names cannot be a keyword\n",
        "\"\"\""
      ],
      "execution_count": null,
      "outputs": []
    },
    {
      "cell_type": "code",
      "metadata": {
        "id": "4XXzZC-oMjlF"
      },
      "source": [
        "var_2_1 = 100"
      ],
      "execution_count": null,
      "outputs": []
    },
    {
      "cell_type": "code",
      "metadata": {
        "id": "0uvmTdvIMt5m"
      },
      "source": [
        "_123p = 100"
      ],
      "execution_count": null,
      "outputs": []
    },
    {
      "cell_type": "code",
      "metadata": {
        "colab": {
          "base_uri": "https://localhost:8080/"
        },
        "id": "kWZLw__nNEaA",
        "outputId": "870d30b3-37c2-471a-b98d-1fd428615def"
      },
      "source": [
        "import keyword\n",
        "keyword.kwlist"
      ],
      "execution_count": null,
      "outputs": [
        {
          "output_type": "execute_result",
          "data": {
            "text/plain": [
              "['False',\n",
              " 'None',\n",
              " 'True',\n",
              " 'and',\n",
              " 'as',\n",
              " 'assert',\n",
              " 'async',\n",
              " 'await',\n",
              " 'break',\n",
              " 'class',\n",
              " 'continue',\n",
              " 'def',\n",
              " 'del',\n",
              " 'elif',\n",
              " 'else',\n",
              " 'except',\n",
              " 'finally',\n",
              " 'for',\n",
              " 'from',\n",
              " 'global',\n",
              " 'if',\n",
              " 'import',\n",
              " 'in',\n",
              " 'is',\n",
              " 'lambda',\n",
              " 'nonlocal',\n",
              " 'not',\n",
              " 'or',\n",
              " 'pass',\n",
              " 'raise',\n",
              " 'return',\n",
              " 'try',\n",
              " 'while',\n",
              " 'with',\n",
              " 'yield']"
            ]
          },
          "metadata": {},
          "execution_count": 16
        }
      ]
    },
    {
      "cell_type": "code",
      "metadata": {
        "colab": {
          "base_uri": "https://localhost:8080/",
          "height": 130
        },
        "id": "xu7Oa6OJMsVQ",
        "outputId": "def6739c-6622-4cc7-f887-9f170e676d2d"
      },
      "source": [
        "in = 100"
      ],
      "execution_count": null,
      "outputs": [
        {
          "output_type": "error",
          "ename": "SyntaxError",
          "evalue": "ignored",
          "traceback": [
            "\u001b[0;36m  File \u001b[0;32m\"<ipython-input-17-a013e2e46592>\"\u001b[0;36m, line \u001b[0;32m1\u001b[0m\n\u001b[0;31m    in = 100\u001b[0m\n\u001b[0m     ^\u001b[0m\n\u001b[0;31mSyntaxError\u001b[0m\u001b[0;31m:\u001b[0m invalid syntax\n"
          ]
        }
      ]
    },
    {
      "cell_type": "markdown",
      "metadata": {
        "id": "tpyIaXurM-tU"
      },
      "source": [
        "###Rules for naming an identifier"
      ]
    },
    {
      "cell_type": "code",
      "metadata": {
        "colab": {
          "base_uri": "https://localhost:8080/"
        },
        "id": "I2GMwk_OK5uP",
        "outputId": "ae0a1763-2256-4a8d-a245-afca89fe24ec"
      },
      "source": [
        "x = 10  #ignored\n",
        "print(x)"
      ],
      "execution_count": null,
      "outputs": [
        {
          "output_type": "stream",
          "name": "stdout",
          "text": [
            "10\n"
          ]
        }
      ]
    },
    {
      "cell_type": "code",
      "metadata": {
        "colab": {
          "base_uri": "https://localhost:8080/"
        },
        "id": "HDwLrTm0LFQP",
        "outputId": "bea07daa-1d4b-438f-9415-4f3b1a7c1b9f"
      },
      "source": [
        "x = 10\n",
        "# x = 15 - Single line comments\n",
        "print(x)"
      ],
      "execution_count": null,
      "outputs": [
        {
          "output_type": "stream",
          "name": "stdout",
          "text": [
            "10\n"
          ]
        }
      ]
    },
    {
      "cell_type": "code",
      "metadata": {
        "id": "GuBhElCuLiE2"
      },
      "source": [
        "FirstName = \"Edureka\""
      ],
      "execution_count": null,
      "outputs": []
    },
    {
      "cell_type": "code",
      "metadata": {
        "id": "WA6X-EBGxAyQ",
        "colab": {
          "base_uri": "https://localhost:8080/",
          "height": 147
        },
        "outputId": "e6683a0a-621e-4c79-d7b1-5a944b41a922"
      },
      "source": [
        "first name = 'Edureka'  # You will get a syntax error because you cannot use any spaces in between the variable name. \n",
        "# first_name = 'Edureka'"
      ],
      "execution_count": null,
      "outputs": [
        {
          "output_type": "error",
          "ename": "SyntaxError",
          "evalue": "ignored",
          "traceback": [
            "\u001b[0;36m  File \u001b[0;32m\"<ipython-input-3-091cf5313654>\"\u001b[0;36m, line \u001b[0;32m1\u001b[0m\n\u001b[0;31m    first name = 'Edureka'  # You will get a syntax error because you cannot use any spaces in between the variable name.\u001b[0m\n\u001b[0m             ^\u001b[0m\n\u001b[0;31mSyntaxError\u001b[0m\u001b[0;31m:\u001b[0m invalid syntax\n"
          ]
        }
      ]
    },
    {
      "cell_type": "code",
      "metadata": {
        "id": "TskQECL2NWAz",
        "colab": {
          "base_uri": "https://localhost:8080/",
          "height": 215
        },
        "outputId": "5bad9cb7-af2b-4d09-abb4-658b584585d1"
      },
      "source": [
        "Count = 10\n",
        "print(count) #You will get an error because Python is case-sensitive language ‘Count’ and ‘count’ are treated as two different variables.\n",
        "#print(Count) "
      ],
      "execution_count": null,
      "outputs": [
        {
          "output_type": "error",
          "ename": "NameError",
          "evalue": "ignored",
          "traceback": [
            "\u001b[0;31m---------------------------------------------------------------------------\u001b[0m",
            "\u001b[0;31mNameError\u001b[0m                                 Traceback (most recent call last)",
            "\u001b[0;32m<ipython-input-8-28f18f989010>\u001b[0m in \u001b[0;36m<module>\u001b[0;34m()\u001b[0m\n\u001b[1;32m      1\u001b[0m \u001b[0mCount\u001b[0m \u001b[0;34m=\u001b[0m \u001b[0;36m10\u001b[0m\u001b[0;34m\u001b[0m\u001b[0;34m\u001b[0m\u001b[0m\n\u001b[0;32m----> 2\u001b[0;31m \u001b[0mprint\u001b[0m\u001b[0;34m(\u001b[0m\u001b[0mcount\u001b[0m\u001b[0;34m)\u001b[0m \u001b[0;31m#You will get an error because Python is case-sensitive language ‘Count’ and ‘count’ are treated as two different variables.\u001b[0m\u001b[0;34m\u001b[0m\u001b[0;34m\u001b[0m\u001b[0m\n\u001b[0m\u001b[1;32m      3\u001b[0m \u001b[0;31m#print(Count)\u001b[0m\u001b[0;34m\u001b[0m\u001b[0;34m\u001b[0m\u001b[0;34m\u001b[0m\u001b[0m\n",
            "\u001b[0;31mNameError\u001b[0m: name 'count' is not defined"
          ]
        }
      ]
    },
    {
      "cell_type": "code",
      "metadata": {
        "id": "8jeZDWqoNrji",
        "colab": {
          "base_uri": "https://localhost:8080/",
          "height": 130
        },
        "outputId": "e24acaeb-6183-43fa-86fa-0d73f7693d40"
      },
      "source": [
        "for = 10 # You will get an error because the reserved keyword cannot be used as variable names\n",
        "# _for = 10"
      ],
      "execution_count": null,
      "outputs": [
        {
          "output_type": "error",
          "ename": "SyntaxError",
          "evalue": "ignored",
          "traceback": [
            "\u001b[0;36m  File \u001b[0;32m\"<ipython-input-9-bb517975d852>\"\u001b[0;36m, line \u001b[0;32m1\u001b[0m\n\u001b[0;31m    for = 10 # You will get an error because the reserved keyword cannot be used as variable names\u001b[0m\n\u001b[0m        ^\u001b[0m\n\u001b[0;31mSyntaxError\u001b[0m\u001b[0;31m:\u001b[0m invalid syntax\n"
          ]
        }
      ]
    },
    {
      "cell_type": "code",
      "metadata": {
        "colab": {
          "base_uri": "https://localhost:8080/"
        },
        "id": "5c8FWbN037vo",
        "outputId": "10f48c72-3a8e-4d4f-d0fd-50bc3dd0f058"
      },
      "source": [
        "#Display all keyword list\n",
        "import keyword\n",
        "keyword.kwlist"
      ],
      "execution_count": null,
      "outputs": [
        {
          "output_type": "execute_result",
          "data": {
            "text/plain": [
              "['False',\n",
              " 'None',\n",
              " 'True',\n",
              " 'and',\n",
              " 'as',\n",
              " 'assert',\n",
              " 'async',\n",
              " 'await',\n",
              " 'break',\n",
              " 'class',\n",
              " 'continue',\n",
              " 'def',\n",
              " 'del',\n",
              " 'elif',\n",
              " 'else',\n",
              " 'except',\n",
              " 'finally',\n",
              " 'for',\n",
              " 'from',\n",
              " 'global',\n",
              " 'if',\n",
              " 'import',\n",
              " 'in',\n",
              " 'is',\n",
              " 'lambda',\n",
              " 'nonlocal',\n",
              " 'not',\n",
              " 'or',\n",
              " 'pass',\n",
              " 'raise',\n",
              " 'return',\n",
              " 'try',\n",
              " 'while',\n",
              " 'with',\n",
              " 'yield']"
            ]
          },
          "metadata": {},
          "execution_count": 10
        }
      ]
    },
    {
      "cell_type": "code",
      "metadata": {
        "id": "kw8RPTs3N4vL"
      },
      "source": [
        "#9var = 10 # You will get an error because variable name cannot start with a number. It only starts with _, A-Z, a-z\n",
        "var9 = 10"
      ],
      "execution_count": null,
      "outputs": []
    },
    {
      "cell_type": "code",
      "metadata": {
        "id": "xaH-_NaA64an"
      },
      "source": [
        "# number + number --> Data type to be same\n",
        "# string + number --> get error (convert the value from one data type to another type) - casting"
      ],
      "execution_count": null,
      "outputs": []
    },
    {
      "cell_type": "code",
      "metadata": {
        "id": "iFID6YwpORkn",
        "colab": {
          "base_uri": "https://localhost:8080/"
        },
        "outputId": "2a2d26fe-7a7e-40aa-a2ba-d4e345c0b944"
      },
      "source": [
        "#print('Edureka'+10) #  You are getting this TypeError because you cannot add string with integer\n",
        "print('Edureka + 10')\n",
        "print('Edureka' + '10')"
      ],
      "execution_count": null,
      "outputs": [
        {
          "output_type": "stream",
          "name": "stdout",
          "text": [
            "Edureka + 10\n",
            "Edureka10\n"
          ]
        }
      ]
    },
    {
      "cell_type": "code",
      "metadata": {
        "id": "cHmATDYdOxHY",
        "colab": {
          "base_uri": "https://localhost:8080/",
          "height": 129
        },
        "outputId": "0bb0d86b-f0af-44f4-9656-5d2e91851539"
      },
      "source": [
        "$at = 10 #You are getting this error as only special character allowed in Python is underscore(_)\n",
        "# _at = 10\n",
        "# at = 10"
      ],
      "execution_count": null,
      "outputs": [
        {
          "output_type": "error",
          "ename": "SyntaxError",
          "evalue": "ignored",
          "traceback": [
            "\u001b[0;36m  File \u001b[0;32m\"<ipython-input-37-7a73ee8aa76a>\"\u001b[0;36m, line \u001b[0;32m1\u001b[0m\n\u001b[0;31m    $at = 10 #You are getting this error as only special character allowed in Python is underscore(_)\u001b[0m\n\u001b[0m    ^\u001b[0m\n\u001b[0;31mSyntaxError\u001b[0m\u001b[0;31m:\u001b[0m invalid syntax\n"
          ]
        }
      ]
    },
    {
      "cell_type": "code",
      "metadata": {
        "id": "LybH2UYGxtIS",
        "colab": {
          "base_uri": "https://localhost:8080/",
          "height": 129
        },
        "outputId": "ee664930-3230-49ce-fb8f-06b9e3bd25fc"
      },
      "source": [
        "9ghjk=10"
      ],
      "execution_count": null,
      "outputs": [
        {
          "output_type": "error",
          "ename": "SyntaxError",
          "evalue": "ignored",
          "traceback": [
            "\u001b[0;36m  File \u001b[0;32m\"<ipython-input-5-1e13b19b3023>\"\u001b[0;36m, line \u001b[0;32m1\u001b[0m\n\u001b[0;31m    9ghjk=10\u001b[0m\n\u001b[0m        ^\u001b[0m\n\u001b[0;31mSyntaxError\u001b[0m\u001b[0;31m:\u001b[0m invalid syntax\n"
          ]
        }
      ]
    },
    {
      "cell_type": "markdown",
      "metadata": {
        "id": "kftINPtVPOP8"
      },
      "source": [
        "##Operators in Python"
      ]
    },
    {
      "cell_type": "markdown",
      "metadata": {
        "id": "unRY5oWzTNhR"
      },
      "source": [
        "### Arithmetic Operators and Built-in Functions - Using Python as a calculator\n",
        "The following are examples of the kinds of Python expressions that we can use.\n",
        "\n",
        "| Operator | Description |\n",
        "|----|---|\n",
        "| +  | Addition |\n",
        "| -  | Subtraction |\n",
        "| /  | division |\n",
        "| %  | mod (remainder) |\n",
        "| *  | multiplication |\n",
        "| //  | floor division |\n",
        "| **  | to the power of |"
      ]
    },
    {
      "cell_type": "code",
      "metadata": {
        "id": "FUioDzb18WTG"
      },
      "source": [
        "#operand 1 & operand2\n",
        "# operand_1 (operator) operand2 --> syntax"
      ],
      "execution_count": null,
      "outputs": []
    },
    {
      "cell_type": "code",
      "metadata": {
        "id": "vcGojFZ4TNhT",
        "colab": {
          "base_uri": "https://localhost:8080/"
        },
        "outputId": "e3083dec-dbb2-49f0-9c90-9b8ccfb5da21"
      },
      "source": [
        "6 + 5"
      ],
      "execution_count": null,
      "outputs": [
        {
          "output_type": "execute_result",
          "data": {
            "text/plain": [
              "11"
            ]
          },
          "metadata": {},
          "execution_count": 13
        }
      ]
    },
    {
      "cell_type": "code",
      "metadata": {
        "id": "wKXjWA9LTNhX",
        "colab": {
          "base_uri": "https://localhost:8080/"
        },
        "outputId": "5c64a3e0-9531-417b-e692-62a84439c7aa"
      },
      "source": [
        "20 - 13.5"
      ],
      "execution_count": null,
      "outputs": [
        {
          "output_type": "execute_result",
          "data": {
            "text/plain": [
              "6.5"
            ]
          },
          "metadata": {},
          "execution_count": 14
        }
      ]
    },
    {
      "cell_type": "code",
      "metadata": {
        "id": "wZdkY8n2TNha",
        "colab": {
          "base_uri": "https://localhost:8080/"
        },
        "outputId": "671ce187-f9b9-4aee-abd4-38e89c0d6810"
      },
      "source": [
        "3.14 * 4"
      ],
      "execution_count": null,
      "outputs": [
        {
          "output_type": "execute_result",
          "data": {
            "text/plain": [
              "12.56"
            ]
          },
          "metadata": {},
          "execution_count": 15
        }
      ]
    },
    {
      "cell_type": "markdown",
      "metadata": {
        "id": "6VbZR8kBTNhd"
      },
      "source": [
        "Each Python value has a type.  `6`, `5`, `20`, and `6` have type `int`.  `12.5` and `3.14` have type `float`. Float stands for *floating point number*. Floats are approximations to the real numbers."
      ]
    },
    {
      "cell_type": "markdown",
      "metadata": {
        "id": "CZvGqgkaTNhe"
      },
      "source": [
        "Python has two different division operators: `/` produces a `float` and `//` is integer division (it produces an `int`)."
      ]
    },
    {
      "cell_type": "code",
      "metadata": {
        "id": "0UQ9fG-aTNhf",
        "colab": {
          "base_uri": "https://localhost:8080/"
        },
        "outputId": "927c94df-3e7e-4bd2-ba93-100f9103f20d"
      },
      "source": [
        "8 / 4"
      ],
      "execution_count": null,
      "outputs": [
        {
          "output_type": "execute_result",
          "data": {
            "text/plain": [
              "2.0"
            ]
          },
          "metadata": {},
          "execution_count": 16
        }
      ]
    },
    {
      "cell_type": "code",
      "metadata": {
        "colab": {
          "base_uri": "https://localhost:8080/"
        },
        "id": "Y-adLFub9h-3",
        "outputId": "93892f30-2516-4c43-a396-104f3d9bc4e1"
      },
      "source": [
        "1000/3"
      ],
      "execution_count": null,
      "outputs": [
        {
          "output_type": "execute_result",
          "data": {
            "text/plain": [
              "333.3333333333333"
            ]
          },
          "metadata": {},
          "execution_count": 17
        }
      ]
    },
    {
      "cell_type": "code",
      "metadata": {
        "colab": {
          "base_uri": "https://localhost:8080/"
        },
        "id": "vRmilYos9mGf",
        "outputId": "0a163e40-dee6-4136-b307-e67d6cc6e619"
      },
      "source": [
        "1000 // 3"
      ],
      "execution_count": null,
      "outputs": [
        {
          "output_type": "execute_result",
          "data": {
            "text/plain": [
              "333"
            ]
          },
          "metadata": {},
          "execution_count": 18
        }
      ]
    },
    {
      "cell_type": "code",
      "metadata": {
        "colab": {
          "base_uri": "https://localhost:8080/"
        },
        "id": "KV8ZqXmF9wKZ",
        "outputId": "81d3f259-a909-44ac-849e-bf85aaed67e1"
      },
      "source": [
        "1001 // 3 , 1001/3"
      ],
      "execution_count": null,
      "outputs": [
        {
          "output_type": "execute_result",
          "data": {
            "text/plain": [
              "(333, 333.6666666666667)"
            ]
          },
          "metadata": {},
          "execution_count": 20
        }
      ]
    },
    {
      "cell_type": "code",
      "metadata": {
        "id": "gGT4Lq6A9DlD"
      },
      "source": [
        "# 1000 data"
      ],
      "execution_count": null,
      "outputs": []
    },
    {
      "cell_type": "code",
      "metadata": {
        "id": "21gIXq0xTNhi",
        "colab": {
          "base_uri": "https://localhost:8080/",
          "height": 34
        },
        "outputId": "f6a10fa2-8246-4554-b7f9-7373c15e15a9"
      },
      "source": [
        "8 // 4 #"
      ],
      "execution_count": null,
      "outputs": [
        {
          "output_type": "execute_result",
          "data": {
            "text/plain": [
              "2"
            ]
          },
          "metadata": {
            "tags": []
          },
          "execution_count": 95
        }
      ]
    },
    {
      "cell_type": "code",
      "metadata": {
        "id": "jgSSweONTNhl"
      },
      "source": [
        "# When writing programs, we can put in English language explanations called comments.\n",
        "# Whatever comes after the # symbol is not executed."
      ],
      "execution_count": null,
      "outputs": []
    },
    {
      "cell_type": "code",
      "metadata": {
        "id": "nq6xHjgXTNho",
        "colab": {
          "base_uri": "https://localhost:8080/"
        },
        "outputId": "dce332ae-b639-4051-ce2e-1bfc6f9399f5"
      },
      "source": [
        "2 ** 5  # 2 to the power of 5"
      ],
      "execution_count": null,
      "outputs": [
        {
          "output_type": "execute_result",
          "data": {
            "text/plain": [
              "32"
            ]
          },
          "metadata": {},
          "execution_count": 21
        }
      ]
    },
    {
      "cell_type": "code",
      "metadata": {
        "colab": {
          "base_uri": "https://localhost:8080/"
        },
        "id": "_yvqaLe--SUW",
        "outputId": "3b15b729-e163-4fa9-ab1a-e5ca29880e5b"
      },
      "source": [
        "2 ** 3"
      ],
      "execution_count": null,
      "outputs": [
        {
          "output_type": "execute_result",
          "data": {
            "text/plain": [
              "8"
            ]
          },
          "metadata": {},
          "execution_count": 22
        }
      ]
    },
    {
      "cell_type": "code",
      "metadata": {
        "id": "uYUFjCuwTNhu",
        "colab": {
          "base_uri": "https://localhost:8080/",
          "height": 34
        },
        "outputId": "082c161b-b749-401a-e5d1-53b88a0348e5"
      },
      "source": [
        "# The % operator gives the remainder of a division.\n",
        "# 10 % 3 gives the remainder of 10 // 3\n",
        "10 % 3"
      ],
      "execution_count": null,
      "outputs": [
        {
          "output_type": "execute_result",
          "data": {
            "text/plain": [
              "1"
            ]
          },
          "metadata": {
            "tags": []
          },
          "execution_count": 98
        }
      ]
    },
    {
      "cell_type": "code",
      "metadata": {
        "colab": {
          "base_uri": "https://localhost:8080/"
        },
        "id": "L5Iz3wGB-wZV",
        "outputId": "feac504c-5ba2-4b8f-a1fe-ea3d99e76f37"
      },
      "source": [
        "11 % 3"
      ],
      "execution_count": null,
      "outputs": [
        {
          "output_type": "execute_result",
          "data": {
            "text/plain": [
              "2"
            ]
          },
          "metadata": {},
          "execution_count": 23
        }
      ]
    },
    {
      "cell_type": "code",
      "metadata": {
        "colab": {
          "base_uri": "https://localhost:8080/"
        },
        "id": "DObw2A0l-8JE",
        "outputId": "a3700d32-6ff9-491a-891e-44fa8f6774e8"
      },
      "source": [
        "var = 100\n",
        "var % 3"
      ],
      "execution_count": null,
      "outputs": [
        {
          "output_type": "execute_result",
          "data": {
            "text/plain": [
              "1"
            ]
          },
          "metadata": {},
          "execution_count": 24
        }
      ]
    },
    {
      "cell_type": "code",
      "metadata": {
        "colab": {
          "base_uri": "https://localhost:8080/"
        },
        "id": "1Lk2mqxf_XQJ",
        "outputId": "cf403d36-9e09-42b7-e51f-99587389ec57"
      },
      "source": [
        "-var # Negation "
      ],
      "execution_count": null,
      "outputs": [
        {
          "output_type": "execute_result",
          "data": {
            "text/plain": [
              "-100"
            ]
          },
          "metadata": {},
          "execution_count": 26
        }
      ]
    },
    {
      "cell_type": "markdown",
      "metadata": {
        "id": "c4Xwz-kgTNhy"
      },
      "source": [
        "In other words, the fraction 10 / 3 can be rewritten as 3 1/3, so the remainder is `1`."
      ]
    },
    {
      "cell_type": "markdown",
      "metadata": {
        "id": "_IHV0KZCTNhy"
      },
      "source": [
        "Operator order of precedence (from highest to lowest)\n",
        "\n",
        "- `**`\n",
        "\n",
        "- `-` (negation)\n",
        "\n",
        "- `*`, `/`, `//`, `%` (left to right)\n",
        "\n",
        "- `+` (addition), `-` (subtraction) (left to right)"
      ]
    },
    {
      "cell_type": "code",
      "metadata": {
        "colab": {
          "base_uri": "https://localhost:8080/"
        },
        "id": "KkrBePiGAKfg",
        "outputId": "07b6c9a9-fc27-4f20-9f37-3ddcb1243271"
      },
      "source": [
        "11 ** 2 + 5**2 *2 + 100 // 2 - 50"
      ],
      "execution_count": null,
      "outputs": [
        {
          "output_type": "execute_result",
          "data": {
            "text/plain": [
              "171"
            ]
          },
          "metadata": {},
          "execution_count": 28
        }
      ]
    },
    {
      "cell_type": "code",
      "metadata": {
        "colab": {
          "base_uri": "https://localhost:8080/"
        },
        "id": "-IMVNF6q_mIO",
        "outputId": "bf9529a5-c326-451b-95f6-c8aa3ead9dc9"
      },
      "source": [
        "#Experiment\n",
        "10 ** 2 *4 + 10 /5 - 2"
      ],
      "execution_count": null,
      "outputs": [
        {
          "output_type": "execute_result",
          "data": {
            "text/plain": [
              "400.0"
            ]
          },
          "metadata": {},
          "execution_count": 27
        }
      ]
    },
    {
      "cell_type": "markdown",
      "metadata": {
        "id": "UqRl5T54TNhz"
      },
      "source": [
        "#### Encountering Errors"
      ]
    },
    {
      "cell_type": "markdown",
      "metadata": {
        "id": "zAIHgj7VTNhz"
      },
      "source": [
        "When programming, it is common to encounter errors.  You will learn how to interpret the error messages, so that you can fix your code.  Here are a few examples:"
      ]
    },
    {
      "cell_type": "code",
      "metadata": {
        "id": "LD6ZdjQvTNh0",
        "colab": {
          "base_uri": "https://localhost:8080/",
          "height": 131
        },
        "outputId": "71cc804c-0fac-4e9e-9c02-22f24170d1d0"
      },
      "source": [
        "3 + "
      ],
      "execution_count": null,
      "outputs": [
        {
          "output_type": "error",
          "ename": "SyntaxError",
          "evalue": "ignored",
          "traceback": [
            "\u001b[0;36m  File \u001b[0;32m\"<ipython-input-29-8349edc6a237>\"\u001b[0;36m, line \u001b[0;32m1\u001b[0m\n\u001b[0;31m    3 +\u001b[0m\n\u001b[0m        ^\u001b[0m\n\u001b[0;31mSyntaxError\u001b[0m\u001b[0;31m:\u001b[0m invalid syntax\n"
          ]
        }
      ]
    },
    {
      "cell_type": "code",
      "metadata": {
        "id": "GezIHIurTNh3",
        "colab": {
          "base_uri": "https://localhost:8080/",
          "height": 131
        },
        "outputId": "948cbecb-4771-4ecc-f439-219a65e19b7d"
      },
      "source": [
        "4 + 5 ) * 2"
      ],
      "execution_count": null,
      "outputs": [
        {
          "output_type": "error",
          "ename": "SyntaxError",
          "evalue": "ignored",
          "traceback": [
            "\u001b[0;36m  File \u001b[0;32m\"<ipython-input-30-a1d07d20c86c>\"\u001b[0;36m, line \u001b[0;32m1\u001b[0m\n\u001b[0;31m    4 + 5 ) * 2\u001b[0m\n\u001b[0m          ^\u001b[0m\n\u001b[0;31mSyntaxError\u001b[0m\u001b[0;31m:\u001b[0m invalid syntax\n"
          ]
        }
      ]
    },
    {
      "cell_type": "code",
      "metadata": {
        "id": "m-yLJ34dTNh7",
        "colab": {
          "base_uri": "https://localhost:8080/",
          "height": 131
        },
        "outputId": "2218ee19-d330-4818-8af9-dec59e05673c"
      },
      "source": [
        "2 * * 5"
      ],
      "execution_count": null,
      "outputs": [
        {
          "output_type": "error",
          "ename": "SyntaxError",
          "evalue": "ignored",
          "traceback": [
            "\u001b[0;36m  File \u001b[0;32m\"<ipython-input-31-bf3d38745370>\"\u001b[0;36m, line \u001b[0;32m1\u001b[0m\n\u001b[0;31m    2 * * 5\u001b[0m\n\u001b[0m        ^\u001b[0m\n\u001b[0;31mSyntaxError\u001b[0m\u001b[0;31m:\u001b[0m invalid syntax\n"
          ]
        }
      ]
    },
    {
      "cell_type": "code",
      "metadata": {
        "id": "u7mn7tfkTNh9",
        "colab": {
          "base_uri": "https://localhost:8080/",
          "height": 163
        },
        "outputId": "e2bba197-2f61-480a-a53f-e44460be1fbf"
      },
      "source": [
        "9 / 0"
      ],
      "execution_count": null,
      "outputs": [
        {
          "output_type": "error",
          "ename": "ZeroDivisionError",
          "evalue": "ignored",
          "traceback": [
            "\u001b[0;31m---------------------------------------------------------------------------\u001b[0m",
            "\u001b[0;31mZeroDivisionError\u001b[0m                         Traceback (most recent call last)",
            "\u001b[0;32m<ipython-input-102-cb7aab57c3ef>\u001b[0m in \u001b[0;36m<module>\u001b[0;34m()\u001b[0m\n\u001b[0;32m----> 1\u001b[0;31m \u001b[0;36m9\u001b[0m \u001b[0;34m/\u001b[0m \u001b[0;36m0\u001b[0m\u001b[0;34m\u001b[0m\u001b[0;34m\u001b[0m\u001b[0m\n\u001b[0m",
            "\u001b[0;31mZeroDivisionError\u001b[0m: division by zero"
          ]
        }
      ]
    },
    {
      "cell_type": "markdown",
      "metadata": {
        "id": "7ALUUVJRTNiB"
      },
      "source": [
        "#### Practice Exercise: Writing expressions\n",
        "\n",
        "1. A patient just turned 95 years old.  Write a Python expression to calculate her age in months.\n",
        "2. A father reports that his son's temperature was 39.1 degrees Celsius when measured at home.  Write an expression to covert the temperature from Celsius to Fahreneheit.  \n",
        "**Hint:** To convert Celsius to Fahreneheit Multiply by 9, divide by 5, and then add 32."
      ]
    },
    {
      "cell_type": "code",
      "metadata": {
        "id": "bCW9GYYD5jfP",
        "colab": {
          "base_uri": "https://localhost:8080/"
        },
        "outputId": "3c04acaa-9320-441e-9df5-ec54787c8ae3"
      },
      "source": [
        "#Space for Exercise 1\n",
        "# Hint - create a variable , perform required action using expression, print the output\n",
        "age = 95\n",
        "m = 12\n",
        "\n",
        "print(\"Age in Months\",age*m)"
      ],
      "execution_count": null,
      "outputs": [
        {
          "output_type": "stream",
          "name": "stdout",
          "text": [
            "Age in Months 1140\n"
          ]
        }
      ]
    },
    {
      "cell_type": "code",
      "metadata": {
        "id": "woP-3K0G9aBK"
      },
      "source": [
        "#Space for Exercise 2\n"
      ],
      "execution_count": null,
      "outputs": []
    },
    {
      "cell_type": "markdown",
      "metadata": {
        "id": "9wuz8A80VDtf"
      },
      "source": [
        "####Simplifying Arithmetic Operations"
      ]
    },
    {
      "cell_type": "markdown",
      "metadata": {
        "id": "WqSg0wyxVDtf"
      },
      "source": [
        "**round( )** function rounds the input value to a specified number of places or to the nearest integer. "
      ]
    },
    {
      "cell_type": "code",
      "metadata": {
        "scrolled": false,
        "id": "RJVoNxKmVDtg",
        "colab": {
          "base_uri": "https://localhost:8080/"
        },
        "outputId": "ae349025-c479-4047-94bb-fab20fee9552"
      },
      "source": [
        "print(round(10.636985))\n",
        "print(round(115.36925, 2))"
      ],
      "execution_count": null,
      "outputs": [
        {
          "output_type": "stream",
          "name": "stdout",
          "text": [
            "11\n",
            "115.37\n"
          ]
        }
      ]
    },
    {
      "cell_type": "markdown",
      "metadata": {
        "id": "vmnrQSSQVDti"
      },
      "source": [
        "**complex( )** is used to define a complex number and **abs( )** outputs the absolute value of the same."
      ]
    },
    {
      "cell_type": "code",
      "metadata": {
        "colab": {
          "base_uri": "https://localhost:8080/"
        },
        "id": "02V6wWW7IiAf",
        "outputId": "fe05d59d-3be9-4d36-a345-53d2c7e79eb7"
      },
      "source": [
        "c = 15 + 2j\n",
        "type(c),abs(c)"
      ],
      "execution_count": null,
      "outputs": [
        {
          "output_type": "execute_result",
          "data": {
            "text/plain": [
              "(complex, 15.132745950421556)"
            ]
          },
          "metadata": {},
          "execution_count": 38
        }
      ]
    },
    {
      "cell_type": "code",
      "metadata": {
        "id": "2TzGEcNcVDti",
        "colab": {
          "base_uri": "https://localhost:8080/",
          "height": 34
        },
        "outputId": "dfaf5187-d214-4439-ee53-63ff7e24de4f"
      },
      "source": [
        "c =complex('5+2j')\n",
        "print(abs(c))"
      ],
      "execution_count": null,
      "outputs": [
        {
          "output_type": "stream",
          "text": [
            "5.385164807134504\n"
          ],
          "name": "stdout"
        }
      ]
    },
    {
      "cell_type": "markdown",
      "metadata": {
        "id": "STc5qwDxVDtl"
      },
      "source": [
        "**divmod(x,y)** outputs the quotient and the remainder in a tuple(you will be learning about it in the further chapters) in the format (quotient, remainder). "
      ]
    },
    {
      "cell_type": "code",
      "metadata": {
        "id": "9VKGXreIVDtl",
        "colab": {
          "base_uri": "https://localhost:8080/"
        },
        "outputId": "686cf75d-3ca6-4872-f02d-da1f17d23d3e"
      },
      "source": [
        "divmod(9,2)"
      ],
      "execution_count": null,
      "outputs": [
        {
          "output_type": "execute_result",
          "data": {
            "text/plain": [
              "(4, 1)"
            ]
          },
          "metadata": {},
          "execution_count": 39
        }
      ]
    },
    {
      "cell_type": "markdown",
      "metadata": {
        "id": "xWtI3WxLVDts"
      },
      "source": [
        "**pow(x,y,z)** can be used to find the power $x^y$ also the mod of the resulting value with the third specified number can be found i.e. : ($x^y$ % z)."
      ]
    },
    {
      "cell_type": "code",
      "metadata": {
        "colab": {
          "base_uri": "https://localhost:8080/"
        },
        "id": "GN4MAb8pJLNQ",
        "outputId": "3077c9ac-ea2e-4540-ea05-ee7107235ced"
      },
      "source": [
        "print(pow(2,3)) # 2**3"
      ],
      "execution_count": null,
      "outputs": [
        {
          "output_type": "stream",
          "name": "stdout",
          "text": [
            "8\n"
          ]
        }
      ]
    },
    {
      "cell_type": "code",
      "metadata": {
        "colab": {
          "base_uri": "https://localhost:8080/"
        },
        "id": "Nxd-eXz8JXMj",
        "outputId": "b3d671ce-28aa-44e0-eac9-a6561bd6c730"
      },
      "source": [
        "27 % 5"
      ],
      "execution_count": null,
      "outputs": [
        {
          "output_type": "execute_result",
          "data": {
            "text/plain": [
              "2"
            ]
          },
          "metadata": {},
          "execution_count": 42
        }
      ]
    },
    {
      "cell_type": "code",
      "metadata": {
        "id": "gXJiJl5SVDtt",
        "colab": {
          "base_uri": "https://localhost:8080/"
        },
        "outputId": "67ad863a-1f96-4b75-f55f-1f841cce210d"
      },
      "source": [
        "print(pow(2,3))\n",
        "print(pow(3,3,5)) # 27%5"
      ],
      "execution_count": null,
      "outputs": [
        {
          "output_type": "stream",
          "name": "stdout",
          "text": [
            "8\n",
            "2\n"
          ]
        }
      ]
    },
    {
      "cell_type": "markdown",
      "metadata": {
        "id": "WbRneFDQd_W9"
      },
      "source": [
        "###Assignment Operator\n",
        "Used to assign value to a variable"
      ]
    },
    {
      "cell_type": "markdown",
      "metadata": {
        "id": "3T-GCHHQeQrh"
      },
      "source": [
        "| Operator | Example | Similar to \n",
        "|----------|---------|----------|\n",
        "| = |x=10 |x = 10\n",
        "| +=  | x+=5 | x = x + 5\n",
        "| -= | x-=5 | x = x - 5\n",
        "| *=  | x*=5 |x = x * 5 \n",
        "| /=  | x/=5 |x = x / 5 \n",
        "| %=  | x%=5 |x = x % 5 \n",
        "| **=  | x**=5 |x = x ** 5\n",
        "| &=  | x&=5 |x = x & 5\n",
        "| ^=  | x^=5 |x = x ^ 5\n",
        "| <<=  | x<<=5 |x = x << 5\n",
        " \n"
      ]
    },
    {
      "cell_type": "code",
      "metadata": {
        "colab": {
          "base_uri": "https://localhost:8080/"
        },
        "id": "nN_APsIYNXpw",
        "outputId": "c4bd4ce3-c6ef-474a-ebbe-0be459c2f630"
      },
      "source": [
        "x = 5\n",
        "x += 5\n",
        "print(x)"
      ],
      "execution_count": null,
      "outputs": [
        {
          "output_type": "stream",
          "name": "stdout",
          "text": [
            "10\n"
          ]
        }
      ]
    },
    {
      "cell_type": "code",
      "metadata": {
        "colab": {
          "base_uri": "https://localhost:8080/"
        },
        "id": "nYCHBIzQNgzd",
        "outputId": "658ce975-cbe9-48a9-aa75-7015b7a029ec"
      },
      "source": [
        "x *= 5\n",
        "print(x)"
      ],
      "execution_count": null,
      "outputs": [
        {
          "output_type": "stream",
          "name": "stdout",
          "text": [
            "50\n"
          ]
        }
      ]
    },
    {
      "cell_type": "markdown",
      "metadata": {
        "id": "sUhY9kwHSb91"
      },
      "source": [
        "### Comparison Operators \n",
        "\n",
        "These operators will allow us to compare variables and output a Boolean value (True or False). \n",
        "\n",
        "<h3> Table of Comparison Operators </h3><p>  In the table below, consider a=3 and b=4.</p>\n",
        "\n",
        "<table class=\"table table-bordered\">\n",
        "<tr>\n",
        "<th style=\"width:10%\">Operator</th><th style=\"width:45%\">Description</th><th>Example</th>\n",
        "</tr>\n",
        "<tr>\n",
        "<td>==</td>\n",
        "<td>If the values of two operands are equal, then the condition becomes true.</td>\n",
        "<td> (a == b) is not true.</td>\n",
        "</tr>\n",
        "<tr>\n",
        "<td>!=</td>\n",
        "<td>If values of two operands are not equal, then condition becomes true.</td>\n",
        "<td>(a != b) is true</td>\n",
        "</tr>\n",
        "<tr>\n",
        "<td>&gt;</td>\n",
        "<td>If the value of left operand is greater than the value of right operand, then condition becomes true.</td>\n",
        "<td> (a &gt; b) is not true.</td>\n",
        "</tr>\n",
        "<tr>\n",
        "<td>&lt;</td>\n",
        "<td>If the value of left operand is less than the value of right operand, then condition becomes true.</td>\n",
        "<td> (a &lt; b) is true.</td>\n",
        "</tr>\n",
        "<tr>\n",
        "<td>&gt;=</td>\n",
        "<td>If the value of left operand is greater than or equal to the value of right operand, then condition becomes true.</td>\n",
        "<td> (a &gt;= b) is not true. </td>\n",
        "</tr>\n",
        "<tr>\n",
        "<td>&lt;=</td>\n",
        "<td>If the value of left operand is less than or equal to the value of right operand, then condition becomes true.</td>\n",
        "<td> (a &lt;= b) is true. </td>\n",
        "</tr>\n",
        "</table>"
      ]
    },
    {
      "cell_type": "code",
      "metadata": {
        "colab": {
          "base_uri": "https://localhost:8080/"
        },
        "id": "oBC2CDfXOzwd",
        "outputId": "29a62780-fb7e-4111-91dc-65d5814e2870"
      },
      "source": [
        "50 != 2"
      ],
      "execution_count": null,
      "outputs": [
        {
          "output_type": "execute_result",
          "data": {
            "text/plain": [
              "True"
            ]
          },
          "metadata": {},
          "execution_count": 50
        }
      ]
    },
    {
      "cell_type": "code",
      "metadata": {
        "colab": {
          "base_uri": "https://localhost:8080/"
        },
        "id": "Kzvhq9m5OV-6",
        "outputId": "a2c24f55-75ea-4d83-ab26-fc3f8bb48f01"
      },
      "source": [
        "x = 10\n",
        "y = 5\n",
        "x == y # Equality"
      ],
      "execution_count": null,
      "outputs": [
        {
          "output_type": "execute_result",
          "data": {
            "text/plain": [
              "False"
            ]
          },
          "metadata": {},
          "execution_count": 46
        }
      ]
    },
    {
      "cell_type": "code",
      "metadata": {
        "id": "jtZzcqFrObUm"
      },
      "source": [
        "x = y # Assignment Operator"
      ],
      "execution_count": null,
      "outputs": []
    },
    {
      "cell_type": "code",
      "metadata": {
        "colab": {
          "base_uri": "https://localhost:8080/"
        },
        "id": "TPaWPOPTOfrA",
        "outputId": "906c4f58-48e6-4bcc-c4de-5671dc27896a"
      },
      "source": [
        "print(x)"
      ],
      "execution_count": null,
      "outputs": [
        {
          "output_type": "stream",
          "name": "stdout",
          "text": [
            "5\n"
          ]
        }
      ]
    },
    {
      "cell_type": "code",
      "metadata": {
        "colab": {
          "base_uri": "https://localhost:8080/"
        },
        "id": "np37RHjuOrEU",
        "outputId": "2893168a-e4ec-48dc-881d-824d96b5a092"
      },
      "source": [
        "x == y # Equality"
      ],
      "execution_count": null,
      "outputs": [
        {
          "output_type": "execute_result",
          "data": {
            "text/plain": [
              "True"
            ]
          },
          "metadata": {},
          "execution_count": 49
        }
      ]
    },
    {
      "cell_type": "code",
      "metadata": {
        "colab": {
          "base_uri": "https://localhost:8080/"
        },
        "id": "3LJOwYM-PBxi",
        "outputId": "24d86da3-3f7a-4239-dc32-cebc557d0600"
      },
      "source": [
        "10 < 4 , 10 > 4, 10 <= 4, 10 >= 4 , 10 >= 10"
      ],
      "execution_count": null,
      "outputs": [
        {
          "output_type": "execute_result",
          "data": {
            "text/plain": [
              "(False, True, False, True, True)"
            ]
          },
          "metadata": {},
          "execution_count": 52
        }
      ]
    },
    {
      "cell_type": "markdown",
      "metadata": {
        "id": "FiZF__pUSb92"
      },
      "source": [
        "Let's now work through quick examples of each of these.\n",
        "\n",
        "#### Equal"
      ]
    },
    {
      "cell_type": "code",
      "metadata": {
        "id": "Reo0v_1aSb92",
        "colab": {
          "base_uri": "https://localhost:8080/",
          "height": 34
        },
        "outputId": "fcb9971a-1fcc-429b-9792-b40229b074d1"
      },
      "source": [
        "2 == 2"
      ],
      "execution_count": null,
      "outputs": [
        {
          "output_type": "execute_result",
          "data": {
            "text/plain": [
              "True"
            ]
          },
          "metadata": {
            "tags": []
          },
          "execution_count": 111
        }
      ]
    },
    {
      "cell_type": "code",
      "metadata": {
        "id": "cX3xvVzGSb96",
        "colab": {
          "base_uri": "https://localhost:8080/",
          "height": 34
        },
        "outputId": "881c87d6-8abb-4eb0-e441-7a577aac672f"
      },
      "source": [
        "1 == 0"
      ],
      "execution_count": null,
      "outputs": [
        {
          "output_type": "execute_result",
          "data": {
            "text/plain": [
              "False"
            ]
          },
          "metadata": {
            "tags": []
          },
          "execution_count": 112
        }
      ]
    },
    {
      "cell_type": "markdown",
      "metadata": {
        "id": "sayhkYDJSb99"
      },
      "source": [
        "Note that <code>==</code> is a <em>comparison</em> operator, while <code>=</code> is an <em>assignment</em> operator."
      ]
    },
    {
      "cell_type": "markdown",
      "metadata": {
        "id": "I2QeGhhnSb9-"
      },
      "source": [
        "#### Not Equal"
      ]
    },
    {
      "cell_type": "code",
      "metadata": {
        "id": "Q_GTDHDzSb9-",
        "colab": {
          "base_uri": "https://localhost:8080/",
          "height": 34
        },
        "outputId": "5e076be5-fa16-4a45-a613-3b5e555980e4"
      },
      "source": [
        "2 != 1"
      ],
      "execution_count": null,
      "outputs": [
        {
          "output_type": "execute_result",
          "data": {
            "text/plain": [
              "True"
            ]
          },
          "metadata": {
            "tags": []
          },
          "execution_count": 113
        }
      ]
    },
    {
      "cell_type": "code",
      "metadata": {
        "id": "X69c9vztSb-B",
        "colab": {
          "base_uri": "https://localhost:8080/",
          "height": 34
        },
        "outputId": "a0651ac3-d3ea-4373-becc-3f246f09983e"
      },
      "source": [
        "2 != 2"
      ],
      "execution_count": null,
      "outputs": [
        {
          "output_type": "execute_result",
          "data": {
            "text/plain": [
              "False"
            ]
          },
          "metadata": {
            "tags": []
          },
          "execution_count": 114
        }
      ]
    },
    {
      "cell_type": "markdown",
      "metadata": {
        "id": "H3w_umq0Sb-E"
      },
      "source": [
        "#### Greater Than"
      ]
    },
    {
      "cell_type": "code",
      "metadata": {
        "id": "pDFenlg2Sb-E",
        "colab": {
          "base_uri": "https://localhost:8080/",
          "height": 34
        },
        "outputId": "765bd6ff-2812-47e0-c88a-ae49c57bbf88"
      },
      "source": [
        "2 > 1"
      ],
      "execution_count": null,
      "outputs": [
        {
          "output_type": "execute_result",
          "data": {
            "text/plain": [
              "True"
            ]
          },
          "metadata": {
            "tags": []
          },
          "execution_count": 115
        }
      ]
    },
    {
      "cell_type": "code",
      "metadata": {
        "id": "BdaXqPZaSb-H",
        "colab": {
          "base_uri": "https://localhost:8080/",
          "height": 34
        },
        "outputId": "57129245-99b7-4911-c734-5c503b709b22"
      },
      "source": [
        "2 > 4"
      ],
      "execution_count": null,
      "outputs": [
        {
          "output_type": "execute_result",
          "data": {
            "text/plain": [
              "False"
            ]
          },
          "metadata": {
            "tags": []
          },
          "execution_count": 116
        }
      ]
    },
    {
      "cell_type": "markdown",
      "metadata": {
        "id": "noTpfMQ9Sb-K"
      },
      "source": [
        "#### Less Than"
      ]
    },
    {
      "cell_type": "code",
      "metadata": {
        "id": "6krihHAkSb-L",
        "colab": {
          "base_uri": "https://localhost:8080/",
          "height": 34
        },
        "outputId": "bab6ede5-a06a-4ef9-d6ff-54eb2134cba2"
      },
      "source": [
        "2 < 4"
      ],
      "execution_count": null,
      "outputs": [
        {
          "output_type": "execute_result",
          "data": {
            "text/plain": [
              "True"
            ]
          },
          "metadata": {
            "tags": []
          },
          "execution_count": 117
        }
      ]
    },
    {
      "cell_type": "code",
      "metadata": {
        "id": "TSGPrc43Sb-O",
        "colab": {
          "base_uri": "https://localhost:8080/",
          "height": 34
        },
        "outputId": "718ab6cc-6f26-4d69-937b-7bc15f345d80"
      },
      "source": [
        "2 < 1"
      ],
      "execution_count": null,
      "outputs": [
        {
          "output_type": "execute_result",
          "data": {
            "text/plain": [
              "False"
            ]
          },
          "metadata": {
            "tags": []
          },
          "execution_count": 118
        }
      ]
    },
    {
      "cell_type": "markdown",
      "metadata": {
        "id": "j7gZl5oMSb-Q"
      },
      "source": [
        "#### Greater Than or Equal to"
      ]
    },
    {
      "cell_type": "code",
      "metadata": {
        "id": "9Uuxt1vzSb-R",
        "colab": {
          "base_uri": "https://localhost:8080/",
          "height": 34
        },
        "outputId": "21380044-9bd7-40c5-d104-2180b3641944"
      },
      "source": [
        "2 >= 2"
      ],
      "execution_count": null,
      "outputs": [
        {
          "output_type": "execute_result",
          "data": {
            "text/plain": [
              "True"
            ]
          },
          "metadata": {
            "tags": []
          },
          "execution_count": 119
        }
      ]
    },
    {
      "cell_type": "code",
      "metadata": {
        "id": "1AmPBPB2Sb-T",
        "colab": {
          "base_uri": "https://localhost:8080/",
          "height": 34
        },
        "outputId": "64a5d1d4-c95b-4575-f00c-2b0b6b0cd975"
      },
      "source": [
        "2 >= 1"
      ],
      "execution_count": null,
      "outputs": [
        {
          "output_type": "execute_result",
          "data": {
            "text/plain": [
              "True"
            ]
          },
          "metadata": {
            "tags": []
          },
          "execution_count": 120
        }
      ]
    },
    {
      "cell_type": "markdown",
      "metadata": {
        "id": "YT3gk1kwSb-W"
      },
      "source": [
        "#### Less than or Equal to"
      ]
    },
    {
      "cell_type": "code",
      "metadata": {
        "id": "TgW8K4K4Sb-X",
        "colab": {
          "base_uri": "https://localhost:8080/",
          "height": 34
        },
        "outputId": "e882b90f-f36f-4b24-a98c-1f1572544f00"
      },
      "source": [
        "2 <= 2"
      ],
      "execution_count": null,
      "outputs": [
        {
          "output_type": "execute_result",
          "data": {
            "text/plain": [
              "True"
            ]
          },
          "metadata": {
            "tags": []
          },
          "execution_count": 121
        }
      ]
    },
    {
      "cell_type": "code",
      "metadata": {
        "id": "60DY1FpuSb-Z",
        "colab": {
          "base_uri": "https://localhost:8080/",
          "height": 34
        },
        "outputId": "a3b97cad-668b-4980-c216-6244fea0c76e"
      },
      "source": [
        "2 <= 4"
      ],
      "execution_count": null,
      "outputs": [
        {
          "output_type": "execute_result",
          "data": {
            "text/plain": [
              "True"
            ]
          },
          "metadata": {
            "tags": []
          },
          "execution_count": 122
        }
      ]
    },
    {
      "cell_type": "markdown",
      "metadata": {
        "id": "rnYDR7-fZUVi"
      },
      "source": [
        "#### Chained Comparison Operators\n",
        "\n",
        "An interesting feature of Python is the ability to *chain* multiple comparisons to perform a more complex test. You can use these chained comparisons as shorthand for larger Boolean Expressions.\n",
        "\n",
        "In this lecture we will learn how to chain comparison operators and we will also introduce two other important statements in Python: **and** and **or**.\n",
        "\n",
        "Let's look at a few examples of using chains:"
      ]
    },
    {
      "cell_type": "code",
      "metadata": {
        "id": "xkGxjXBWZUVk",
        "colab": {
          "base_uri": "https://localhost:8080/"
        },
        "outputId": "72e73326-164c-4fe8-ac98-5f01adbe5993"
      },
      "source": [
        "1 < 2 < 3"
      ],
      "execution_count": null,
      "outputs": [
        {
          "output_type": "execute_result",
          "data": {
            "text/plain": [
              "True"
            ]
          },
          "metadata": {},
          "execution_count": 53
        }
      ]
    },
    {
      "cell_type": "markdown",
      "metadata": {
        "id": "5NquwTgSZUVq"
      },
      "source": [
        "The above statement checks if 1 was less than 2 **and** if 2 was less than 3. We could have written this using an **and** statement in Python:"
      ]
    },
    {
      "cell_type": "code",
      "metadata": {
        "id": "pRjOlVP8ZUVq",
        "colab": {
          "base_uri": "https://localhost:8080/",
          "height": 34
        },
        "outputId": "73a9c9a0-4b8e-4e8a-b5c8-56dc60996687"
      },
      "source": [
        "1<2 and 2<3"
      ],
      "execution_count": null,
      "outputs": [
        {
          "output_type": "execute_result",
          "data": {
            "text/plain": [
              "True"
            ]
          },
          "metadata": {
            "tags": []
          },
          "execution_count": 124
        }
      ]
    },
    {
      "cell_type": "markdown",
      "metadata": {
        "id": "5eqBEEWNZUVt"
      },
      "source": [
        "The **and** is used to make sure two checks have to be true in order for the total check to be true. Let's see another example:"
      ]
    },
    {
      "cell_type": "code",
      "metadata": {
        "id": "UfTxbJ8zZUVu",
        "colab": {
          "base_uri": "https://localhost:8080/",
          "height": 34
        },
        "outputId": "5e4e0165-880e-4e73-ee0c-6632ef6d5848"
      },
      "source": [
        "1 < 3 > 2"
      ],
      "execution_count": null,
      "outputs": [
        {
          "output_type": "execute_result",
          "data": {
            "text/plain": [
              "True"
            ]
          },
          "metadata": {
            "tags": []
          },
          "execution_count": 125
        }
      ]
    },
    {
      "cell_type": "code",
      "metadata": {
        "colab": {
          "base_uri": "https://localhost:8080/"
        },
        "id": "uH-Q4VyfQA_f",
        "outputId": "4cf31365-b309-4f8d-e23f-8ee950653928"
      },
      "source": [
        "x = 10\n",
        "y = 5\n",
        "print(x)\n",
        "y = 10\n",
        "print(y)"
      ],
      "execution_count": null,
      "outputs": [
        {
          "output_type": "stream",
          "name": "stdout",
          "text": [
            "10\n",
            "10\n"
          ]
        }
      ]
    },
    {
      "cell_type": "markdown",
      "metadata": {
        "id": "J3jb4uY7iv2C"
      },
      "source": [
        "###Logical Operator\n",
        "Logical Operators are used to combine conditional statements\n",
        "\n",
        "| Operator | Description | Example\n",
        "|----|---|---|\n",
        "| and  | Returns True if both statements are true | x < 5 and  x < 10\t\n",
        "| or  | Returns True if one of the statements is true | x < 5 or  x < 10\t\n",
        "| not  | Reverse the result, returns False if the result is true and vice versa | not(x < 5 or  x < 10)"
      ]
    },
    {
      "cell_type": "markdown",
      "metadata": {
        "id": "NigjU6boZUVx"
      },
      "source": [
        "The above checks if 3 is larger than both of the other numbers, so you could use **and** to rewrite it as:"
      ]
    },
    {
      "cell_type": "code",
      "metadata": {
        "colab": {
          "base_uri": "https://localhost:8080/"
        },
        "id": "QpFmdBGlQb_-",
        "outputId": "bb653046-b9d6-4a1e-dac1-0702661f9723"
      },
      "source": [
        "x = 2\n",
        "x < 5 and x < 10"
      ],
      "execution_count": null,
      "outputs": [
        {
          "output_type": "execute_result",
          "data": {
            "text/plain": [
              "True"
            ]
          },
          "metadata": {},
          "execution_count": 55
        }
      ]
    },
    {
      "cell_type": "code",
      "metadata": {
        "colab": {
          "base_uri": "https://localhost:8080/"
        },
        "id": "WwNxoIYiQuA7",
        "outputId": "edf2b7ac-97c2-447d-8c58-72ef94b96cad"
      },
      "source": [
        "False and True"
      ],
      "execution_count": null,
      "outputs": [
        {
          "output_type": "execute_result",
          "data": {
            "text/plain": [
              "False"
            ]
          },
          "metadata": {},
          "execution_count": 56
        }
      ]
    },
    {
      "cell_type": "code",
      "metadata": {
        "colab": {
          "base_uri": "https://localhost:8080/"
        },
        "id": "xaIhS6o8QxQM",
        "outputId": "342b4806-4c1f-45f3-dfec-be0c2936ac04"
      },
      "source": [
        "False and False"
      ],
      "execution_count": null,
      "outputs": [
        {
          "output_type": "execute_result",
          "data": {
            "text/plain": [
              "False"
            ]
          },
          "metadata": {},
          "execution_count": 57
        }
      ]
    },
    {
      "cell_type": "code",
      "metadata": {
        "colab": {
          "base_uri": "https://localhost:8080/"
        },
        "id": "6Iu2JZqvQzJh",
        "outputId": "69798312-e3bb-4723-9452-8024cac35b65"
      },
      "source": [
        "True and False"
      ],
      "execution_count": null,
      "outputs": [
        {
          "output_type": "execute_result",
          "data": {
            "text/plain": [
              "False"
            ]
          },
          "metadata": {},
          "execution_count": 58
        }
      ]
    },
    {
      "cell_type": "code",
      "metadata": {
        "id": "yoaE1rClZUVx",
        "colab": {
          "base_uri": "https://localhost:8080/",
          "height": 34
        },
        "outputId": "eafae928-3e70-489c-dd39-6f5808d3fd0b"
      },
      "source": [
        "1<3 and 3>2"
      ],
      "execution_count": null,
      "outputs": [
        {
          "output_type": "execute_result",
          "data": {
            "text/plain": [
              "True"
            ]
          },
          "metadata": {
            "tags": []
          },
          "execution_count": 126
        }
      ]
    },
    {
      "cell_type": "markdown",
      "metadata": {
        "id": "a-98IyL4ZUV0"
      },
      "source": [
        "It's important to note that Python is checking both instances of the comparisons. We can also use **or** to write comparisons in Python. For example:"
      ]
    },
    {
      "cell_type": "code",
      "metadata": {
        "id": "5mYAU37uZUV1",
        "colab": {
          "base_uri": "https://localhost:8080/"
        },
        "outputId": "7d8e4398-8626-440e-e302-e7b0d01e56c9"
      },
      "source": [
        "1==2 or 2<3 # False or True"
      ],
      "execution_count": null,
      "outputs": [
        {
          "output_type": "execute_result",
          "data": {
            "text/plain": [
              "True"
            ]
          },
          "metadata": {},
          "execution_count": 59
        }
      ]
    },
    {
      "cell_type": "code",
      "metadata": {
        "colab": {
          "base_uri": "https://localhost:8080/"
        },
        "id": "QuTltXubRKnw",
        "outputId": "a1eb72a7-e8ec-4927-99ba-cb5683f7d9fb"
      },
      "source": [
        "True or False"
      ],
      "execution_count": null,
      "outputs": [
        {
          "output_type": "execute_result",
          "data": {
            "text/plain": [
              "True"
            ]
          },
          "metadata": {},
          "execution_count": 60
        }
      ]
    },
    {
      "cell_type": "code",
      "metadata": {
        "colab": {
          "base_uri": "https://localhost:8080/"
        },
        "id": "JCCrZmh4RMKD",
        "outputId": "75c957ad-b488-4621-b3ad-e85091170152"
      },
      "source": [
        "True or True"
      ],
      "execution_count": null,
      "outputs": [
        {
          "output_type": "execute_result",
          "data": {
            "text/plain": [
              "True"
            ]
          },
          "metadata": {},
          "execution_count": 61
        }
      ]
    },
    {
      "cell_type": "code",
      "metadata": {
        "colab": {
          "base_uri": "https://localhost:8080/"
        },
        "id": "bHOvshbURNll",
        "outputId": "df6d1410-5811-4ec6-c319-2d65123f1bca"
      },
      "source": [
        "False or False"
      ],
      "execution_count": null,
      "outputs": [
        {
          "output_type": "execute_result",
          "data": {
            "text/plain": [
              "False"
            ]
          },
          "metadata": {},
          "execution_count": 62
        }
      ]
    },
    {
      "cell_type": "code",
      "metadata": {
        "colab": {
          "base_uri": "https://localhost:8080/"
        },
        "id": "mKqcNzwTRXIo",
        "outputId": "5a2b366a-8575-4c14-8fb6-ebe4504092ab"
      },
      "source": [
        "not False"
      ],
      "execution_count": null,
      "outputs": [
        {
          "output_type": "execute_result",
          "data": {
            "text/plain": [
              "True"
            ]
          },
          "metadata": {},
          "execution_count": 63
        }
      ]
    },
    {
      "cell_type": "code",
      "metadata": {
        "colab": {
          "base_uri": "https://localhost:8080/"
        },
        "id": "vi7i9DZ1RZTM",
        "outputId": "4bfe778f-16aa-4c7e-ca93-85abb1583642"
      },
      "source": [
        "not True"
      ],
      "execution_count": null,
      "outputs": [
        {
          "output_type": "execute_result",
          "data": {
            "text/plain": [
              "False"
            ]
          },
          "metadata": {},
          "execution_count": 64
        }
      ]
    },
    {
      "cell_type": "code",
      "metadata": {
        "colab": {
          "base_uri": "https://localhost:8080/"
        },
        "id": "o7faeUxPRZ-a",
        "outputId": "64f23f83-e70c-48f2-d2e8-fcc8f0321e92"
      },
      "source": [
        "not (2 < 5)"
      ],
      "execution_count": null,
      "outputs": [
        {
          "output_type": "execute_result",
          "data": {
            "text/plain": [
              "False"
            ]
          },
          "metadata": {},
          "execution_count": 65
        }
      ]
    },
    {
      "cell_type": "markdown",
      "metadata": {
        "id": "GlswasBgZUV3"
      },
      "source": [
        "Note how it was true; this is because with the **or** operator, we only need one *or* the other to be true. Let's see one more example to drive this home:"
      ]
    },
    {
      "cell_type": "code",
      "metadata": {
        "id": "DkQ4b_MCZUV4",
        "colab": {
          "base_uri": "https://localhost:8080/",
          "height": 34
        },
        "outputId": "1a3bbf02-3e1c-47fe-9748-05bb2cafaf1a"
      },
      "source": [
        "1==1 or 100==1"
      ],
      "execution_count": null,
      "outputs": [
        {
          "output_type": "execute_result",
          "data": {
            "text/plain": [
              "True"
            ]
          },
          "metadata": {
            "tags": []
          },
          "execution_count": 128
        }
      ]
    },
    {
      "cell_type": "markdown",
      "metadata": {
        "id": "cMjvDWu2VDs3"
      },
      "source": [
        "###Bitwise Operators"
      ]
    },
    {
      "cell_type": "markdown",
      "metadata": {
        "id": "lOcFq61LVDs4"
      },
      "source": [
        "| Symbol | Task Performed |\n",
        "|----|---|\n",
        "| &  | Logical And |\n",
        "| l  | Logical OR |\n",
        "| ^  | XOR |\n",
        "| ~  | Negate |\n",
        "| >>  | Right shift |\n",
        "| <<  | Left shift |"
      ]
    },
    {
      "cell_type": "markdown",
      "metadata": {
        "id": "-aBnIoq5BMYM"
      },
      "source": [
        "Extra Information - https://www.journaldev.com/26737/python-bitwise-operators"
      ]
    },
    {
      "cell_type": "code",
      "metadata": {
        "id": "uf4042pDVDs4"
      },
      "source": [
        "a = 2 #10\n",
        "b = 3 #11"
      ],
      "execution_count": null,
      "outputs": []
    },
    {
      "cell_type": "code",
      "metadata": {
        "id": "hvRNOdAxVDs7",
        "colab": {
          "base_uri": "https://localhost:8080/"
        },
        "outputId": "f729d471-b8ba-4627-dd19-962880e9ce88"
      },
      "source": [
        "print(a & b)\n",
        "print (bin(a&b))"
      ],
      "execution_count": null,
      "outputs": [
        {
          "output_type": "stream",
          "name": "stdout",
          "text": [
            "2\n",
            "0b10\n"
          ]
        }
      ]
    },
    {
      "cell_type": "code",
      "metadata": {
        "id": "ICIDVA_QVDs9",
        "colab": {
          "base_uri": "https://localhost:8080/"
        },
        "outputId": "a06d0890-6201-4b4d-e8f0-4f99698b8fb6"
      },
      "source": [
        "5 >> 1"
      ],
      "execution_count": null,
      "outputs": [
        {
          "output_type": "execute_result",
          "data": {
            "text/plain": [
              "2"
            ]
          },
          "metadata": {},
          "execution_count": 68
        }
      ]
    },
    {
      "cell_type": "markdown",
      "metadata": {
        "id": "Qwo00pTuVDs_"
      },
      "source": [
        "0000 0101 -> 5 \n",
        "\n",
        "Shifting the digits by 1 to the right and zero padding\n",
        "\n",
        "0000 0010 -> 2"
      ]
    },
    {
      "cell_type": "code",
      "metadata": {
        "id": "xjfE6cSCVDtA",
        "colab": {
          "base_uri": "https://localhost:8080/"
        },
        "outputId": "a09f5099-4da7-42a3-c5aa-53cbfdfc5484"
      },
      "source": [
        "5 << 1"
      ],
      "execution_count": null,
      "outputs": [
        {
          "output_type": "execute_result",
          "data": {
            "text/plain": [
              "10"
            ]
          },
          "metadata": {},
          "execution_count": 69
        }
      ]
    },
    {
      "cell_type": "markdown",
      "metadata": {
        "id": "7Ghj6cCzVDtC"
      },
      "source": [
        "0000 0101 -> 5 \n",
        "\n",
        "Shifting the digits by 1 to the left and zero padding\n",
        "\n",
        "0000 1010 -> 10"
      ]
    },
    {
      "cell_type": "markdown",
      "metadata": {
        "id": "pjytSoZkoC9K"
      },
      "source": [
        "###Identity Operator\n",
        "Identity operators are used to compare the objects, not if they are equal, but if they are actually the same object, with the same memory location.\n",
        "\n",
        "\n",
        "| Operator | Description | Example\n",
        "|----|---|---|\n",
        "| is  | Returns True if both variables are the same object| x is y\n",
        "| is not  | Returns True if both variables are not the same object| x is not y\t\n"
      ]
    },
    {
      "cell_type": "code",
      "metadata": {
        "colab": {
          "base_uri": "https://localhost:8080/"
        },
        "id": "NST8t3EFVHXz",
        "outputId": "67286243-d64d-406a-b395-533b982f0efe"
      },
      "source": [
        "x = 5\n",
        "y = 5\n",
        "x is y"
      ],
      "execution_count": null,
      "outputs": [
        {
          "output_type": "execute_result",
          "data": {
            "text/plain": [
              "True"
            ]
          },
          "metadata": {},
          "execution_count": 70
        }
      ]
    },
    {
      "cell_type": "markdown",
      "metadata": {
        "id": "P43Nsv4Ioudl"
      },
      "source": [
        "###Membership Operator\n",
        "Membership operators are used to test if a sequence is presented in an object\n",
        "\n",
        "| Operator | Description | Example\n",
        "|----|---|---|\n",
        "| in  | Returns True if a sequence with the specified value is present in the object| x in y\n",
        "| not in  | Returns True if a sequence with the specified value is not present in the object| x not in y\t\n"
      ]
    },
    {
      "cell_type": "code",
      "metadata": {
        "id": "diu3SyHGWu7G"
      },
      "source": [
        "# Line 1\n",
        "# Line 2\n",
        "# Line 3"
      ],
      "execution_count": null,
      "outputs": []
    },
    {
      "cell_type": "code",
      "metadata": {
        "id": "XbzattUhW3AU"
      },
      "source": [
        "\"\"\"\n",
        "Line 1\n",
        "Line 2\n",
        "Line 3\n",
        "\"\"\""
      ],
      "execution_count": null,
      "outputs": []
    },
    {
      "cell_type": "code",
      "metadata": {
        "colab": {
          "base_uri": "https://localhost:8080/"
        },
        "id": "O25LfXr9XPUa",
        "outputId": "8485d449-1d9d-4cdb-b1c5-24733ce167cf"
      },
      "source": [
        "1029/10, 1029 // 10"
      ],
      "execution_count": null,
      "outputs": [
        {
          "output_type": "execute_result",
          "data": {
            "text/plain": [
              "(102.9, 102)"
            ]
          },
          "metadata": {},
          "execution_count": 74
        }
      ]
    },
    {
      "cell_type": "markdown",
      "metadata": {
        "id": "saRw_2tkWmOz"
      },
      "source": [
        "## Interactive Notebook (careful)"
      ]
    },
    {
      "cell_type": "code",
      "metadata": {
        "colab": {
          "base_uri": "https://localhost:8080/"
        },
        "id": "zTqIvbZUWq7f",
        "outputId": "4889a3a9-4215-4579-f915-415c6f2a9964"
      },
      "source": [
        "var1 = 100\n",
        "print(var1 + 100)\n",
        "var2 = 50\n",
        "var2 + var1"
      ],
      "execution_count": null,
      "outputs": [
        {
          "output_type": "stream",
          "name": "stdout",
          "text": [
            "200\n"
          ]
        },
        {
          "output_type": "execute_result",
          "data": {
            "text/plain": [
              "150"
            ]
          },
          "metadata": {},
          "execution_count": 77
        }
      ]
    },
    {
      "cell_type": "code",
      "metadata": {
        "colab": {
          "base_uri": "https://localhost:8080/"
        },
        "id": "08hLtXnIYx5W",
        "outputId": "fc54a721-97e0-444b-c57d-13686b30b949"
      },
      "source": [
        "var1 = 100\n",
        "100+100\n",
        "var2 = 50\n",
        "var2 + var1"
      ],
      "execution_count": null,
      "outputs": [
        {
          "output_type": "execute_result",
          "data": {
            "text/plain": [
              "150"
            ]
          },
          "metadata": {},
          "execution_count": 81
        }
      ]
    },
    {
      "cell_type": "code",
      "metadata": {
        "id": "-O-WH6s3ZEYb"
      },
      "source": [
        "import numpy as np"
      ],
      "execution_count": null,
      "outputs": []
    },
    {
      "cell_type": "code",
      "metadata": {
        "id": "VLdjjfVGZGdD"
      },
      "source": [
        "round()"
      ],
      "execution_count": null,
      "outputs": []
    },
    {
      "cell_type": "code",
      "metadata": {
        "colab": {
          "base_uri": "https://localhost:8080/"
        },
        "id": "uh1iU5RNZjC7",
        "outputId": "fd4b8bbc-a42d-4d3a-eabe-6585a0a2b72d"
      },
      "source": [
        "round(1000.567) , round(1000.567,2)"
      ],
      "execution_count": null,
      "outputs": [
        {
          "output_type": "execute_result",
          "data": {
            "text/plain": [
              "(1001, 1000.57)"
            ]
          },
          "metadata": {},
          "execution_count": 83
        }
      ]
    },
    {
      "cell_type": "markdown",
      "metadata": {
        "id": "HMbEICc96pzM"
      },
      "source": [
        "##Literals in Python"
      ]
    },
    {
      "cell_type": "markdown",
      "metadata": {
        "id": "gFnmys166xBs"
      },
      "source": [
        "Literals are values used in **Python**.\n",
        "![](https://i.imgur.com/KvqspwV.png)\n"
      ]
    },
    {
      "cell_type": "code",
      "metadata": {
        "id": "v66ugq1K7aEY",
        "colab": {
          "base_uri": "https://localhost:8080/"
        },
        "outputId": "72e93bc0-7ba1-489b-d31f-cca5345fa0a6"
      },
      "source": [
        "#String Literal --> A string literal is a sequence of zero or more characters enclosed within single, double or triple quotation marks. \n",
        "\n",
        "text1 = 'edureka'\n",
        "text2 = \"today's\"  #Note the difference between single quotes and double quotes\n",
        "text3 = '123'\n",
        "text4 = 'How ya \\\n",
        "doing' #Adding black slash at the end of each line - to write multi line comment\n",
        "text6 = \"Hey how \\\n",
        "are you doing\"\n",
        "text5 = '''hello everyone! \n",
        "how are you?''' #Note how multiple statements are written\n",
        "text7 = \"\"\"\n",
        "This is a line 1\n",
        "this is line 2\n",
        "this is line 3\n",
        "\"\"\"\n",
        "print(text1)\n",
        "print(text2)\n",
        "print(text3)\n",
        "print(text4)\n",
        "print(text5)\n",
        "print(text6)\n",
        "print(text7)"
      ],
      "execution_count": null,
      "outputs": [
        {
          "output_type": "stream",
          "name": "stdout",
          "text": [
            "edureka\n",
            "today's\n",
            "123\n",
            "How ya doing\n",
            "hello everyone! \n",
            "how are you?\n",
            "Hey how are you doing\n",
            "\n",
            "This is a line 1\n",
            "this is line 2\n",
            "this is line 3\n",
            "\n"
          ]
        }
      ]
    },
    {
      "cell_type": "code",
      "metadata": {
        "colab": {
          "base_uri": "https://localhost:8080/",
          "height": 164
        },
        "id": "3dn1rO0zwhTy",
        "outputId": "78c38168-8aba-4c52-87de-797bada21e7d"
      },
      "source": [
        "text3 + 100"
      ],
      "execution_count": null,
      "outputs": [
        {
          "output_type": "error",
          "ename": "TypeError",
          "evalue": "ignored",
          "traceback": [
            "\u001b[0;31m---------------------------------------------------------------------------\u001b[0m",
            "\u001b[0;31mTypeError\u001b[0m                                 Traceback (most recent call last)",
            "\u001b[0;32m<ipython-input-6-b5074dc0bc2f>\u001b[0m in \u001b[0;36m<module>\u001b[0;34m()\u001b[0m\n\u001b[0;32m----> 1\u001b[0;31m \u001b[0mtext3\u001b[0m \u001b[0;34m+\u001b[0m \u001b[0;36m100\u001b[0m\u001b[0;34m\u001b[0m\u001b[0;34m\u001b[0m\u001b[0m\n\u001b[0m",
            "\u001b[0;31mTypeError\u001b[0m: can only concatenate str (not \"int\") to str"
          ]
        }
      ]
    },
    {
      "cell_type": "markdown",
      "metadata": {
        "id": "RhYYRHWmAUMs"
      },
      "source": [
        "**Important Escape Sequence in Python**\n",
        "\n",
        "![](https://i.imgur.com/IUvhv5i.jpg)"
      ]
    },
    {
      "cell_type": "code",
      "metadata": {
        "colab": {
          "base_uri": "https://localhost:8080/"
        },
        "id": "FtmNRg-gxwW4",
        "outputId": "05fd9483-9702-4a20-813a-7be4eed09edd"
      },
      "source": [
        "print(\"Hello \\n World\")\n",
        "#\\'\n",
        "print('Hey \\'Deep Learning\\' this is class 1')"
      ],
      "execution_count": null,
      "outputs": [
        {
          "output_type": "stream",
          "name": "stdout",
          "text": [
            "Hello \n",
            " World\n",
            "Hey 'Deep Learning' this is class 1\n"
          ]
        }
      ]
    },
    {
      "cell_type": "code",
      "metadata": {
        "colab": {
          "base_uri": "https://localhost:8080/"
        },
        "id": "JobcmNTSyWaW",
        "outputId": "da7fb311-0cc7-4615-8933-1a9a674f2ee2"
      },
      "source": [
        "print(\"Hello \\\\\")\n",
        "# \\ - escape sequence character\n",
        "# \\n - next line\n",
        "# \\t - tab\n",
        "# \\' - single quotation\n",
        "# \\\" - double\n",
        "# \\\\ - single backslash"
      ],
      "execution_count": null,
      "outputs": [
        {
          "output_type": "stream",
          "name": "stdout",
          "text": [
            "Hello \\\n"
          ]
        }
      ]
    },
    {
      "cell_type": "code",
      "metadata": {
        "id": "C84nOvsH8x9m",
        "colab": {
          "base_uri": "https://localhost:8080/"
        },
        "outputId": "cdf527f8-81d0-40ee-d65b-be54d505d2d6"
      },
      "source": [
        "# Numeric Literal --> There are four types of numeric literals: integers, floating point numbers, and imaginary numbers.\n",
        "# NOTE: Integers in Python 3 are of unlimited size. Python 2 had two integer types - int and long. There is no 'long integer' in Python 3 anymore.\n",
        "\n",
        "b = 0b11100 #Binary Literals  \n",
        "d = 110 #Decimal Literal   \n",
        "o = 0o100 #Octal Literal  \n",
        "u = 0x14d #Hexadecimal Literal  \n",
        "  \n",
        "#Float Literal  \n",
        "float_1 = 3.14   \n",
        "float_2 = 1.5e4  # e - power of 10\n",
        "  \n",
        "#Complex Literal   \n",
        "c = 5+3.14j  \n",
        "  \n",
        "print(b, d, o, u)  \n",
        "print(float_1, float_2)  \n",
        "print(c, c.imag, c.real)  \n",
        "\n",
        "#NOTE: Note that numeric literals do not include a sign; a phrase like -1 is actually an expression composed of the unary operator `-' and the literal 1.\n"
      ],
      "execution_count": null,
      "outputs": [
        {
          "output_type": "stream",
          "name": "stdout",
          "text": [
            "28 110 64 333\n",
            "3.14 15000.0\n",
            "(5+3.14j) 3.14 5.0\n"
          ]
        }
      ]
    },
    {
      "cell_type": "code",
      "metadata": {
        "id": "jmSW4gia_oTk",
        "colab": {
          "base_uri": "https://localhost:8080/"
        },
        "outputId": "51662254-6b4a-478a-9a33-4f51422a3ea9"
      },
      "source": [
        "#Boolean Literal --> Python literal Boolean has two values. One is True, and another one is False.\n",
        "# Additionally, 1 and 0 represent True and False, respectively.\n",
        "a = (10 == True)  \n",
        "b = (20 == False)  \n",
        "c = (30 == True)  \n",
        "x = True + 10  \n",
        "y = False + 10  \n",
        "add = True + 10.56  \n",
        "print(\"a is\", a)  \n",
        "print(\"b is\", b)  \n",
        "print(\"c is\", c)  \n",
        "print(\"x:\", x)  \n",
        "print(\"y:\", y)  \n",
        "print(\"add: \",add)\n",
        "# Broadcasting"
      ],
      "execution_count": null,
      "outputs": [
        {
          "output_type": "stream",
          "name": "stdout",
          "text": [
            "a is False\n",
            "b is False\n",
            "c is False\n",
            "x: 11\n",
            "y: 10\n",
            "add:  11.56\n"
          ]
        }
      ]
    },
    {
      "cell_type": "code",
      "metadata": {
        "id": "2V-emE6I4XxF"
      },
      "source": [
        "a = (10 == True)  "
      ],
      "execution_count": null,
      "outputs": []
    },
    {
      "cell_type": "code",
      "metadata": {
        "colab": {
          "base_uri": "https://localhost:8080/"
        },
        "id": "Xa2rvAaJzvrJ",
        "outputId": "c9e9c935-ee53-4a09-84c3-fac0fee4074e"
      },
      "source": [
        "type(True),type(10),type(10.56)"
      ],
      "execution_count": null,
      "outputs": [
        {
          "output_type": "execute_result",
          "data": {
            "text/plain": [
              "(bool, int, float)"
            ]
          },
          "metadata": {},
          "execution_count": 19
        }
      ]
    },
    {
      "cell_type": "code",
      "metadata": {
        "id": "P1p3DKM70dtq"
      },
      "source": [
        "#Broadcasting\n",
        "# implicit broadcasting\n",
        "# Value from lower data type is converted to higher data type to reduce the data loss - automatically\n",
        "\n",
        "#Explicit Broadcasting\n",
        "# Programmers specify how the values to be treated"
      ],
      "execution_count": null,
      "outputs": []
    },
    {
      "cell_type": "code",
      "metadata": {
        "colab": {
          "base_uri": "https://localhost:8080/"
        },
        "id": "DUu_UTlR05LI",
        "outputId": "99b3e805-dcf4-47d7-bdcb-1d59a3c424de"
      },
      "source": [
        "x = 10\n",
        "y = 15.5\n",
        "add = x + y\n",
        "print(\"result: \",add)\n",
        "print(type(x),type(y),type(add))"
      ],
      "execution_count": null,
      "outputs": [
        {
          "output_type": "stream",
          "name": "stdout",
          "text": [
            "result:  25.5\n",
            "<class 'int'> <class 'float'> <class 'float'>\n"
          ]
        }
      ]
    },
    {
      "cell_type": "code",
      "metadata": {
        "colab": {
          "base_uri": "https://localhost:8080/"
        },
        "id": "2UvvtgH71n5e",
        "outputId": "bc543dbb-3fe4-4887-c71a-c0737052cbd8"
      },
      "source": [
        "x = True + 10  \n",
        "y = False + 10.52 # 0.0\n",
        "print(\"x :\",x)\n",
        "print(\"y : \",y)\n",
        "print(type(x),type(y))"
      ],
      "execution_count": null,
      "outputs": [
        {
          "output_type": "stream",
          "name": "stdout",
          "text": [
            "x : 11\n",
            "y :  10.52\n",
            "<class 'int'> <class 'float'>\n"
          ]
        }
      ]
    },
    {
      "cell_type": "code",
      "metadata": {
        "colab": {
          "base_uri": "https://localhost:8080/"
        },
        "id": "kJmJmy6R2YVZ",
        "outputId": "59e0d1b3-2d53-4b97-da81-e70202392469"
      },
      "source": [
        "x = True + 10+5j  \n",
        "y = False + 10.52+5j # 0.0\n",
        "print(\"x :\",x)\n",
        "print(\"y : \",y)\n",
        "print(type(x),type(y))"
      ],
      "execution_count": null,
      "outputs": [
        {
          "output_type": "stream",
          "name": "stdout",
          "text": [
            "x : (11+5j)\n",
            "y :  (10.52+5j)\n",
            "<class 'complex'> <class 'complex'>\n"
          ]
        }
      ]
    },
    {
      "cell_type": "code",
      "metadata": {
        "colab": {
          "base_uri": "https://localhost:8080/",
          "height": 250
        },
        "id": "WDBwfryA2ASb",
        "outputId": "78ac83c9-4dff-4872-f6e8-669acd64de89"
      },
      "source": [
        "#Implcity broadcasting\n",
        "x = \"100\" # String\n",
        "y = 50 #integer\n",
        "print(type(x),type(y))\n",
        "add = x + y\n",
        "print(\"result: \",add)\n",
        "print(type(add))"
      ],
      "execution_count": null,
      "outputs": [
        {
          "output_type": "stream",
          "name": "stdout",
          "text": [
            "<class 'str'> <class 'int'>\n"
          ]
        },
        {
          "output_type": "error",
          "ename": "TypeError",
          "evalue": "ignored",
          "traceback": [
            "\u001b[0;31m---------------------------------------------------------------------------\u001b[0m",
            "\u001b[0;31mTypeError\u001b[0m                                 Traceback (most recent call last)",
            "\u001b[0;32m<ipython-input-28-08503b3e4dd2>\u001b[0m in \u001b[0;36m<module>\u001b[0;34m()\u001b[0m\n\u001b[1;32m      2\u001b[0m \u001b[0my\u001b[0m \u001b[0;34m=\u001b[0m \u001b[0;36m50\u001b[0m \u001b[0;31m#integer\u001b[0m\u001b[0;34m\u001b[0m\u001b[0;34m\u001b[0m\u001b[0m\n\u001b[1;32m      3\u001b[0m \u001b[0mprint\u001b[0m\u001b[0;34m(\u001b[0m\u001b[0mtype\u001b[0m\u001b[0;34m(\u001b[0m\u001b[0mx\u001b[0m\u001b[0;34m)\u001b[0m\u001b[0;34m,\u001b[0m\u001b[0mtype\u001b[0m\u001b[0;34m(\u001b[0m\u001b[0my\u001b[0m\u001b[0;34m)\u001b[0m\u001b[0;34m)\u001b[0m\u001b[0;34m\u001b[0m\u001b[0;34m\u001b[0m\u001b[0m\n\u001b[0;32m----> 4\u001b[0;31m \u001b[0madd\u001b[0m \u001b[0;34m=\u001b[0m \u001b[0mx\u001b[0m \u001b[0;34m+\u001b[0m \u001b[0my\u001b[0m\u001b[0;34m\u001b[0m\u001b[0;34m\u001b[0m\u001b[0m\n\u001b[0m\u001b[1;32m      5\u001b[0m \u001b[0mprint\u001b[0m\u001b[0;34m(\u001b[0m\u001b[0;34m\"result: \"\u001b[0m\u001b[0;34m,\u001b[0m\u001b[0madd\u001b[0m\u001b[0;34m)\u001b[0m\u001b[0;34m\u001b[0m\u001b[0;34m\u001b[0m\u001b[0m\n\u001b[1;32m      6\u001b[0m \u001b[0mprint\u001b[0m\u001b[0;34m(\u001b[0m\u001b[0mtype\u001b[0m\u001b[0;34m(\u001b[0m\u001b[0madd\u001b[0m\u001b[0;34m)\u001b[0m\u001b[0;34m)\u001b[0m\u001b[0;34m\u001b[0m\u001b[0;34m\u001b[0m\u001b[0m\n",
            "\u001b[0;31mTypeError\u001b[0m: can only concatenate str (not \"int\") to str"
          ]
        }
      ]
    },
    {
      "cell_type": "code",
      "metadata": {
        "id": "zGAJL_5I2nWX"
      },
      "source": [
        "# int --> integers\n",
        "# float --> float\n",
        "# complex --> complex\n",
        "# str --> string\n",
        "# bool --> Boolean values"
      ],
      "execution_count": null,
      "outputs": []
    },
    {
      "cell_type": "code",
      "metadata": {
        "colab": {
          "base_uri": "https://localhost:8080/"
        },
        "id": "XWQnXNQu2wSs",
        "outputId": "417da36f-9ebc-4065-c207-6888025fdf0a"
      },
      "source": [
        "print(int(10.568))\n",
        "#int(5+7j)\n",
        "print(int(\"100\"))\n",
        "print(int(True))"
      ],
      "execution_count": null,
      "outputs": [
        {
          "output_type": "stream",
          "name": "stdout",
          "text": [
            "10\n",
            "100\n",
            "1\n"
          ]
        }
      ]
    },
    {
      "cell_type": "code",
      "metadata": {
        "colab": {
          "base_uri": "https://localhost:8080/",
          "height": 164
        },
        "id": "Zq_YVSI83Nbs",
        "outputId": "c9ef160e-e229-4edf-8b30-7a1420bf15c3"
      },
      "source": [
        "int(\"hello\")"
      ],
      "execution_count": null,
      "outputs": [
        {
          "output_type": "error",
          "ename": "ValueError",
          "evalue": "ignored",
          "traceback": [
            "\u001b[0;31m---------------------------------------------------------------------------\u001b[0m",
            "\u001b[0;31mValueError\u001b[0m                                Traceback (most recent call last)",
            "\u001b[0;32m<ipython-input-34-a6f1987f81d0>\u001b[0m in \u001b[0;36m<module>\u001b[0;34m()\u001b[0m\n\u001b[0;32m----> 1\u001b[0;31m \u001b[0mint\u001b[0m\u001b[0;34m(\u001b[0m\u001b[0;34m\"hello\"\u001b[0m\u001b[0;34m)\u001b[0m\u001b[0;34m\u001b[0m\u001b[0;34m\u001b[0m\u001b[0m\n\u001b[0m",
            "\u001b[0;31mValueError\u001b[0m: invalid literal for int() with base 10: 'hello'"
          ]
        }
      ]
    },
    {
      "cell_type": "code",
      "metadata": {
        "colab": {
          "base_uri": "https://localhost:8080/",
          "height": 164
        },
        "id": "UoY0mmTc3WDA",
        "outputId": "326947f6-7abc-4d36-e88d-c124b45f5ea7"
      },
      "source": [
        "float(10), float(\"100.526\")\n",
        "#float(5+6j) - Not allowed"
      ],
      "execution_count": null,
      "outputs": [
        {
          "output_type": "error",
          "ename": "TypeError",
          "evalue": "ignored",
          "traceback": [
            "\u001b[0;31m---------------------------------------------------------------------------\u001b[0m",
            "\u001b[0;31mTypeError\u001b[0m                                 Traceback (most recent call last)",
            "\u001b[0;32m<ipython-input-38-f824de73a8e5>\u001b[0m in \u001b[0;36m<module>\u001b[0;34m()\u001b[0m\n\u001b[0;32m----> 1\u001b[0;31m \u001b[0mfloat\u001b[0m\u001b[0;34m(\u001b[0m\u001b[0;36m10\u001b[0m\u001b[0;34m)\u001b[0m\u001b[0;34m,\u001b[0m \u001b[0mfloat\u001b[0m\u001b[0;34m(\u001b[0m\u001b[0;34m\"100.526\"\u001b[0m\u001b[0;34m)\u001b[0m\u001b[0;34m,\u001b[0m \u001b[0mfloat\u001b[0m\u001b[0;34m(\u001b[0m\u001b[0;36m5\u001b[0m\u001b[0;34m+\u001b[0m\u001b[0;36m6j\u001b[0m\u001b[0;34m)\u001b[0m\u001b[0;34m\u001b[0m\u001b[0;34m\u001b[0m\u001b[0m\n\u001b[0m",
            "\u001b[0;31mTypeError\u001b[0m: can't convert complex to float"
          ]
        }
      ]
    },
    {
      "cell_type": "code",
      "metadata": {
        "colab": {
          "base_uri": "https://localhost:8080/"
        },
        "id": "1ezuRfgS3cPc",
        "outputId": "cc69c848-d1e0-48a5-b64c-b21887b5b9ae"
      },
      "source": [
        "str(10) , str(10.25)"
      ],
      "execution_count": null,
      "outputs": [
        {
          "output_type": "execute_result",
          "data": {
            "text/plain": [
              "('10', '10.25')"
            ]
          },
          "metadata": {},
          "execution_count": 41
        }
      ]
    },
    {
      "cell_type": "code",
      "metadata": {
        "colab": {
          "base_uri": "https://localhost:8080/"
        },
        "id": "jRH1Evze3Y2Q",
        "outputId": "ccfca933-a0a2-4540-97cc-44e748a14be4"
      },
      "source": [
        "bool(1)"
      ],
      "execution_count": null,
      "outputs": [
        {
          "output_type": "execute_result",
          "data": {
            "text/plain": [
              "True"
            ]
          },
          "metadata": {},
          "execution_count": 42
        }
      ]
    },
    {
      "cell_type": "code",
      "metadata": {
        "colab": {
          "base_uri": "https://localhost:8080/"
        },
        "id": "oNnusAwC1PRf",
        "outputId": "9ee1702f-5ef0-4bbf-956a-c356a68f97a2"
      },
      "source": [
        "x = 10\n",
        "y = 15.5\n",
        "add = x + int(y)\n",
        "print(\"result: \",add)\n",
        "print(type(x),type(y),type(add))"
      ],
      "execution_count": null,
      "outputs": [
        {
          "output_type": "stream",
          "name": "stdout",
          "text": [
            "result:  25\n",
            "<class 'int'> <class 'float'> <class 'int'>\n"
          ]
        }
      ]
    },
    {
      "cell_type": "code",
      "metadata": {
        "id": "DQJL-sxPGrSK",
        "colab": {
          "base_uri": "https://localhost:8080/"
        },
        "outputId": "bbe389e4-0cbb-4d7a-fc66-baf3effe296a"
      },
      "source": [
        "# Special Literal --> The None keyword is used to define a null value, or no value at all. \n",
        "#None is not the same as 0, False, or an empty string. None is a datatype of its own (NoneType) and only None can be None.\n",
        "x = None\n",
        "print(x)\n",
        "type(x) #Used to check the data type of the variable"
      ],
      "execution_count": null,
      "outputs": [
        {
          "output_type": "stream",
          "name": "stdout",
          "text": [
            "None\n"
          ]
        },
        {
          "output_type": "execute_result",
          "data": {
            "text/plain": [
              "NoneType"
            ]
          },
          "metadata": {},
          "execution_count": 44
        }
      ]
    },
    {
      "cell_type": "code",
      "metadata": {
        "colab": {
          "base_uri": "https://localhost:8080/"
        },
        "id": "Z3Dnxfsx5hqX",
        "outputId": "f00bb3d3-3961-4779-d85d-81f62d4a1ce8"
      },
      "source": [
        "None == 0"
      ],
      "execution_count": null,
      "outputs": [
        {
          "output_type": "execute_result",
          "data": {
            "text/plain": [
              "False"
            ]
          },
          "metadata": {},
          "execution_count": 46
        }
      ]
    },
    {
      "cell_type": "code",
      "metadata": {
        "id": "NY-wD1RivMXu"
      },
      "source": [
        "#basic broadcasting"
      ],
      "execution_count": null,
      "outputs": []
    },
    {
      "cell_type": "markdown",
      "metadata": {
        "id": "4q_iljbFh8dn"
      },
      "source": [
        "## Quiz - Slide 37"
      ]
    },
    {
      "cell_type": "markdown",
      "metadata": {
        "id": "bTOAbh0i7Vhr"
      },
      "source": [
        "![image.png](data:image/png;base64,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)"
      ]
    },
    {
      "cell_type": "code",
      "metadata": {
        "id": "9HdG8L3E67hL"
      },
      "source": [
        "true = 10"
      ],
      "execution_count": null,
      "outputs": []
    },
    {
      "cell_type": "code",
      "metadata": {
        "colab": {
          "base_uri": "https://localhost:8080/"
        },
        "id": "gdXhEcOP67SM",
        "outputId": "2c4ba979-847b-4e00-dc1e-220f00726363"
      },
      "source": [
        "#A\n",
        "print(type([10]))\n",
        "#B\n",
        "print(type(10))\n",
        "# C\n",
        "print(type((10,14)))\n",
        "# D\n",
        "print(type({10}))"
      ],
      "execution_count": null,
      "outputs": [
        {
          "output_type": "stream",
          "name": "stdout",
          "text": [
            "<class 'list'>\n",
            "<class 'int'>\n",
            "<class 'tuple'>\n",
            "<class 'set'>\n"
          ]
        }
      ]
    },
    {
      "cell_type": "code",
      "metadata": {
        "id": "GfE8QCxJ-6QA"
      },
      "source": [
        "x = 1000"
      ],
      "execution_count": null,
      "outputs": []
    },
    {
      "cell_type": "code",
      "metadata": {
        "colab": {
          "base_uri": "https://localhost:8080/"
        },
        "id": "3WVRiu2S-Bhq",
        "outputId": "1f342d46-9a12-4877-95c5-310727d5619e"
      },
      "source": [
        "# How to get the input\n",
        "# input(\"Hint\")\n",
        "x = input(\"What do u want to assign for x :\")\n",
        "print(x)"
      ],
      "execution_count": null,
      "outputs": [
        {
          "output_type": "stream",
          "name": "stdout",
          "text": [
            "What do u want to assign for x :1500\n",
            "1500\n"
          ]
        }
      ]
    },
    {
      "cell_type": "code",
      "metadata": {
        "colab": {
          "base_uri": "https://localhost:8080/"
        },
        "id": "QXpjzlVD_cDU",
        "outputId": "8afe9f1a-a8fe-49b5-c00d-e87f587ae99e"
      },
      "source": [
        "num1 = input(\"enter num 1 :\")\n",
        "num2 = input(\"enter num 2 :\")\n",
        "print(\"data type of num1 & num2 is:\",type(num1),type(num2))\n",
        "add = num1+num2\n",
        "print(add)\n",
        "print(\"data type of output is :\",type(add))"
      ],
      "execution_count": null,
      "outputs": [
        {
          "output_type": "stream",
          "name": "stdout",
          "text": [
            "enter num 1 :10\n",
            "enter num 2 :15\n",
            "data type of num1 & num2 is: <class 'str'> <class 'str'>\n",
            "1015\n",
            "data type of output is : <class 'str'>\n"
          ]
        }
      ]
    },
    {
      "cell_type": "code",
      "metadata": {
        "colab": {
          "base_uri": "https://localhost:8080/"
        },
        "id": "ieOn6TvSAWkI",
        "outputId": "ffabdc83-00e5-4a1a-dff0-12fd9ca0f8bc"
      },
      "source": [
        "num1 = int(input(\"enter num 1 :\"))\n",
        "num2 = input(\"enter num 2 :\")\n",
        "print(\"data type of num1 & num2 is:\",type(num1),type(num2))  \n",
        "add = num1+int(num2)\n",
        "print(add)\n",
        "print(\"data type of output is :\",type(add))"
      ],
      "execution_count": null,
      "outputs": [
        {
          "output_type": "stream",
          "name": "stdout",
          "text": [
            "enter num 1 :15\n",
            "enter num 2 :25\n",
            "data type of num1 & num2 is: <class 'int'> <class 'str'>\n",
            "40\n",
            "data type of output is : <class 'int'>\n"
          ]
        }
      ]
    },
    {
      "cell_type": "code",
      "metadata": {
        "id": "c3dmMbKgAtml"
      },
      "source": [
        "#build a calculator\n",
        "# gets two numbers\n",
        "# addition, multiplication, subtraction and division"
      ],
      "execution_count": null,
      "outputs": []
    },
    {
      "cell_type": "code",
      "metadata": {
        "colab": {
          "base_uri": "https://localhost:8080/"
        },
        "id": "qYdC7wFcE2Da",
        "outputId": "d1d993ef-a0d5-439a-b483-bd3eb0b06426"
      },
      "source": [
        "a,b,c = 10,20,30\n",
        "print(a,b,c)"
      ],
      "execution_count": null,
      "outputs": [
        {
          "output_type": "stream",
          "name": "stdout",
          "text": [
            "10 20 30\n"
          ]
        }
      ]
    },
    {
      "cell_type": "code",
      "metadata": {
        "id": "Dkp8y1tDEZow"
      },
      "source": [
        "#Swap values without using third variable\n",
        "a = 10\n",
        "b = 50\n",
        "a,b = b,a"
      ],
      "execution_count": null,
      "outputs": []
    },
    {
      "cell_type": "code",
      "metadata": {
        "colab": {
          "base_uri": "https://localhost:8080/"
        },
        "id": "f6vUIojwEmAA",
        "outputId": "98b5ba35-56ef-4cb7-fe9c-261ee8cbfd14"
      },
      "source": [
        "a,b"
      ],
      "execution_count": null,
      "outputs": [
        {
          "output_type": "execute_result",
          "data": {
            "text/plain": [
              "(50, 10)"
            ]
          },
          "metadata": {},
          "execution_count": 66
        }
      ]
    },
    {
      "cell_type": "code",
      "metadata": {
        "colab": {
          "base_uri": "https://localhost:8080/"
        },
        "id": "AR0hlmYwFL2S",
        "outputId": "f8c7a56b-eed7-4ce8-8ed4-4dadfa375c83"
      },
      "source": [
        "a = 10\n",
        "b = 50\n",
        "a = a+b # sum 60\n",
        "b = a - b # 10\n",
        "a = a - b # 50\n",
        "print(a,b)"
      ],
      "execution_count": null,
      "outputs": [
        {
          "output_type": "stream",
          "name": "stdout",
          "text": [
            "50 10\n"
          ]
        }
      ]
    },
    {
      "cell_type": "code",
      "metadata": {
        "colab": {
          "base_uri": "https://localhost:8080/"
        },
        "id": "QG1f6dfVFued",
        "outputId": "b5e22975-79d2-4322-894a-457b5b791a52"
      },
      "source": [
        "a = 10\n",
        "b = 50\n",
        "print(a,b)\n",
        "a = a^b \n",
        "b = b^a \n",
        "print(a,b)"
      ],
      "execution_count": null,
      "outputs": [
        {
          "output_type": "stream",
          "name": "stdout",
          "text": [
            "10 50\n",
            "56 10\n"
          ]
        }
      ]
    },
    {
      "cell_type": "markdown",
      "metadata": {
        "id": "8-tE2Bpkqrh1"
      },
      "source": [
        "15\n",
        "## Collection Objects"
      ]
    },
    {
      "cell_type": "code",
      "metadata": {
        "id": "aIwwNvfVICe8",
        "colab": {
          "base_uri": "https://localhost:8080/"
        },
        "outputId": "49cb231e-a47f-4b25-da02-c9448fbf3b4c"
      },
      "source": [
        "# Collection Literal --> Python provides the four types of literal collection such as List literals, Tuple literals, Dict literals, and Set literals.\n",
        "# List:\n",
        "\n",
        "# List contains items of different data types. Lists are mutable i.e., modifiable.\n",
        "# The values stored in List are separated by comma(,) and enclosed within square brackets([]). We can store different types of data in a List.\n",
        "list_2 =['James',455,24,\"Pan's\"]    \n",
        "list1=[354,'Andrew']    \n",
        "print(list_2)    \n",
        "print(list_2 + list1)  \n",
        "# can be modified"
      ],
      "execution_count": null,
      "outputs": [
        {
          "output_type": "stream",
          "name": "stdout",
          "text": [
            "['James', 455, 24, \"Pan's\"]\n",
            "['James', 455, 24, \"Pan's\", 354, 'Andrew']\n"
          ]
        }
      ]
    },
    {
      "cell_type": "code",
      "metadata": {
        "id": "EF0yFIGpJCL-",
        "colab": {
          "base_uri": "https://localhost:8080/"
        },
        "outputId": "6e37d1ff-db5a-4bf5-d710-46b291c68bc7"
      },
      "source": [
        "# Tuple:\n",
        "# cannot modify\n",
        "# Python tuple is a collection of different data-type. It is immutable which means it cannot be modified after creation.\n",
        "# It is enclosed by the parentheses () and each element is separated by the comma(,).\n",
        "tup = (10,20,\"Dave\",[1,2,3,4])  \n",
        "print(tup)  "
      ],
      "execution_count": null,
      "outputs": [
        {
          "output_type": "stream",
          "name": "stdout",
          "text": [
            "(10, 20, 'Dave', [1, 2, 3, 4])\n"
          ]
        }
      ]
    },
    {
      "cell_type": "code",
      "metadata": {
        "colab": {
          "base_uri": "https://localhost:8080/"
        },
        "id": "9Hw7L0JPNE7W",
        "outputId": "d14d2c80-b52e-4071-8158-67998fe658df"
      },
      "source": [
        "list_2 =['James',455,24,\"Pan's\",tup]  \n",
        "list_2"
      ],
      "execution_count": null,
      "outputs": [
        {
          "output_type": "execute_result",
          "data": {
            "text/plain": [
              "['James', 455, 24, \"Pan's\", (10, 20, 'Dave', [1, 2, 3, 4])]"
            ]
          },
          "metadata": {},
          "execution_count": 88
        }
      ]
    },
    {
      "cell_type": "code",
      "metadata": {
        "colab": {
          "base_uri": "https://localhost:8080/"
        },
        "id": "TJxMnNtkOYNP",
        "outputId": "35571ec0-bf61-4a48-9d62-a5198a28ab88"
      },
      "source": [
        "type(list_2)"
      ],
      "execution_count": null,
      "outputs": [
        {
          "output_type": "execute_result",
          "data": {
            "text/plain": [
              "list"
            ]
          },
          "metadata": {},
          "execution_count": 89
        }
      ]
    },
    {
      "cell_type": "code",
      "metadata": {
        "id": "UV6GQLgWIwHy",
        "colab": {
          "base_uri": "https://localhost:8080/"
        },
        "outputId": "978897d9-6423-4573-8b04-8c3345b8f112"
      },
      "source": [
        "# Dictionary:\n",
        "\n",
        "# Python dictionary stores the data in the key-value pair.\n",
        "# It is enclosed by curly-braces {} and each pair is separated by the commas(,).\n",
        "dict_1 = {'name': 'Peter', 'Age':22,'Roll_nu':139105212}\n",
        "print(dict_1)  "
      ],
      "execution_count": null,
      "outputs": [
        {
          "output_type": "stream",
          "name": "stdout",
          "text": [
            "{'name': 'Peter', 'Age': 22, 'Roll_nu': 139105212}\n"
          ]
        }
      ]
    },
    {
      "cell_type": "code",
      "metadata": {
        "id": "zQoRJJNzJLKB",
        "colab": {
          "base_uri": "https://localhost:8080/"
        },
        "outputId": "addfad8e-d31d-4b2f-e5d8-bc2a3f8a1ad6"
      },
      "source": [
        "# Set:\n",
        "# Python set is the collection of the unordered dataset.\n",
        "# It is enclosed by the {} and each element is separated by the comma(,).\n",
        "set_1 = {'apple','banana','mango','grapes'}  \n",
        "print(set_1)  "
      ],
      "execution_count": null,
      "outputs": [
        {
          "output_type": "stream",
          "name": "stdout",
          "text": [
            "{'apple', 'grapes', 'banana', 'mango'}\n"
          ]
        }
      ]
    },
    {
      "cell_type": "code",
      "metadata": {
        "colab": {
          "base_uri": "https://localhost:8080/"
        },
        "id": "F5Vhr-XRNd6g",
        "outputId": "94147c21-ff15-413d-91ca-32dac9df5107"
      },
      "source": [
        "set_2 = {\"a\",\"b\",\"c\",\"a\",\"b\",\"d\"}\n",
        "set_2"
      ],
      "execution_count": null,
      "outputs": [
        {
          "output_type": "execute_result",
          "data": {
            "text/plain": [
              "{'a', 'b', 'c', 'd'}"
            ]
          },
          "metadata": {},
          "execution_count": 78
        }
      ]
    },
    {
      "cell_type": "code",
      "metadata": {
        "id": "wBPGyPSoNrYq"
      },
      "source": [
        "#Broadcasting\n",
        "# list\n",
        "# tuple\n",
        "# set\n",
        "# dict"
      ],
      "execution_count": null,
      "outputs": []
    },
    {
      "cell_type": "code",
      "metadata": {
        "colab": {
          "base_uri": "https://localhost:8080/"
        },
        "id": "hPFLGbhTN1U8",
        "outputId": "abb02e72-05fc-4408-89c7-992f08b8927b"
      },
      "source": [
        "list(\"Hello\")"
      ],
      "execution_count": null,
      "outputs": [
        {
          "output_type": "execute_result",
          "data": {
            "text/plain": [
              "['H', 'e', 'l', 'l', 'o']"
            ]
          },
          "metadata": {},
          "execution_count": 79
        }
      ]
    },
    {
      "cell_type": "code",
      "metadata": {
        "colab": {
          "base_uri": "https://localhost:8080/"
        },
        "id": "auRcrnEeN7mR",
        "outputId": "d3fbaaa4-7c07-4cf2-eac7-7d047be8b250"
      },
      "source": [
        "set(\"Helllo\")"
      ],
      "execution_count": null,
      "outputs": [
        {
          "output_type": "execute_result",
          "data": {
            "text/plain": [
              "{'H', 'e', 'l', 'o'}"
            ]
          },
          "metadata": {},
          "execution_count": 80
        }
      ]
    },
    {
      "cell_type": "code",
      "metadata": {
        "colab": {
          "base_uri": "https://localhost:8080/"
        },
        "id": "7kZcw58NN-tq",
        "outputId": "2427140d-e360-4aa2-db24-0a5b1f1c51c8"
      },
      "source": [
        "list_1 = [1,2,3]\n",
        "type(list_1)"
      ],
      "execution_count": null,
      "outputs": [
        {
          "output_type": "execute_result",
          "data": {
            "text/plain": [
              "list"
            ]
          },
          "metadata": {},
          "execution_count": 83
        }
      ]
    },
    {
      "cell_type": "code",
      "metadata": {
        "colab": {
          "base_uri": "https://localhost:8080/"
        },
        "id": "s9ePWHLBOFy8",
        "outputId": "45f0357b-c71f-4785-cee1-4ef66a18c7bb"
      },
      "source": [
        "tuple(list_1), type(tuple(list_1))"
      ],
      "execution_count": null,
      "outputs": [
        {
          "output_type": "execute_result",
          "data": {
            "text/plain": [
              "((1, 2, 3), tuple)"
            ]
          },
          "metadata": {},
          "execution_count": 85
        }
      ]
    },
    {
      "cell_type": "code",
      "metadata": {
        "id": "YfrFHAiGORpL"
      },
      "source": [
        "blank_list = []\n",
        "blank_tup = ()\n",
        "blank_set = {}\n",
        "blank_dict = dict()"
      ],
      "execution_count": null,
      "outputs": []
    },
    {
      "cell_type": "code",
      "metadata": {
        "colab": {
          "base_uri": "https://localhost:8080/"
        },
        "id": "Hyv8tRYDO5uF",
        "outputId": "d22802d1-237d-4200-881a-d135af7784d3"
      },
      "source": [
        "print(type(blank_dict))"
      ],
      "execution_count": null,
      "outputs": [
        {
          "output_type": "stream",
          "name": "stdout",
          "text": [
            "<class 'dict'>\n"
          ]
        }
      ]
    },
    {
      "cell_type": "markdown",
      "metadata": {
        "id": "XQQN4OCR1jhN"
      },
      "source": [
        "##Data Types in Python"
      ]
    },
    {
      "cell_type": "markdown",
      "metadata": {
        "id": "VQSZkSVwS_ln"
      },
      "source": [
        "### Strings"
      ]
    },
    {
      "cell_type": "markdown",
      "metadata": {
        "id": "OmgHbDwaS_lo"
      },
      "source": [
        "Besides numbers, Python can also manipulate strings. Strings can enclosed in single quotes (`'...'`) or double quotes (`\"...\"`) with the same result. Use `\\` to escape quotes, that is, to use a quote within the string itself:"
      ]
    },
    {
      "cell_type": "code",
      "metadata": {
        "trusted": true,
        "id": "S7WzuXP0S_lp",
        "colab": {
          "base_uri": "https://localhost:8080/",
          "height": 35
        },
        "outputId": "c5b56f35-d9db-4906-91db-1959eec9dbb5"
      },
      "source": [
        "'spam eggs'  # Single quotes."
      ],
      "execution_count": null,
      "outputs": [
        {
          "output_type": "execute_result",
          "data": {
            "application/vnd.google.colaboratory.intrinsic+json": {
              "type": "string"
            },
            "text/plain": [
              "'spam eggs'"
            ]
          },
          "metadata": {},
          "execution_count": 92
        }
      ]
    },
    {
      "cell_type": "code",
      "metadata": {
        "trusted": true,
        "id": "FzJRH3H9S_lq",
        "colab": {
          "base_uri": "https://localhost:8080/",
          "height": 35
        },
        "outputId": "e02be48c-7a35-4cdd-c142-13f59456f6d7"
      },
      "source": [
        "'doesn\\'t'  # Use \\' to escape the single quote..."
      ],
      "execution_count": null,
      "outputs": [
        {
          "output_type": "execute_result",
          "data": {
            "application/vnd.google.colaboratory.intrinsic+json": {
              "type": "string"
            },
            "text/plain": [
              "\"doesn't\""
            ]
          },
          "metadata": {},
          "execution_count": 93
        }
      ]
    },
    {
      "cell_type": "code",
      "metadata": {
        "trusted": true,
        "id": "FDEl5GRDS_lu",
        "colab": {
          "base_uri": "https://localhost:8080/",
          "height": 35
        },
        "outputId": "5faa10f9-f98e-4014-fce9-9ba9e96b3b28"
      },
      "source": [
        "\"doesn't\"  # ...or use double quotes instead."
      ],
      "execution_count": null,
      "outputs": [
        {
          "output_type": "execute_result",
          "data": {
            "application/vnd.google.colaboratory.intrinsic+json": {
              "type": "string"
            },
            "text/plain": [
              "\"doesn't\""
            ]
          },
          "metadata": {},
          "execution_count": 94
        }
      ]
    },
    {
      "cell_type": "code",
      "metadata": {
        "trusted": true,
        "id": "4au8vsahS_lw",
        "colab": {
          "base_uri": "https://localhost:8080/",
          "height": 35
        },
        "outputId": "32bd8d4f-8e63-4e9e-e088-8f69a1d67be4"
      },
      "source": [
        "'\"Yes,\" he said.'"
      ],
      "execution_count": null,
      "outputs": [
        {
          "output_type": "execute_result",
          "data": {
            "application/vnd.google.colaboratory.intrinsic+json": {
              "type": "string"
            },
            "text/plain": [
              "'\"Yes,\" he said.'"
            ]
          },
          "metadata": {},
          "execution_count": 95
        }
      ]
    },
    {
      "cell_type": "code",
      "metadata": {
        "trusted": true,
        "id": "WD-D_A4QS_ly",
        "colab": {
          "base_uri": "https://localhost:8080/",
          "height": 35
        },
        "outputId": "ec8672ac-8a20-4233-d74e-d89b179ea9b1"
      },
      "source": [
        "\"\\\"Yes,\\\" he said.\""
      ],
      "execution_count": null,
      "outputs": [
        {
          "output_type": "execute_result",
          "data": {
            "application/vnd.google.colaboratory.intrinsic+json": {
              "type": "string"
            },
            "text/plain": [
              "'\"Yes,\" he said.'"
            ]
          },
          "metadata": {},
          "execution_count": 96
        }
      ]
    },
    {
      "cell_type": "code",
      "metadata": {
        "trusted": true,
        "id": "2iXsbD8nS_lz",
        "colab": {
          "base_uri": "https://localhost:8080/",
          "height": 35
        },
        "outputId": "4375e62a-8fa9-4a36-f84f-5f7c92ac6947"
      },
      "source": [
        "'\"Isn\\'t,\" she said.'"
      ],
      "execution_count": null,
      "outputs": [
        {
          "output_type": "execute_result",
          "data": {
            "application/vnd.google.colaboratory.intrinsic+json": {
              "type": "string"
            },
            "text/plain": [
              "'\"Isn\\'t,\" she said.'"
            ]
          },
          "metadata": {},
          "execution_count": 4
        }
      ]
    },
    {
      "cell_type": "markdown",
      "metadata": {
        "id": "KHycghMBS_l1"
      },
      "source": [
        "In the interactive interpreter and Jupyter notebooks, the output string is enclosed in quotes and special characters are escaped with backslashes. Although this output sometimes looks different from the input (the enclosing quotes could change), the two strings are equivalent. The string is enclosed in double quotes if the string contains a single quote and no double quotes, otherwise its enclosed in single quotes. The [`print()`](https://docs.python.org/3.6/library/functions.html#print) function produces a more readable output by omitting the enclosing quotes and by printing escaped and special characters:"
      ]
    },
    {
      "cell_type": "code",
      "metadata": {
        "trusted": true,
        "id": "g7IJdkXLS_l1",
        "colab": {
          "base_uri": "https://localhost:8080/",
          "height": 35
        },
        "outputId": "01cc9996-a866-4ee1-a888-859cf3f8d63f"
      },
      "source": [
        "'\"Isn\\'t,\" she said.'"
      ],
      "execution_count": null,
      "outputs": [
        {
          "output_type": "execute_result",
          "data": {
            "application/vnd.google.colaboratory.intrinsic+json": {
              "type": "string"
            },
            "text/plain": [
              "'\"Isn\\'t,\" she said.'"
            ]
          },
          "metadata": {},
          "execution_count": 97
        }
      ]
    },
    {
      "cell_type": "code",
      "metadata": {
        "trusted": true,
        "id": "8PXC1r-vS_l2",
        "colab": {
          "base_uri": "https://localhost:8080/"
        },
        "outputId": "e83e4820-edfe-48fd-f646-c9853adaec45"
      },
      "source": [
        "print('\"Isn\\'t,\" she said.')"
      ],
      "execution_count": null,
      "outputs": [
        {
          "output_type": "stream",
          "name": "stdout",
          "text": [
            "\"Isn't,\" she said.\n"
          ]
        }
      ]
    },
    {
      "cell_type": "code",
      "metadata": {
        "trusted": true,
        "id": "aFTympE2S_l3",
        "colab": {
          "base_uri": "https://localhost:8080/",
          "height": 35
        },
        "outputId": "ba65809a-d9a6-4aeb-c075-8ebcf352703b"
      },
      "source": [
        "s = 'First line.\\nSecond line.'  # \\n means newline.\n",
        "s  # Without print(), \\n is included in the output."
      ],
      "execution_count": null,
      "outputs": [
        {
          "output_type": "execute_result",
          "data": {
            "application/vnd.google.colaboratory.intrinsic+json": {
              "type": "string"
            },
            "text/plain": [
              "'First line.\\nSecond line.'"
            ]
          },
          "metadata": {},
          "execution_count": 99
        }
      ]
    },
    {
      "cell_type": "code",
      "metadata": {
        "trusted": true,
        "id": "WfymncsiS_l5",
        "colab": {
          "base_uri": "https://localhost:8080/"
        },
        "outputId": "33d47244-f126-479b-bd8b-baba2dea3ee2"
      },
      "source": [
        "print(s)  # With print(), \\n produces a new line."
      ],
      "execution_count": null,
      "outputs": [
        {
          "output_type": "stream",
          "name": "stdout",
          "text": [
            "First line.\n",
            "Second line.\n"
          ]
        }
      ]
    },
    {
      "cell_type": "markdown",
      "metadata": {
        "id": "hgKk5iuwS_l6"
      },
      "source": [
        "If you don't want escaped characters (prefaced by `\\`) to be interpreted as special characters, use *raw strings* by adding an `r` before the first quote:"
      ]
    },
    {
      "cell_type": "code",
      "metadata": {
        "trusted": true,
        "id": "UyMmv79kS_l8",
        "colab": {
          "base_uri": "https://localhost:8080/"
        },
        "outputId": "6bc79594-95cd-4cb1-bce1-434e1d8bca9c"
      },
      "source": [
        "print('C:\\some\\name')  # Here \\n means newline!"
      ],
      "execution_count": null,
      "outputs": [
        {
          "output_type": "stream",
          "name": "stdout",
          "text": [
            "C:\\some\n",
            "ame\n"
          ]
        }
      ]
    },
    {
      "cell_type": "code",
      "metadata": {
        "trusted": true,
        "id": "Nh23_Xw-S_l9",
        "colab": {
          "base_uri": "https://localhost:8080/"
        },
        "outputId": "2029a345-280a-4665-d735-10f3a1aa9bb9"
      },
      "source": [
        "print(r'C:\\some\\name')  # Note the r before the quote."
      ],
      "execution_count": null,
      "outputs": [
        {
          "output_type": "stream",
          "name": "stdout",
          "text": [
            "C:\\some\\name\n"
          ]
        }
      ]
    },
    {
      "cell_type": "markdown",
      "metadata": {
        "id": "UPbxgoCsS_l-"
      },
      "source": [
        "String literals can span multiple lines and are delineated by triple-quotes: `\"\"\"...\"\"\"` or `'''...'''`. End of lines are automatically included in the string, but it's possible to prevent this by adding a `\\` at the end of the line. For example, without a `\\`, the following example includes an extra line at the beginning of the output:"
      ]
    },
    {
      "cell_type": "code",
      "metadata": {
        "trusted": true,
        "id": "5LNXRTdKS_l_",
        "colab": {
          "base_uri": "https://localhost:8080/"
        },
        "outputId": "61ffb846-4ac9-4452-bf51-1ad5fe1a7391"
      },
      "source": [
        "print(\"\"\"\n",
        "Usage: thingy [OPTIONS]\n",
        "     -h                        Display this usage message\n",
        "     -H hostname               Hostname to connect to\n",
        "\"\"\")"
      ],
      "execution_count": null,
      "outputs": [
        {
          "output_type": "stream",
          "name": "stdout",
          "text": [
            "\n",
            "Usage: thingy [OPTIONS]\n",
            "     -h                        Display this usage message\n",
            "     -H hostname               Hostname to connect to\n",
            "\n"
          ]
        }
      ]
    },
    {
      "cell_type": "markdown",
      "metadata": {
        "id": "w2i871_6S_mA"
      },
      "source": [
        "Adding a `\\` removes that extra line:"
      ]
    },
    {
      "cell_type": "code",
      "metadata": {
        "trusted": true,
        "id": "M947f-nMS_mA",
        "colab": {
          "base_uri": "https://localhost:8080/"
        },
        "outputId": "f6ef9672-5864-495e-eec0-864123b18b59"
      },
      "source": [
        "print(\"\"\"\\\n",
        "Usage: thingy [OPTIONS]\n",
        "     -h                        Display this usage message\n",
        "     -H hostname               Hostname to connect to\n",
        "\"\"\")"
      ],
      "execution_count": null,
      "outputs": [
        {
          "output_type": "stream",
          "name": "stdout",
          "text": [
            "Usage: thingy [OPTIONS]\n",
            "     -h                        Display this usage message\n",
            "     -H hostname               Hostname to connect to\n",
            "\n"
          ]
        }
      ]
    },
    {
      "cell_type": "markdown",
      "metadata": {
        "id": "YlETWuXiS_mC"
      },
      "source": [
        "Because Python doesn't provide a means for creating multi-line comments, developers often just use triple quotes for this purpose. In a Jupyter notebook, however, such quotes define a string literal which appears as the output of a code cell:"
      ]
    },
    {
      "cell_type": "code",
      "metadata": {
        "trusted": true,
        "id": "JBPG173LS_mC"
      },
      "source": [
        "\"\"\"\n",
        "Everything between the first three quotes, including new lines,\n",
        "is part of the multi-line comment. Technically, the Python interpreter\n",
        "simply sees the comment as a string, and because it's not otherwise\n",
        "used in code, the string is ignored. Convenient, eh?\n",
        "\"\"\""
      ],
      "execution_count": null,
      "outputs": []
    },
    {
      "cell_type": "markdown",
      "metadata": {
        "id": "fINzM6AOS_mD"
      },
      "source": [
        "For this reason, it's best in notebooks to use the `#` comment character at the beginning of each line, or better still, just use a Markdown cell!"
      ]
    },
    {
      "cell_type": "markdown",
      "metadata": {
        "id": "iGHFyM-CS_mD"
      },
      "source": [
        "Strings can be *concatenated* (glued together) with the `+` operator, and repeated with `*`:"
      ]
    },
    {
      "cell_type": "code",
      "metadata": {
        "trusted": true,
        "id": "wB0dU8WlS_mE",
        "colab": {
          "base_uri": "https://localhost:8080/",
          "height": 35
        },
        "outputId": "bd6eb57c-fa35-4b7b-d675-c6efb904c983"
      },
      "source": [
        "# 3 times 'un', followed by 'ium'\n",
        "3 * 'un' + 'ium'"
      ],
      "execution_count": null,
      "outputs": [
        {
          "output_type": "execute_result",
          "data": {
            "application/vnd.google.colaboratory.intrinsic+json": {
              "type": "string"
            },
            "text/plain": [
              "'unununium'"
            ]
          },
          "metadata": {},
          "execution_count": 15
        }
      ]
    },
    {
      "cell_type": "code",
      "metadata": {
        "colab": {
          "base_uri": "https://localhost:8080/"
        },
        "id": "kuwhQlmiRWek",
        "outputId": "ed1daf69-d6cc-4db1-ddba-a661ca25cf83"
      },
      "source": [
        "print(\" \" + \"Hello\" + \"'\" + \"World\")"
      ],
      "execution_count": null,
      "outputs": [
        {
          "output_type": "stream",
          "name": "stdout",
          "text": [
            " Hello'World\n"
          ]
        }
      ]
    },
    {
      "cell_type": "markdown",
      "metadata": {
        "id": "XqrQND2JS_mF"
      },
      "source": [
        "Two or more *string literals* (that is, the values enclosed in quotes) placed next to each other are automatically concatenated:"
      ]
    },
    {
      "cell_type": "code",
      "metadata": {
        "trusted": true,
        "id": "ur5Cp2D2S_mF",
        "colab": {
          "base_uri": "https://localhost:8080/",
          "height": 35
        },
        "outputId": "4acfe4c6-b173-4e17-aadd-e56e5f6db3f1"
      },
      "source": [
        "'Py' 'thon'"
      ],
      "execution_count": null,
      "outputs": [
        {
          "output_type": "execute_result",
          "data": {
            "application/vnd.google.colaboratory.intrinsic+json": {
              "type": "string"
            },
            "text/plain": [
              "'Python'"
            ]
          },
          "metadata": {},
          "execution_count": 108
        }
      ]
    },
    {
      "cell_type": "markdown",
      "metadata": {
        "id": "k5QmKtZmS_mG"
      },
      "source": [
        "Automatic concatenation works only with two literals; it does not work with variables or expressions, so the following cell produces an error:"
      ]
    },
    {
      "cell_type": "code",
      "metadata": {
        "trusted": true,
        "id": "Hw3jcgLqS_mH",
        "colab": {
          "base_uri": "https://localhost:8080/",
          "height": 130
        },
        "outputId": "9c5255f5-9f98-4d71-dec7-952e87d583af"
      },
      "source": [
        "prefix = 'Py'\n",
        "prefix 'thon'  # Can't concatenate a variable and a string literal."
      ],
      "execution_count": null,
      "outputs": [
        {
          "output_type": "error",
          "ename": "SyntaxError",
          "evalue": "ignored",
          "traceback": [
            "\u001b[0;36m  File \u001b[0;32m\"<ipython-input-109-00ad70cd97bc>\"\u001b[0;36m, line \u001b[0;32m2\u001b[0m\n\u001b[0;31m    prefix 'thon'  # Can't concatenate a variable and a string literal.\u001b[0m\n\u001b[0m                ^\u001b[0m\n\u001b[0;31mSyntaxError\u001b[0m\u001b[0;31m:\u001b[0m invalid syntax\n"
          ]
        }
      ]
    },
    {
      "cell_type": "markdown",
      "metadata": {
        "id": "tOEyViOdS_mI"
      },
      "source": [
        "The following cell likewise produces an error:"
      ]
    },
    {
      "cell_type": "code",
      "metadata": {
        "trusted": true,
        "id": "r-4WqfmES_mI",
        "colab": {
          "base_uri": "https://localhost:8080/",
          "height": 130
        },
        "outputId": "269de3e1-9c5c-423b-e0aa-ab760d1e5fd6"
      },
      "source": [
        "('un' * 3) 'ium'"
      ],
      "execution_count": null,
      "outputs": [
        {
          "output_type": "error",
          "ename": "SyntaxError",
          "evalue": "ignored",
          "traceback": [
            "\u001b[0;36m  File \u001b[0;32m\"<ipython-input-112-f4764cbe42a8>\"\u001b[0;36m, line \u001b[0;32m1\u001b[0m\n\u001b[0;31m    ('un' * 3) 'ium'\u001b[0m\n\u001b[0m                   ^\u001b[0m\n\u001b[0;31mSyntaxError\u001b[0m\u001b[0;31m:\u001b[0m invalid syntax\n"
          ]
        }
      ]
    },
    {
      "cell_type": "markdown",
      "metadata": {
        "id": "doeE8G3QS_mJ"
      },
      "source": [
        "To concatenate variables, or a variable and a literal, use `+`:"
      ]
    },
    {
      "cell_type": "code",
      "metadata": {
        "trusted": true,
        "id": "WT5gOe-4S_mJ",
        "colab": {
          "base_uri": "https://localhost:8080/",
          "height": 35
        },
        "outputId": "3d210658-075b-4285-da7e-3b2302992549"
      },
      "source": [
        "prefix = 'Py'\n",
        "prefix + 'thon'"
      ],
      "execution_count": null,
      "outputs": [
        {
          "output_type": "execute_result",
          "data": {
            "application/vnd.google.colaboratory.intrinsic+json": {
              "type": "string"
            },
            "text/plain": [
              "'Python'"
            ]
          },
          "metadata": {},
          "execution_count": 113
        }
      ]
    },
    {
      "cell_type": "markdown",
      "metadata": {
        "id": "mG3qrSiDS_mL"
      },
      "source": [
        "Automatic concatenation is particularly useful when you want to break up long strings:"
      ]
    },
    {
      "cell_type": "code",
      "metadata": {
        "trusted": true,
        "id": "o_bbHVaxS_mM",
        "colab": {
          "base_uri": "https://localhost:8080/",
          "height": 35
        },
        "outputId": "ffdbdaf5-274b-42a1-cb39-fa6af86c2d9e"
      },
      "source": [
        "text = ('Put several strings within parentheses '\n",
        "            'to have them joined together.')\n",
        "text"
      ],
      "execution_count": null,
      "outputs": [
        {
          "output_type": "execute_result",
          "data": {
            "application/vnd.google.colaboratory.intrinsic+json": {
              "type": "string"
            },
            "text/plain": [
              "'Put several strings within parentheses to have them joined together.'"
            ]
          },
          "metadata": {},
          "execution_count": 114
        }
      ]
    },
    {
      "cell_type": "markdown",
      "metadata": {
        "id": "au80-JlwS_mM"
      },
      "source": [
        "Strings can be *indexed* (subscripted), with the first character having index 0. There is no separate character type; a character is simply a string of size one:"
      ]
    },
    {
      "cell_type": "code",
      "metadata": {
        "colab": {
          "base_uri": "https://localhost:8080/",
          "height": 35
        },
        "id": "JoW_ma-LTnD-",
        "outputId": "2d1e122c-4fab-426e-c4e9-180b2aa08cbc"
      },
      "source": [
        "x = \"hello world\"\n",
        "x[2]"
      ],
      "execution_count": null,
      "outputs": [
        {
          "output_type": "execute_result",
          "data": {
            "application/vnd.google.colaboratory.intrinsic+json": {
              "type": "string"
            },
            "text/plain": [
              "'l'"
            ]
          },
          "metadata": {},
          "execution_count": 115
        }
      ]
    },
    {
      "cell_type": "code",
      "metadata": {
        "colab": {
          "base_uri": "https://localhost:8080/",
          "height": 35
        },
        "id": "tzPkFrTcUKPg",
        "outputId": "405b505b-0dee-4339-f47e-6e7c83ff981a"
      },
      "source": [
        "x[5]"
      ],
      "execution_count": null,
      "outputs": [
        {
          "output_type": "execute_result",
          "data": {
            "application/vnd.google.colaboratory.intrinsic+json": {
              "type": "string"
            },
            "text/plain": [
              "' '"
            ]
          },
          "metadata": {},
          "execution_count": 118
        }
      ]
    },
    {
      "cell_type": "code",
      "metadata": {
        "colab": {
          "base_uri": "https://localhost:8080/",
          "height": 35
        },
        "id": "nA3sFotKTwEI",
        "outputId": "e38e6b3f-7ea5-4bac-86d7-b92c762dff48"
      },
      "source": [
        "x[6:8] # end position is exclusive, start is inclusive"
      ],
      "execution_count": null,
      "outputs": [
        {
          "output_type": "execute_result",
          "data": {
            "application/vnd.google.colaboratory.intrinsic+json": {
              "type": "string"
            },
            "text/plain": [
              "'wo'"
            ]
          },
          "metadata": {},
          "execution_count": 116
        }
      ]
    },
    {
      "cell_type": "code",
      "metadata": {
        "colab": {
          "base_uri": "https://localhost:8080/",
          "height": 35
        },
        "id": "-DuE-UwWUjLb",
        "outputId": "fa4d746a-799b-4991-d26e-5934e041e11b"
      },
      "source": [
        "x"
      ],
      "execution_count": null,
      "outputs": [
        {
          "output_type": "execute_result",
          "data": {
            "application/vnd.google.colaboratory.intrinsic+json": {
              "type": "string"
            },
            "text/plain": [
              "'hello world'"
            ]
          },
          "metadata": {},
          "execution_count": 120
        }
      ]
    },
    {
      "cell_type": "code",
      "metadata": {
        "colab": {
          "base_uri": "https://localhost:8080/",
          "height": 35
        },
        "id": "5-PX3sbDUgwa",
        "outputId": "b929dac9-f284-42d7-cce4-8184d848d064"
      },
      "source": [
        "x[:5] # start from zero x[0:5]"
      ],
      "execution_count": null,
      "outputs": [
        {
          "output_type": "execute_result",
          "data": {
            "application/vnd.google.colaboratory.intrinsic+json": {
              "type": "string"
            },
            "text/plain": [
              "'hello'"
            ]
          },
          "metadata": {},
          "execution_count": 119
        }
      ]
    },
    {
      "cell_type": "code",
      "metadata": {
        "colab": {
          "base_uri": "https://localhost:8080/",
          "height": 35
        },
        "id": "a4Ch73wXUh-m",
        "outputId": "47b7c1c2-e9a5-4775-8643-1bb53cec4305"
      },
      "source": [
        "x[5:]"
      ],
      "execution_count": null,
      "outputs": [
        {
          "output_type": "execute_result",
          "data": {
            "application/vnd.google.colaboratory.intrinsic+json": {
              "type": "string"
            },
            "text/plain": [
              "' world'"
            ]
          },
          "metadata": {},
          "execution_count": 121
        }
      ]
    },
    {
      "cell_type": "code",
      "metadata": {
        "colab": {
          "base_uri": "https://localhost:8080/",
          "height": 35
        },
        "id": "1VAYj5hUT8kK",
        "outputId": "5f8bcf41-4e51-41de-d422-562cba9451aa"
      },
      "source": [
        "x[6:9]"
      ],
      "execution_count": null,
      "outputs": [
        {
          "output_type": "execute_result",
          "data": {
            "application/vnd.google.colaboratory.intrinsic+json": {
              "type": "string"
            },
            "text/plain": [
              "'wor'"
            ]
          },
          "metadata": {},
          "execution_count": 117
        }
      ]
    },
    {
      "cell_type": "code",
      "metadata": {
        "colab": {
          "base_uri": "https://localhost:8080/",
          "height": 35
        },
        "id": "PZgiyVHsVCOs",
        "outputId": "757ab274-80be-4d93-dec5-3926a0c9453c"
      },
      "source": [
        "x[-1]"
      ],
      "execution_count": null,
      "outputs": [
        {
          "output_type": "execute_result",
          "data": {
            "application/vnd.google.colaboratory.intrinsic+json": {
              "type": "string"
            },
            "text/plain": [
              "'d'"
            ]
          },
          "metadata": {},
          "execution_count": 122
        }
      ]
    },
    {
      "cell_type": "code",
      "metadata": {
        "colab": {
          "base_uri": "https://localhost:8080/",
          "height": 35
        },
        "id": "jIg0l2t3VDeW",
        "outputId": "60023bd5-601e-4c68-fa20-6ee426ab9b8a"
      },
      "source": [
        "x[-1:-5]"
      ],
      "execution_count": null,
      "outputs": [
        {
          "output_type": "execute_result",
          "data": {
            "application/vnd.google.colaboratory.intrinsic+json": {
              "type": "string"
            },
            "text/plain": [
              "''"
            ]
          },
          "metadata": {},
          "execution_count": 125
        }
      ]
    },
    {
      "cell_type": "code",
      "metadata": {
        "colab": {
          "base_uri": "https://localhost:8080/",
          "height": 35
        },
        "id": "i36Ap15hVCEi",
        "outputId": "8a20d931-6565-41b0-8835-79f496618174"
      },
      "source": [
        "x[-5:-1]"
      ],
      "execution_count": null,
      "outputs": [
        {
          "output_type": "execute_result",
          "data": {
            "application/vnd.google.colaboratory.intrinsic+json": {
              "type": "string"
            },
            "text/plain": [
              "'worl'"
            ]
          },
          "metadata": {},
          "execution_count": 126
        }
      ]
    },
    {
      "cell_type": "code",
      "metadata": {
        "colab": {
          "base_uri": "https://localhost:8080/",
          "height": 35
        },
        "id": "Y6Vz6guyVlgL",
        "outputId": "857af602-9ce7-41ea-f2e6-9e6319b23a72"
      },
      "source": [
        "x[-5:]"
      ],
      "execution_count": null,
      "outputs": [
        {
          "output_type": "execute_result",
          "data": {
            "application/vnd.google.colaboratory.intrinsic+json": {
              "type": "string"
            },
            "text/plain": [
              "'world'"
            ]
          },
          "metadata": {},
          "execution_count": 127
        }
      ]
    },
    {
      "cell_type": "code",
      "metadata": {
        "trusted": true,
        "id": "d2gZ4UbGS_mN",
        "colab": {
          "base_uri": "https://localhost:8080/",
          "height": 35
        },
        "outputId": "19c3ec6f-9de6-4c78-e76e-cf007e0edb6b"
      },
      "source": [
        "word = 'Python'\n",
        "word[0]  # Character in position 0."
      ],
      "execution_count": null,
      "outputs": [
        {
          "output_type": "execute_result",
          "data": {
            "application/vnd.google.colaboratory.intrinsic+json": {
              "type": "string"
            },
            "text/plain": [
              "'P'"
            ]
          },
          "metadata": {},
          "execution_count": 128
        }
      ]
    },
    {
      "cell_type": "code",
      "metadata": {
        "trusted": true,
        "id": "N37gmbYSS_mO",
        "colab": {
          "base_uri": "https://localhost:8080/",
          "height": 35
        },
        "outputId": "ca770474-3573-40d3-c077-ee03f634e430"
      },
      "source": [
        "word[5]  # Character in position 5."
      ],
      "execution_count": null,
      "outputs": [
        {
          "output_type": "execute_result",
          "data": {
            "application/vnd.google.colaboratory.intrinsic+json": {
              "type": "string"
            },
            "text/plain": [
              "'n'"
            ]
          },
          "metadata": {},
          "execution_count": 129
        }
      ]
    },
    {
      "cell_type": "markdown",
      "metadata": {
        "id": "FyW_27SCS_mP"
      },
      "source": [
        "Indices may also be negative numbers, which means to start counting from the end of the string. Note that because -0 is the same as 0, negative indices start from -1:"
      ]
    },
    {
      "cell_type": "code",
      "metadata": {
        "trusted": true,
        "id": "Ks-53v18S_mP",
        "colab": {
          "base_uri": "https://localhost:8080/",
          "height": 35
        },
        "outputId": "5ec91fea-7686-4b56-eb47-708cd10acba3"
      },
      "source": [
        "word[-1]  # Last character."
      ],
      "execution_count": null,
      "outputs": [
        {
          "output_type": "execute_result",
          "data": {
            "application/vnd.google.colaboratory.intrinsic+json": {
              "type": "string"
            },
            "text/plain": [
              "'n'"
            ]
          },
          "metadata": {},
          "execution_count": 130
        }
      ]
    },
    {
      "cell_type": "code",
      "metadata": {
        "trusted": true,
        "id": "SK5SqqxkS_mQ",
        "colab": {
          "base_uri": "https://localhost:8080/",
          "height": 35
        },
        "outputId": "4a40c49c-cc42-4c74-b56e-ad85830cc68c"
      },
      "source": [
        "word[-2]  # Second-last character."
      ],
      "execution_count": null,
      "outputs": [
        {
          "output_type": "execute_result",
          "data": {
            "application/vnd.google.colaboratory.intrinsic+json": {
              "type": "string"
            },
            "text/plain": [
              "'o'"
            ]
          },
          "metadata": {},
          "execution_count": 131
        }
      ]
    },
    {
      "cell_type": "code",
      "metadata": {
        "trusted": true,
        "id": "GlnguB3QS_mR",
        "colab": {
          "base_uri": "https://localhost:8080/",
          "height": 35
        },
        "outputId": "f9589e1f-af7e-409f-9e21-6bd97f2c32fe"
      },
      "source": [
        "word[-6]"
      ],
      "execution_count": null,
      "outputs": [
        {
          "output_type": "execute_result",
          "data": {
            "application/vnd.google.colaboratory.intrinsic+json": {
              "type": "string"
            },
            "text/plain": [
              "'P'"
            ]
          },
          "metadata": {},
          "execution_count": 132
        }
      ]
    },
    {
      "cell_type": "markdown",
      "metadata": {
        "id": "JTAQqIdYS_mU"
      },
      "source": [
        "In addition to indexing, which extracts individual characters, Python also supports *slicing*, which extracts a substring. To slide, you indicate a *range* in the format `start:end`, where the start position is included but the end position is excluded:"
      ]
    },
    {
      "cell_type": "code",
      "metadata": {
        "trusted": true,
        "id": "ys8uuv-0S_mU",
        "colab": {
          "base_uri": "https://localhost:8080/",
          "height": 35
        },
        "outputId": "33dfa69a-f414-4a7d-87a7-1fdc5031e2c9"
      },
      "source": [
        "word[0:2]  # Characters from position 0 (included) to 2 (excluded)."
      ],
      "execution_count": null,
      "outputs": [
        {
          "output_type": "execute_result",
          "data": {
            "application/vnd.google.colaboratory.intrinsic+json": {
              "type": "string"
            },
            "text/plain": [
              "'Py'"
            ]
          },
          "metadata": {},
          "execution_count": 133
        }
      ]
    },
    {
      "cell_type": "code",
      "metadata": {
        "trusted": true,
        "id": "O3gXqpuPS_mV",
        "colab": {
          "base_uri": "https://localhost:8080/",
          "height": 35
        },
        "outputId": "5c6b3dd8-6f66-4989-f361-23b314ce0a6e"
      },
      "source": [
        "word[2:5]  # Characters from position 2 (included) to 5 (excluded)."
      ],
      "execution_count": null,
      "outputs": [
        {
          "output_type": "execute_result",
          "data": {
            "application/vnd.google.colaboratory.intrinsic+json": {
              "type": "string"
            },
            "text/plain": [
              "'tho'"
            ]
          },
          "metadata": {},
          "execution_count": 134
        }
      ]
    },
    {
      "cell_type": "markdown",
      "metadata": {
        "id": "WyJggKxwS_mW"
      },
      "source": [
        "If you omit either position, the default start position is 0 and the default end is the length of the string:"
      ]
    },
    {
      "cell_type": "code",
      "metadata": {
        "trusted": true,
        "id": "am6uyJATS_mW",
        "colab": {
          "base_uri": "https://localhost:8080/",
          "height": 35
        },
        "outputId": "98107fb1-a84e-4c1d-9ff8-bf7ddacf2e63"
      },
      "source": [
        "word[:2]   # Character from the beginning to position 2 (excluded)."
      ],
      "execution_count": null,
      "outputs": [
        {
          "output_type": "execute_result",
          "data": {
            "application/vnd.google.colaboratory.intrinsic+json": {
              "type": "string"
            },
            "text/plain": [
              "'Py'"
            ]
          },
          "metadata": {},
          "execution_count": 135
        }
      ]
    },
    {
      "cell_type": "code",
      "metadata": {
        "trusted": true,
        "id": "WVTZFKNCS_mX",
        "colab": {
          "base_uri": "https://localhost:8080/",
          "height": 35
        },
        "outputId": "3a1739c7-de03-4419-ce5a-c64ca4a9f2cd"
      },
      "source": [
        "word[4:]  # Characters from position 4 (included) to the end."
      ],
      "execution_count": null,
      "outputs": [
        {
          "output_type": "execute_result",
          "data": {
            "application/vnd.google.colaboratory.intrinsic+json": {
              "type": "string"
            },
            "text/plain": [
              "'on'"
            ]
          },
          "metadata": {},
          "execution_count": 136
        }
      ]
    },
    {
      "cell_type": "code",
      "metadata": {
        "trusted": true,
        "id": "4URHDyXiS_mY",
        "colab": {
          "base_uri": "https://localhost:8080/",
          "height": 35
        },
        "outputId": "346ae044-c706-439d-ae4a-2a6759c5be27"
      },
      "source": [
        "word[-2:] # Characters from the second-last (included) to the end."
      ],
      "execution_count": null,
      "outputs": [
        {
          "output_type": "execute_result",
          "data": {
            "application/vnd.google.colaboratory.intrinsic+json": {
              "type": "string"
            },
            "text/plain": [
              "'on'"
            ]
          },
          "metadata": {},
          "execution_count": 137
        }
      ]
    },
    {
      "cell_type": "markdown",
      "metadata": {
        "id": "2NWWwnnFS_mZ"
      },
      "source": [
        "This characteristic means that `s[:i] + s[i:]` is always equal to `s`:"
      ]
    },
    {
      "cell_type": "code",
      "metadata": {
        "trusted": true,
        "id": "5W_dnCKUS_ma",
        "colab": {
          "base_uri": "https://localhost:8080/",
          "height": 35
        },
        "outputId": "f8ea2ee8-f458-477a-fa74-abfb761851fa"
      },
      "source": [
        "word[:2] + word[2:]"
      ],
      "execution_count": null,
      "outputs": [
        {
          "output_type": "execute_result",
          "data": {
            "application/vnd.google.colaboratory.intrinsic+json": {
              "type": "string"
            },
            "text/plain": [
              "'Python'"
            ]
          },
          "metadata": {},
          "execution_count": 138
        }
      ]
    },
    {
      "cell_type": "code",
      "metadata": {
        "trusted": true,
        "id": "pNrnlAMXS_mb",
        "colab": {
          "base_uri": "https://localhost:8080/",
          "height": 35
        },
        "outputId": "3838fd47-1720-400f-c6d4-1d0db3135c30"
      },
      "source": [
        "word[:4] + word[4:]"
      ],
      "execution_count": null,
      "outputs": [
        {
          "output_type": "execute_result",
          "data": {
            "application/vnd.google.colaboratory.intrinsic+json": {
              "type": "string"
            },
            "text/plain": [
              "'Python'"
            ]
          },
          "metadata": {},
          "execution_count": 139
        }
      ]
    },
    {
      "cell_type": "markdown",
      "metadata": {
        "id": "qd1KiPgeS_me"
      },
      "source": [
        "One way to remember how slices work is to think of the indices as pointing between characters, with the left edge of the first character numbered 0. Then the right edge of the last character of a string of *n* characters has index *n*. For example:"
      ]
    },
    {
      "cell_type": "markdown",
      "metadata": {
        "id": "dlpLslq5S_me"
      },
      "source": [
        "The first row of numbers gives the position of the indices 0...6 in the string; the second row gives the corresponding negative indices. The slice from *i* to *j* consists of all characters between the edges labeled *i* and *j*, respectively.\n",
        "\n",
        "For non-negative indices, the length of a slice is the difference of the indices, if both are within bounds. For example, the length of `word[1:3]` is 2.\n",
        "\n",
        "Attempting to use an index that is too large results in an error:"
      ]
    },
    {
      "cell_type": "code",
      "metadata": {
        "colab": {
          "base_uri": "https://localhost:8080/",
          "height": 35
        },
        "id": "Wrdpq9GFWEX0",
        "outputId": "fb3cfe28-95f9-47d1-dc8b-b629cc3a5568"
      },
      "source": [
        "word"
      ],
      "execution_count": null,
      "outputs": [
        {
          "output_type": "execute_result",
          "data": {
            "application/vnd.google.colaboratory.intrinsic+json": {
              "type": "string"
            },
            "text/plain": [
              "'Python'"
            ]
          },
          "metadata": {},
          "execution_count": 141
        }
      ]
    },
    {
      "cell_type": "code",
      "metadata": {
        "trusted": true,
        "id": "A27ZUB4mS_me",
        "colab": {
          "base_uri": "https://localhost:8080/",
          "height": 164
        },
        "outputId": "fa2d6f69-b65c-4db8-b24e-21d0b31ebf8a"
      },
      "source": [
        "word[42]  # The word only has 6 characters."
      ],
      "execution_count": null,
      "outputs": [
        {
          "output_type": "error",
          "ename": "IndexError",
          "evalue": "ignored",
          "traceback": [
            "\u001b[0;31m---------------------------------------------------------------------------\u001b[0m",
            "\u001b[0;31mIndexError\u001b[0m                                Traceback (most recent call last)",
            "\u001b[0;32m<ipython-input-140-e894f93573ea>\u001b[0m in \u001b[0;36m<module>\u001b[0;34m()\u001b[0m\n\u001b[0;32m----> 1\u001b[0;31m \u001b[0mword\u001b[0m\u001b[0;34m[\u001b[0m\u001b[0;36m42\u001b[0m\u001b[0;34m]\u001b[0m  \u001b[0;31m# The word only has 6 characters.\u001b[0m\u001b[0;34m\u001b[0m\u001b[0;34m\u001b[0m\u001b[0m\n\u001b[0m",
            "\u001b[0;31mIndexError\u001b[0m: string index out of range"
          ]
        }
      ]
    },
    {
      "cell_type": "markdown",
      "metadata": {
        "id": "eRffX76AS_mg"
      },
      "source": [
        "However, when used in a range, an index that's too large defaults to the size of the string and does not give an error. This characteristic is useful when you always want to slice at a particular index regardless of the length of a string:"
      ]
    },
    {
      "cell_type": "code",
      "metadata": {
        "trusted": true,
        "id": "__7rIzHlS_mg",
        "colab": {
          "base_uri": "https://localhost:8080/",
          "height": 35
        },
        "outputId": "c8d9d332-7f36-4700-b6a2-c5fb13f3077e"
      },
      "source": [
        "word[4:42]"
      ],
      "execution_count": null,
      "outputs": [
        {
          "output_type": "execute_result",
          "data": {
            "application/vnd.google.colaboratory.intrinsic+json": {
              "type": "string"
            },
            "text/plain": [
              "'on'"
            ]
          },
          "metadata": {},
          "execution_count": 142
        }
      ]
    },
    {
      "cell_type": "code",
      "metadata": {
        "trusted": true,
        "id": "TxY_JhFeS_mh",
        "colab": {
          "base_uri": "https://localhost:8080/",
          "height": 35
        },
        "outputId": "a793f1d5-58ab-4e7c-ae40-7f6d216c6a48"
      },
      "source": [
        "word[42:]"
      ],
      "execution_count": null,
      "outputs": [
        {
          "output_type": "execute_result",
          "data": {
            "application/vnd.google.colaboratory.intrinsic+json": {
              "type": "string"
            },
            "text/plain": [
              "''"
            ]
          },
          "metadata": {},
          "execution_count": 143
        }
      ]
    },
    {
      "cell_type": "markdown",
      "metadata": {
        "id": "8rpSCGLhS_mj"
      },
      "source": [
        "Python strings are [immutable](https://docs.python.org/3.5/glossary.html#term-immutable), which means they cannot be changed. Therefore, assigning a value to an indexed position in a string results in an error:"
      ]
    },
    {
      "cell_type": "code",
      "metadata": {
        "colab": {
          "base_uri": "https://localhost:8080/",
          "height": 35
        },
        "id": "bHNEym2EWZlz",
        "outputId": "d26ddb02-61cf-4e04-b245-18992e005bdc"
      },
      "source": [
        "word[2]"
      ],
      "execution_count": null,
      "outputs": [
        {
          "output_type": "execute_result",
          "data": {
            "application/vnd.google.colaboratory.intrinsic+json": {
              "type": "string"
            },
            "text/plain": [
              "'t'"
            ]
          },
          "metadata": {},
          "execution_count": 144
        }
      ]
    },
    {
      "cell_type": "code",
      "metadata": {
        "trusted": true,
        "id": "9KtIvMHtS_mj",
        "colab": {
          "base_uri": "https://localhost:8080/",
          "height": 164
        },
        "outputId": "752cbfef-2f0d-44e4-f5d6-dca55f1e561b"
      },
      "source": [
        "word[0] = 'J'"
      ],
      "execution_count": null,
      "outputs": [
        {
          "output_type": "error",
          "ename": "TypeError",
          "evalue": "ignored",
          "traceback": [
            "\u001b[0;31m---------------------------------------------------------------------------\u001b[0m",
            "\u001b[0;31mTypeError\u001b[0m                                 Traceback (most recent call last)",
            "\u001b[0;32m<ipython-input-145-91a956888ca7>\u001b[0m in \u001b[0;36m<module>\u001b[0;34m()\u001b[0m\n\u001b[0;32m----> 1\u001b[0;31m \u001b[0mword\u001b[0m\u001b[0;34m[\u001b[0m\u001b[0;36m0\u001b[0m\u001b[0;34m]\u001b[0m \u001b[0;34m=\u001b[0m \u001b[0;34m'J'\u001b[0m\u001b[0;34m\u001b[0m\u001b[0;34m\u001b[0m\u001b[0m\n\u001b[0m",
            "\u001b[0;31mTypeError\u001b[0m: 'str' object does not support item assignment"
          ]
        }
      ]
    },
    {
      "cell_type": "markdown",
      "metadata": {
        "id": "C0A7_fXFS_mk"
      },
      "source": [
        "The following cell also produces an error:"
      ]
    },
    {
      "cell_type": "code",
      "metadata": {
        "trusted": true,
        "id": "H_Ay1BoPS_mk",
        "colab": {
          "base_uri": "https://localhost:8080/",
          "height": 164
        },
        "outputId": "3c277219-5c41-4845-96db-2e358180c72c"
      },
      "source": [
        "word[2:] = 'py'"
      ],
      "execution_count": null,
      "outputs": [
        {
          "output_type": "error",
          "ename": "TypeError",
          "evalue": "ignored",
          "traceback": [
            "\u001b[0;31m---------------------------------------------------------------------------\u001b[0m",
            "\u001b[0;31mTypeError\u001b[0m                                 Traceback (most recent call last)",
            "\u001b[0;32m<ipython-input-146-6488bbf78f5a>\u001b[0m in \u001b[0;36m<module>\u001b[0;34m()\u001b[0m\n\u001b[0;32m----> 1\u001b[0;31m \u001b[0mword\u001b[0m\u001b[0;34m[\u001b[0m\u001b[0;36m2\u001b[0m\u001b[0;34m:\u001b[0m\u001b[0;34m]\u001b[0m \u001b[0;34m=\u001b[0m \u001b[0;34m'py'\u001b[0m\u001b[0;34m\u001b[0m\u001b[0;34m\u001b[0m\u001b[0m\n\u001b[0m",
            "\u001b[0;31mTypeError\u001b[0m: 'str' object does not support item assignment"
          ]
        }
      ]
    },
    {
      "cell_type": "markdown",
      "metadata": {
        "id": "s7zPh0WvS_ml"
      },
      "source": [
        "A slice it itself a value that you can concatenate with other values using `+`:"
      ]
    },
    {
      "cell_type": "code",
      "metadata": {
        "trusted": true,
        "id": "WarhrTpsS_ml",
        "colab": {
          "base_uri": "https://localhost:8080/",
          "height": 35
        },
        "outputId": "3aaafcf1-2f69-4b2e-aa00-6441e93491ed"
      },
      "source": [
        "'J' + word[1:]"
      ],
      "execution_count": null,
      "outputs": [
        {
          "output_type": "execute_result",
          "data": {
            "application/vnd.google.colaboratory.intrinsic+json": {
              "type": "string"
            },
            "text/plain": [
              "'Jython'"
            ]
          },
          "metadata": {},
          "execution_count": 147
        }
      ]
    },
    {
      "cell_type": "code",
      "metadata": {
        "trusted": true,
        "id": "3xyMR0t9S_m5",
        "colab": {
          "base_uri": "https://localhost:8080/",
          "height": 35
        },
        "outputId": "41e17f67-6cd4-4253-ae29-445d559c4f9b"
      },
      "source": [
        "word[:2] + 'Py'"
      ],
      "execution_count": null,
      "outputs": [
        {
          "output_type": "execute_result",
          "data": {
            "application/vnd.google.colaboratory.intrinsic+json": {
              "type": "string"
            },
            "text/plain": [
              "'PyPy'"
            ]
          },
          "metadata": {},
          "execution_count": 148
        }
      ]
    },
    {
      "cell_type": "markdown",
      "metadata": {
        "id": "VB4ybDWhS_m6"
      },
      "source": [
        "A slice, however, is not a string literal and cannot be used with automatic concatenation. The following code produces an error:"
      ]
    },
    {
      "cell_type": "code",
      "metadata": {
        "trusted": true,
        "id": "RGrQEDy9S_m7",
        "colab": {
          "base_uri": "https://localhost:8080/",
          "height": 130
        },
        "outputId": "04c8586c-a3c7-4efd-b46b-3c76a7547351"
      },
      "source": [
        "word[:2] 'Py'    # Slice is not a literal; produces an error"
      ],
      "execution_count": null,
      "outputs": [
        {
          "output_type": "error",
          "ename": "SyntaxError",
          "evalue": "ignored",
          "traceback": [
            "\u001b[0;36m  File \u001b[0;32m\"<ipython-input-149-60be1c701626>\"\u001b[0;36m, line \u001b[0;32m1\u001b[0m\n\u001b[0;31m    word[:2] 'Py'    # Slice is not a literal; produces an error\u001b[0m\n\u001b[0m                ^\u001b[0m\n\u001b[0;31mSyntaxError\u001b[0m\u001b[0;31m:\u001b[0m invalid syntax\n"
          ]
        }
      ]
    },
    {
      "cell_type": "markdown",
      "metadata": {
        "id": "Tn7W5AAZS_m8"
      },
      "source": [
        "The built-in function [`len()`](https://docs.python.org/3.5/library/functions.html#len) returns the length of a string:"
      ]
    },
    {
      "cell_type": "code",
      "metadata": {
        "trusted": true,
        "id": "xZYBw6OiS_m8",
        "colab": {
          "base_uri": "https://localhost:8080/"
        },
        "outputId": "25a12aaa-4ec4-409a-dfa1-9f1ed9cf535f"
      },
      "source": [
        "s = ' supercalifragilisticexpialidocious  '\n",
        "len(s)"
      ],
      "execution_count": null,
      "outputs": [
        {
          "output_type": "execute_result",
          "data": {
            "text/plain": [
              "37"
            ]
          },
          "metadata": {},
          "execution_count": 152
        }
      ]
    },
    {
      "cell_type": "code",
      "metadata": {
        "colab": {
          "base_uri": "https://localhost:8080/"
        },
        "id": "JV7CN8dx_uzi",
        "outputId": "ccc79a07-1f0b-42ba-9975-89194b66392b"
      },
      "source": [
        "\"abc\".upper(), \"ABC\".lower() , \"  ABC  \".strip(), \"   ABC   \".lstrip() , \"   ABC   \".rstrip()"
      ],
      "execution_count": 55,
      "outputs": [
        {
          "output_type": "execute_result",
          "data": {
            "text/plain": [
              "('ABC', 'abc', 'ABC', 'ABC   ', '   ABC')"
            ]
          },
          "metadata": {},
          "execution_count": 55
        }
      ]
    },
    {
      "cell_type": "markdown",
      "metadata": {
        "id": "tvoseJU0S_m9"
      },
      "source": [
        "### Lists"
      ]
    },
    {
      "cell_type": "markdown",
      "metadata": {
        "id": "GO-UbVV2S_m9"
      },
      "source": [
        "Python knows a number of _compound_ data types, which are used to group together other values. The most versatile is the [*list*](https://docs.python.org/3.5/library/stdtypes.html#typesseq-list), which can be written as a sequence of comma-separated values (items) between square brackets. Lists might contain items of different types, but usually the items all have the same type."
      ]
    },
    {
      "cell_type": "code",
      "metadata": {
        "trusted": true,
        "id": "JQGPCZbcS_m9",
        "colab": {
          "base_uri": "https://localhost:8080/"
        },
        "outputId": "3a527573-9c9c-4125-86c6-76a3ed77f6a9"
      },
      "source": [
        "squares = [1, 4, 9, 16, 25]\n",
        "squares"
      ],
      "execution_count": 1,
      "outputs": [
        {
          "output_type": "execute_result",
          "data": {
            "text/plain": [
              "[1, 4, 9, 16, 25]"
            ]
          },
          "metadata": {},
          "execution_count": 1
        }
      ]
    },
    {
      "cell_type": "markdown",
      "metadata": {
        "id": "THDVMuRLS_m-"
      },
      "source": [
        "Like strings (and all other built-in [sequence](https://docs.python.org/3.5/glossary.html#term-sequence) types), lists can be indexed and sliced:"
      ]
    },
    {
      "cell_type": "code",
      "metadata": {
        "trusted": true,
        "id": "7MMMsv9tS_m-",
        "colab": {
          "base_uri": "https://localhost:8080/"
        },
        "outputId": "d7fdec7c-173d-4ced-94f3-d0f39df6b5cb"
      },
      "source": [
        "squares[0]  # Indexing returns the item."
      ],
      "execution_count": null,
      "outputs": [
        {
          "output_type": "execute_result",
          "data": {
            "text/plain": [
              "1"
            ]
          },
          "metadata": {},
          "execution_count": 154
        }
      ]
    },
    {
      "cell_type": "code",
      "metadata": {
        "trusted": true,
        "id": "gLSGx2rSS_m_",
        "colab": {
          "base_uri": "https://localhost:8080/"
        },
        "outputId": "ba69e897-3f59-43d5-b632-fcb05fbe645d"
      },
      "source": [
        "squares[-1]"
      ],
      "execution_count": null,
      "outputs": [
        {
          "output_type": "execute_result",
          "data": {
            "text/plain": [
              "25"
            ]
          },
          "metadata": {},
          "execution_count": 155
        }
      ]
    },
    {
      "cell_type": "code",
      "metadata": {
        "trusted": true,
        "id": "dt3j7UhaS_nA",
        "colab": {
          "base_uri": "https://localhost:8080/"
        },
        "outputId": "fed3f95d-5aeb-46f3-8aae-dd2cf4dd3936"
      },
      "source": [
        "squares[-3:]  # Slicing returns a new list."
      ],
      "execution_count": null,
      "outputs": [
        {
          "output_type": "execute_result",
          "data": {
            "text/plain": [
              "[9, 16, 25]"
            ]
          },
          "metadata": {},
          "execution_count": 156
        }
      ]
    },
    {
      "cell_type": "markdown",
      "metadata": {
        "id": "sSmqoVDzS_nB"
      },
      "source": [
        "All slice operations return a new list containing the requested elements. This means that the following slice returns a new (shallow) copy of the list:"
      ]
    },
    {
      "cell_type": "code",
      "metadata": {
        "trusted": true,
        "id": "b_WFwjRpS_nB",
        "colab": {
          "base_uri": "https://localhost:8080/"
        },
        "outputId": "1b23cbb4-f879-4034-d956-831d7a65067c"
      },
      "source": [
        "squares[:]"
      ],
      "execution_count": null,
      "outputs": [
        {
          "output_type": "execute_result",
          "data": {
            "text/plain": [
              "[1, 4, 9, 16, 25]"
            ]
          },
          "metadata": {},
          "execution_count": 159
        }
      ]
    },
    {
      "cell_type": "markdown",
      "metadata": {
        "id": "LIj4X0NtS_nC"
      },
      "source": [
        "Lists also support concatenation with the `+` operator:"
      ]
    },
    {
      "cell_type": "code",
      "metadata": {
        "trusted": true,
        "id": "j2N91LzbS_nC",
        "colab": {
          "base_uri": "https://localhost:8080/"
        },
        "outputId": "be1cf18f-8e18-445b-e741-e7c37e5f42b4"
      },
      "source": [
        "squares + [36, 49, 64, 81, 100]"
      ],
      "execution_count": 2,
      "outputs": [
        {
          "output_type": "execute_result",
          "data": {
            "text/plain": [
              "[1, 4, 9, 16, 25, 36, 49, 64, 81, 100]"
            ]
          },
          "metadata": {},
          "execution_count": 2
        }
      ]
    },
    {
      "cell_type": "markdown",
      "metadata": {
        "id": "vq6BbyAqS_nD"
      },
      "source": [
        "Unlike strings, which are [immutable](https://docs.python.org/3.5/glossary.html#term-immutable), lists are a [mutable](https://docs.python.org/3.5/glossary.html#term-mutable) type, which means you can change any value in the list:"
      ]
    },
    {
      "cell_type": "code",
      "metadata": {
        "trusted": true,
        "id": "xZ1Zo_-GS_nD",
        "colab": {
          "base_uri": "https://localhost:8080/"
        },
        "outputId": "956a6238-ac2e-4572-9da0-236192382070"
      },
      "source": [
        "cubes = [1, 8, 27, 65, 125]  # Something's wrong here ...\n",
        "4 ** 3  # the cube of 4 is 64, not 65!"
      ],
      "execution_count": 3,
      "outputs": [
        {
          "output_type": "execute_result",
          "data": {
            "text/plain": [
              "64"
            ]
          },
          "metadata": {},
          "execution_count": 3
        }
      ]
    },
    {
      "cell_type": "code",
      "metadata": {
        "trusted": true,
        "id": "0tde-gz8S_nE",
        "colab": {
          "base_uri": "https://localhost:8080/"
        },
        "outputId": "f9ebddd6-8d16-49b5-ab89-9b39ddbdc98a"
      },
      "source": [
        "cubes[3] = 64  # Replace the wrong value.\n",
        "cubes"
      ],
      "execution_count": 4,
      "outputs": [
        {
          "output_type": "execute_result",
          "data": {
            "text/plain": [
              "[1, 8, 27, 64, 125]"
            ]
          },
          "metadata": {},
          "execution_count": 4
        }
      ]
    },
    {
      "cell_type": "markdown",
      "metadata": {
        "id": "ejDA3coES_nF"
      },
      "source": [
        "Use the list's `append()` method to add new items to the end of the list:"
      ]
    },
    {
      "cell_type": "code",
      "metadata": {
        "colab": {
          "base_uri": "https://localhost:8080/"
        },
        "id": "PK-6ubmf6wy5",
        "outputId": "2ac4e8d8-ad78-421c-e193-792f432486be"
      },
      "source": [
        "cubes"
      ],
      "execution_count": 5,
      "outputs": [
        {
          "output_type": "execute_result",
          "data": {
            "text/plain": [
              "[1, 8, 27, 64, 125]"
            ]
          },
          "metadata": {},
          "execution_count": 5
        }
      ]
    },
    {
      "cell_type": "code",
      "metadata": {
        "trusted": true,
        "id": "k8jD9bLSS_nF",
        "colab": {
          "base_uri": "https://localhost:8080/"
        },
        "outputId": "e24a7c42-68a1-4b6a-bfd6-a35ab50b05e6"
      },
      "source": [
        "# Append\n",
        "cubes.append('append me!')\n",
        "cubes.append(216)  # Add the cube of 6 ...\n",
        "cubes.append(7 ** 3)  # and the cube of 7.\n",
        "cubes"
      ],
      "execution_count": 6,
      "outputs": [
        {
          "output_type": "execute_result",
          "data": {
            "text/plain": [
              "[1, 8, 27, 64, 125, 'append me!', 216, 343]"
            ]
          },
          "metadata": {},
          "execution_count": 6
        }
      ]
    },
    {
      "cell_type": "markdown",
      "metadata": {
        "id": "WZcjhx3bPVfV"
      },
      "source": [
        "Use **pop** to \"pop off\" an item from the list. By default pop takes off the last index, but you can also specify which index to pop off. Let's see an example:"
      ]
    },
    {
      "cell_type": "code",
      "metadata": {
        "id": "zx2uTMDJPVfa",
        "colab": {
          "base_uri": "https://localhost:8080/"
        },
        "outputId": "e5d1d815-2f22-4768-95fb-36bce03df560"
      },
      "source": [
        "# Pop off the 2 indexed item\n",
        "cubes.pop(2)"
      ],
      "execution_count": 7,
      "outputs": [
        {
          "output_type": "execute_result",
          "data": {
            "text/plain": [
              "27"
            ]
          },
          "metadata": {},
          "execution_count": 7
        }
      ]
    },
    {
      "cell_type": "code",
      "metadata": {
        "colab": {
          "base_uri": "https://localhost:8080/"
        },
        "id": "1CkT3GS27K9D",
        "outputId": "f04b3382-2bd2-4a90-c336-b6845fb59b00"
      },
      "source": [
        "cubes"
      ],
      "execution_count": 8,
      "outputs": [
        {
          "output_type": "execute_result",
          "data": {
            "text/plain": [
              "[1, 8, 64, 125, 'append me!', 216, 343]"
            ]
          },
          "metadata": {},
          "execution_count": 8
        }
      ]
    },
    {
      "cell_type": "code",
      "metadata": {
        "colab": {
          "base_uri": "https://localhost:8080/"
        },
        "id": "_XrK5Y4v7Pm5",
        "outputId": "33cb25e6-a12e-4a86-bd87-f7fe892ac685"
      },
      "source": [
        "cubes.pop()"
      ],
      "execution_count": 9,
      "outputs": [
        {
          "output_type": "execute_result",
          "data": {
            "text/plain": [
              "343"
            ]
          },
          "metadata": {},
          "execution_count": 9
        }
      ]
    },
    {
      "cell_type": "code",
      "metadata": {
        "colab": {
          "base_uri": "https://localhost:8080/"
        },
        "id": "EzcXwy3q7XSO",
        "outputId": "4dfa59f0-32b7-4caa-c7d5-80743085e481"
      },
      "source": [
        "cubes"
      ],
      "execution_count": 10,
      "outputs": [
        {
          "output_type": "execute_result",
          "data": {
            "text/plain": [
              "[1, 8, 64, 125, 'append me!', 216]"
            ]
          },
          "metadata": {},
          "execution_count": 10
        }
      ]
    },
    {
      "cell_type": "code",
      "metadata": {
        "id": "bI8e-TIxPhLy"
      },
      "source": [
        "# Assign the popped element, remember default popped index is -1\n",
        "popped_item = cubes.pop()"
      ],
      "execution_count": 11,
      "outputs": []
    },
    {
      "cell_type": "code",
      "metadata": {
        "colab": {
          "base_uri": "https://localhost:8080/"
        },
        "id": "4MO3IpOT7czl",
        "outputId": "8231bb55-3959-4a58-d169-61aff6966528"
      },
      "source": [
        "popped_item"
      ],
      "execution_count": 12,
      "outputs": [
        {
          "output_type": "execute_result",
          "data": {
            "text/plain": [
              "216"
            ]
          },
          "metadata": {},
          "execution_count": 12
        }
      ]
    },
    {
      "cell_type": "code",
      "metadata": {
        "id": "mOuvbl09PuY0",
        "colab": {
          "base_uri": "https://localhost:8080/",
          "height": 164
        },
        "outputId": "65086b43-7a4b-48c1-c8c3-3c87105ac812"
      },
      "source": [
        "cubes[100] # This will throw an error because of list index out of range"
      ],
      "execution_count": 13,
      "outputs": [
        {
          "output_type": "error",
          "ename": "IndexError",
          "evalue": "ignored",
          "traceback": [
            "\u001b[0;31m---------------------------------------------------------------------------\u001b[0m",
            "\u001b[0;31mIndexError\u001b[0m                                Traceback (most recent call last)",
            "\u001b[0;32m<ipython-input-13-6aa13b831e5c>\u001b[0m in \u001b[0;36m<module>\u001b[0;34m()\u001b[0m\n\u001b[0;32m----> 1\u001b[0;31m \u001b[0mcubes\u001b[0m\u001b[0;34m[\u001b[0m\u001b[0;36m100\u001b[0m\u001b[0;34m]\u001b[0m \u001b[0;31m# This will throw an error because of list index out of range\u001b[0m\u001b[0;34m\u001b[0m\u001b[0;34m\u001b[0m\u001b[0m\n\u001b[0m",
            "\u001b[0;31mIndexError\u001b[0m: list index out of range"
          ]
        }
      ]
    },
    {
      "cell_type": "markdown",
      "metadata": {
        "id": "MYQyVLnFS_nG"
      },
      "source": [
        "You can even assign to slices, which can change the size of the list or clear it entirely:"
      ]
    },
    {
      "cell_type": "code",
      "metadata": {
        "trusted": true,
        "id": "97-K0A9BS_nH",
        "colab": {
          "base_uri": "https://localhost:8080/"
        },
        "outputId": "86390a80-ace1-4f8f-d365-d97fe25d1d88"
      },
      "source": [
        "letters = ['a', 'b', 'c', 'd', 'e', 'f', 'g']\n",
        "letters"
      ],
      "execution_count": 14,
      "outputs": [
        {
          "output_type": "execute_result",
          "data": {
            "text/plain": [
              "['a', 'b', 'c', 'd', 'e', 'f', 'g']"
            ]
          },
          "metadata": {},
          "execution_count": 14
        }
      ]
    },
    {
      "cell_type": "code",
      "metadata": {
        "trusted": true,
        "id": "5zOvLLOSS_nH",
        "colab": {
          "base_uri": "https://localhost:8080/"
        },
        "outputId": "5ca0a984-10bc-4584-8daf-649d8fdbc8cf"
      },
      "source": [
        "# Replace some values.\n",
        "letters[2:5] = ['C', 'D', 'E']\n",
        "letters"
      ],
      "execution_count": 15,
      "outputs": [
        {
          "output_type": "execute_result",
          "data": {
            "text/plain": [
              "['a', 'b', 'C', 'D', 'E', 'f', 'g']"
            ]
          },
          "metadata": {},
          "execution_count": 15
        }
      ]
    },
    {
      "cell_type": "code",
      "metadata": {
        "trusted": true,
        "id": "EFdJEVhXS_nI",
        "colab": {
          "base_uri": "https://localhost:8080/"
        },
        "outputId": "c733eadf-1a65-46ee-cb54-2f79d85a33bb"
      },
      "source": [
        "# Now remove them.\n",
        "letters[2:5] = []\n",
        "letters"
      ],
      "execution_count": 16,
      "outputs": [
        {
          "output_type": "execute_result",
          "data": {
            "text/plain": [
              "['a', 'b', 'f', 'g']"
            ]
          },
          "metadata": {},
          "execution_count": 16
        }
      ]
    },
    {
      "cell_type": "code",
      "metadata": {
        "trusted": true,
        "id": "p0rXHdl0S_nJ",
        "colab": {
          "base_uri": "https://localhost:8080/"
        },
        "outputId": "2e1a7d40-1484-49a2-e849-e1f25f77161e"
      },
      "source": [
        "# Clear the list by replacing all the elements with an empty list.\n",
        "letters[:] = []\n",
        "letters"
      ],
      "execution_count": 17,
      "outputs": [
        {
          "output_type": "execute_result",
          "data": {
            "text/plain": [
              "[]"
            ]
          },
          "metadata": {},
          "execution_count": 17
        }
      ]
    },
    {
      "cell_type": "markdown",
      "metadata": {
        "id": "WCqvpLCDS_nK"
      },
      "source": [
        "The built-in [`len()`](https://docs.python.org/3.5/library/functions.html#len) function also applies to lists:"
      ]
    },
    {
      "cell_type": "code",
      "metadata": {
        "trusted": true,
        "id": "G0k_aKdDS_nK",
        "colab": {
          "base_uri": "https://localhost:8080/"
        },
        "outputId": "f9d1d24b-d751-4e87-f0a1-7a57838c7a39"
      },
      "source": [
        "letters = ['a', 'b', 'c', 'd']\n",
        "len(letters)"
      ],
      "execution_count": 18,
      "outputs": [
        {
          "output_type": "execute_result",
          "data": {
            "text/plain": [
              "4"
            ]
          },
          "metadata": {},
          "execution_count": 18
        }
      ]
    },
    {
      "cell_type": "markdown",
      "metadata": {
        "id": "LNpGWsNvS_nL"
      },
      "source": [
        "You can nest lists, which means to create lists that contain other lists. For example:"
      ]
    },
    {
      "cell_type": "code",
      "metadata": {
        "trusted": true,
        "id": "nnWw5HUaS_nL",
        "colab": {
          "base_uri": "https://localhost:8080/"
        },
        "outputId": "5b6ecaf3-2816-4c61-b06e-3bd5709ab32a"
      },
      "source": [
        "a = ['a', 'b', 'c']\n",
        "n = [1, 2, 3]\n",
        "x = [a, n]\n",
        "x"
      ],
      "execution_count": 19,
      "outputs": [
        {
          "output_type": "execute_result",
          "data": {
            "text/plain": [
              "[['a', 'b', 'c'], [1, 2, 3]]"
            ]
          },
          "metadata": {},
          "execution_count": 19
        }
      ]
    },
    {
      "cell_type": "code",
      "metadata": {
        "trusted": true,
        "id": "-fMYgGlxS_nM",
        "colab": {
          "base_uri": "https://localhost:8080/"
        },
        "outputId": "ce16047e-751d-44ad-8c72-9b1413bda772"
      },
      "source": [
        "x[0]"
      ],
      "execution_count": 20,
      "outputs": [
        {
          "output_type": "execute_result",
          "data": {
            "text/plain": [
              "['a', 'b', 'c']"
            ]
          },
          "metadata": {},
          "execution_count": 20
        }
      ]
    },
    {
      "cell_type": "code",
      "metadata": {
        "trusted": true,
        "id": "Cz1OzLIaS_nM",
        "colab": {
          "base_uri": "https://localhost:8080/"
        },
        "outputId": "b0688b88-efd9-4374-d64b-45237e838c67"
      },
      "source": [
        "x[0][1],x[0][2]"
      ],
      "execution_count": 22,
      "outputs": [
        {
          "output_type": "execute_result",
          "data": {
            "text/plain": [
              "('b', 'c')"
            ]
          },
          "metadata": {},
          "execution_count": 22
        }
      ]
    },
    {
      "cell_type": "markdown",
      "metadata": {
        "id": "BRBc_CUAydwF"
      },
      "source": [
        "## Basic List Methods\n",
        "\n",
        "If you are familiar with another programming language, you might start to draw parallels between arrays in another language and lists in Python. Lists in Python however, tend to be more flexible than arrays in other languages for a two good reasons: they have no fixed size (meaning we don't have to specify how big a list will be), and they have no fixed type constraint (like we've seen above).\n",
        "\n",
        "Let's go ahead and explore some more special methods for lists:"
      ]
    },
    {
      "cell_type": "markdown",
      "metadata": {
        "id": "pwVOWS5Iydwf"
      },
      "source": [
        "It should also be noted that lists indexing will return an error if there is no element at that index. For example:"
      ]
    },
    {
      "cell_type": "markdown",
      "metadata": {
        "id": "e3fWU6Uiydwi"
      },
      "source": [
        "We can use the **sort** method and the **reverse** methods to also effect your lists:"
      ]
    },
    {
      "cell_type": "code",
      "metadata": {
        "id": "gA4Ch4ESEIok"
      },
      "source": [
        "a = [\"a\",\"b\",\"c\"]"
      ],
      "execution_count": 78,
      "outputs": []
    },
    {
      "cell_type": "code",
      "metadata": {
        "colab": {
          "base_uri": "https://localhost:8080/"
        },
        "id": "0QCTJmEv8c2F",
        "outputId": "62357ee5-0d15-4715-8dd8-a614459ecea8"
      },
      "source": [
        "a.append([\"value1_a\",\"value2_a\",[\"value1\",\"value2\"]])\n",
        "a"
      ],
      "execution_count": 79,
      "outputs": [
        {
          "output_type": "execute_result",
          "data": {
            "text/plain": [
              "['a', 'b', 'c', ['value1_a', 'value2_a', ['value1', 'value2']]]"
            ]
          },
          "metadata": {},
          "execution_count": 79
        }
      ]
    },
    {
      "cell_type": "code",
      "metadata": {
        "colab": {
          "base_uri": "https://localhost:8080/",
          "height": 35
        },
        "id": "8f5f-PCaEfLi",
        "outputId": "f53f1ffb-e823-434d-b9b1-4dfc39c08cbc"
      },
      "source": [
        "a[-1][-1][-1]"
      ],
      "execution_count": 83,
      "outputs": [
        {
          "output_type": "execute_result",
          "data": {
            "application/vnd.google.colaboratory.intrinsic+json": {
              "type": "string"
            },
            "text/plain": [
              "'value2'"
            ]
          },
          "metadata": {},
          "execution_count": 83
        }
      ]
    },
    {
      "cell_type": "code",
      "metadata": {
        "id": "6XHobthX9cAJ"
      },
      "source": [
        "a[-1][2][1] = 99"
      ],
      "execution_count": 30,
      "outputs": []
    },
    {
      "cell_type": "code",
      "metadata": {
        "colab": {
          "base_uri": "https://localhost:8080/"
        },
        "id": "JghBD1G-9vy8",
        "outputId": "ae32edfe-3b05-4f26-b8de-bba23d81d147"
      },
      "source": [
        "a"
      ],
      "execution_count": 31,
      "outputs": [
        {
          "output_type": "execute_result",
          "data": {
            "text/plain": [
              "['a', 'b', 'c', ['value1', 'value2'], ['value1', 'value2', ['value1', 99]]]"
            ]
          },
          "metadata": {},
          "execution_count": 31
        }
      ]
    },
    {
      "cell_type": "code",
      "metadata": {
        "colab": {
          "base_uri": "https://localhost:8080/",
          "height": 35
        },
        "id": "RL64NEXm9AYn",
        "outputId": "0f83025d-5eb3-48e3-ef81-12ceba0fa7d8"
      },
      "source": [
        "a[3][0]"
      ],
      "execution_count": 26,
      "outputs": [
        {
          "output_type": "execute_result",
          "data": {
            "application/vnd.google.colaboratory.intrinsic+json": {
              "type": "string"
            },
            "text/plain": [
              "'value1'"
            ]
          },
          "metadata": {},
          "execution_count": 26
        }
      ]
    },
    {
      "cell_type": "code",
      "metadata": {
        "id": "67Hom5Lo80b5"
      },
      "source": [
        "# list []\n",
        "# indexing []\n",
        "# tuple ()\n",
        "# sets {}\n",
        "# dict {}"
      ],
      "execution_count": null,
      "outputs": []
    },
    {
      "cell_type": "code",
      "metadata": {
        "id": "eBHq6-nuydwi"
      },
      "source": [
        "new_list = ['a','e','x','b','c']"
      ],
      "execution_count": 32,
      "outputs": []
    },
    {
      "cell_type": "code",
      "metadata": {
        "id": "f8ralE2qydwl",
        "colab": {
          "base_uri": "https://localhost:8080/"
        },
        "outputId": "4b256222-35e7-443d-c6f3-34bc14c629eb"
      },
      "source": [
        "#Show\n",
        "new_list"
      ],
      "execution_count": 33,
      "outputs": [
        {
          "output_type": "execute_result",
          "data": {
            "text/plain": [
              "['a', 'e', 'x', 'b', 'c']"
            ]
          },
          "metadata": {},
          "execution_count": 33
        }
      ]
    },
    {
      "cell_type": "code",
      "metadata": {
        "id": "uYbiwQbsydwn"
      },
      "source": [
        "# Use reverse to reverse order (this is permanent!)\n",
        "new_list.reverse()"
      ],
      "execution_count": 34,
      "outputs": []
    },
    {
      "cell_type": "code",
      "metadata": {
        "id": "cIYSsif1ydwq",
        "colab": {
          "base_uri": "https://localhost:8080/"
        },
        "outputId": "c1d6a62f-f5e1-47a2-c9ee-8b3dd7ca1dcb"
      },
      "source": [
        "new_list"
      ],
      "execution_count": 35,
      "outputs": [
        {
          "output_type": "execute_result",
          "data": {
            "text/plain": [
              "['c', 'b', 'x', 'e', 'a']"
            ]
          },
          "metadata": {},
          "execution_count": 35
        }
      ]
    },
    {
      "cell_type": "code",
      "metadata": {
        "id": "cHOmz4TBydws"
      },
      "source": [
        "# Use sort to sort the list (in this case alphabetical order, but for numbers it will go ascending)\n",
        "new_list.sort()"
      ],
      "execution_count": 36,
      "outputs": []
    },
    {
      "cell_type": "code",
      "metadata": {
        "id": "FCTgeJAWydwu",
        "colab": {
          "base_uri": "https://localhost:8080/"
        },
        "outputId": "bfe317fd-eecd-4a3a-e8dc-62826219678b"
      },
      "source": [
        "new_list"
      ],
      "execution_count": 37,
      "outputs": [
        {
          "output_type": "execute_result",
          "data": {
            "text/plain": [
              "['a', 'b', 'c', 'e', 'x']"
            ]
          },
          "metadata": {},
          "execution_count": 37
        }
      ]
    },
    {
      "cell_type": "code",
      "metadata": {
        "colab": {
          "base_uri": "https://localhost:8080/",
          "height": 164
        },
        "id": "V41eLwlr-Ffm",
        "outputId": "52c0a40b-03a2-4896-bd7f-c0de8b13b2f0"
      },
      "source": [
        "a.sort()"
      ],
      "execution_count": 40,
      "outputs": [
        {
          "output_type": "error",
          "ename": "TypeError",
          "evalue": "ignored",
          "traceback": [
            "\u001b[0;31m---------------------------------------------------------------------------\u001b[0m",
            "\u001b[0;31mTypeError\u001b[0m                                 Traceback (most recent call last)",
            "\u001b[0;32m<ipython-input-40-2ed0d7de6146>\u001b[0m in \u001b[0;36m<module>\u001b[0;34m()\u001b[0m\n\u001b[0;32m----> 1\u001b[0;31m \u001b[0ma\u001b[0m\u001b[0;34m.\u001b[0m\u001b[0msort\u001b[0m\u001b[0;34m(\u001b[0m\u001b[0;34m)\u001b[0m\u001b[0;34m\u001b[0m\u001b[0;34m\u001b[0m\u001b[0m\n\u001b[0m",
            "\u001b[0;31mTypeError\u001b[0m: '<' not supported between instances of 'list' and 'str'"
          ]
        }
      ]
    },
    {
      "cell_type": "markdown",
      "metadata": {
        "id": "ab7DE9Huydwx"
      },
      "source": [
        "## Nesting Lists\n",
        "A great feature of of Python data structures is that they support *nesting*. This means we can have data structures within data structures. For example: A list inside a list.\n",
        "\n",
        "Let's see how this works!"
      ]
    },
    {
      "cell_type": "code",
      "metadata": {
        "id": "R4lSShDwydwx"
      },
      "source": [
        "# Let's make three lists\n",
        "lst_1=[1,2,3]\n",
        "lst_2=[4,5,6]\n",
        "lst_3=[7,8,9]\n",
        "\n",
        "# Make a list of lists to form a matrix\n",
        "matrix = [lst_1,lst_2,lst_3]"
      ],
      "execution_count": 41,
      "outputs": []
    },
    {
      "cell_type": "code",
      "metadata": {
        "id": "Gb7VsABAydw0",
        "colab": {
          "base_uri": "https://localhost:8080/"
        },
        "outputId": "cfa6b971-5277-4f0a-ebb0-e386b81f5122"
      },
      "source": [
        "# Show\n",
        "matrix"
      ],
      "execution_count": 42,
      "outputs": [
        {
          "output_type": "execute_result",
          "data": {
            "text/plain": [
              "[[1, 2, 3], [4, 5, 6], [7, 8, 9]]"
            ]
          },
          "metadata": {},
          "execution_count": 42
        }
      ]
    },
    {
      "cell_type": "markdown",
      "metadata": {
        "id": "KlxLuvJDydw2"
      },
      "source": [
        "We can again use indexing to grab elements, but now there are two levels for the index. The items in the matrix object, and then the items inside that list!"
      ]
    },
    {
      "cell_type": "code",
      "metadata": {
        "id": "e0aBvoUOydw2",
        "colab": {
          "base_uri": "https://localhost:8080/"
        },
        "outputId": "45d80420-e16d-4d50-98f7-f20b4923c183"
      },
      "source": [
        "# Grab first item in matrix object\n",
        "matrix[0]"
      ],
      "execution_count": 43,
      "outputs": [
        {
          "output_type": "execute_result",
          "data": {
            "text/plain": [
              "[1, 2, 3]"
            ]
          },
          "metadata": {},
          "execution_count": 43
        }
      ]
    },
    {
      "cell_type": "code",
      "metadata": {
        "id": "e7dVwdYCydw5",
        "colab": {
          "base_uri": "https://localhost:8080/"
        },
        "outputId": "ccff6e88-31f5-4a8e-8921-207f481d47a6"
      },
      "source": [
        "# Grab first item of the first item in the matrix object\n",
        "matrix[0][0]"
      ],
      "execution_count": 44,
      "outputs": [
        {
          "output_type": "execute_result",
          "data": {
            "text/plain": [
              "1"
            ]
          },
          "metadata": {},
          "execution_count": 44
        }
      ]
    },
    {
      "cell_type": "code",
      "metadata": {
        "id": "fLG8KAMZ-gRp"
      },
      "source": [
        "new_list.sort(reverse=True)"
      ],
      "execution_count": 45,
      "outputs": []
    },
    {
      "cell_type": "code",
      "metadata": {
        "colab": {
          "base_uri": "https://localhost:8080/"
        },
        "id": "cGSnQbrQ-qen",
        "outputId": "ec00b1d1-75db-43a5-dda9-c4a3ea97a17e"
      },
      "source": [
        "new_list"
      ],
      "execution_count": 46,
      "outputs": [
        {
          "output_type": "execute_result",
          "data": {
            "text/plain": [
              "['x', 'e', 'c', 'b', 'a']"
            ]
          },
          "metadata": {},
          "execution_count": 46
        }
      ]
    },
    {
      "cell_type": "markdown",
      "metadata": {
        "id": "hCwTsUSM7pJH"
      },
      "source": [
        "### Dictionaries\n",
        "\n",
        "We've been learning about *sequences* in Python but now we're going to switch gears and learn about *mappings* in Python. If you're familiar with other languages you can think of these Dictionaries as hash tables. \n",
        "\n",
        "This section will serve as a brief introduction to dictionaries and consist of:\n",
        "\n",
        "    1.) Constructing a Dictionary\n",
        "    2.) Accessing objects from a dictionary\n",
        "    3.) Nesting Dictionaries\n",
        "    4.) Basic Dictionary Methods\n",
        "\n",
        "So what are mappings? Mappings are a collection of objects that are stored by a *key*, unlike a sequence that stored objects by their relative position. This is an important distinction, since mappings won't retain order since they have objects defined by a key.\n",
        "\n",
        "A Python dictionary consists of a key and then an associated value. That value can be almost any Python object.\n",
        "\n",
        "\n",
        "## Constructing a Dictionary\n",
        "Let's see how we can construct dictionaries to get a better understanding of how they work!"
      ]
    },
    {
      "cell_type": "code",
      "metadata": {
        "id": "VyGszYeu7pJI"
      },
      "source": [
        "# Make a dictionary with {} and : to signify a key and a value\n",
        "my_dict = {'key1':'value1','key2':'value2'}"
      ],
      "execution_count": 47,
      "outputs": []
    },
    {
      "cell_type": "code",
      "metadata": {
        "id": "KeYJ5k_Q7pJL",
        "colab": {
          "base_uri": "https://localhost:8080/",
          "height": 35
        },
        "outputId": "e0cfa418-6482-44d8-d15c-e581e937e039"
      },
      "source": [
        "# Call values by their key\n",
        "my_dict['key2']"
      ],
      "execution_count": 48,
      "outputs": [
        {
          "output_type": "execute_result",
          "data": {
            "application/vnd.google.colaboratory.intrinsic+json": {
              "type": "string"
            },
            "text/plain": [
              "'value2'"
            ]
          },
          "metadata": {},
          "execution_count": 48
        }
      ]
    },
    {
      "cell_type": "markdown",
      "metadata": {
        "id": "C_pal7y57pJO"
      },
      "source": [
        "Its important to note that dictionaries are very flexible in the data types they can hold. For example:"
      ]
    },
    {
      "cell_type": "code",
      "metadata": {
        "id": "q37vEMyJ7pJP"
      },
      "source": [
        "my_dict = {'key1':123,'key2':[12,23,33],'key3':['item0','item1','item2']}"
      ],
      "execution_count": 84,
      "outputs": []
    },
    {
      "cell_type": "code",
      "metadata": {
        "colab": {
          "base_uri": "https://localhost:8080/"
        },
        "id": "kDS4HjvFE5wf",
        "outputId": "72368406-be91-4aca-9c35-73bb176f522c"
      },
      "source": [
        "my_dict[\"key1\"] * 20"
      ],
      "execution_count": 87,
      "outputs": [
        {
          "output_type": "execute_result",
          "data": {
            "text/plain": [
              "2460"
            ]
          },
          "metadata": {},
          "execution_count": 87
        }
      ]
    },
    {
      "cell_type": "code",
      "metadata": {
        "id": "TbkVgp5-7pJS",
        "colab": {
          "base_uri": "https://localhost:8080/"
        },
        "outputId": "d98798df-8005-4ed9-a9d3-dfa61ce2c238"
      },
      "source": [
        "# Let's call items from the dictionary\n",
        "my_dict['key3']"
      ],
      "execution_count": 50,
      "outputs": [
        {
          "output_type": "execute_result",
          "data": {
            "text/plain": [
              "['item0', 'item1', 'item2']"
            ]
          },
          "metadata": {},
          "execution_count": 50
        }
      ]
    },
    {
      "cell_type": "code",
      "metadata": {
        "id": "ZasU5MpB7pJV",
        "colab": {
          "base_uri": "https://localhost:8080/"
        },
        "outputId": "f68890d0-786a-4480-b16e-62c3b7e8c3d7"
      },
      "source": [
        "# Can call an index on that value\n",
        "my_dict['key3'][0:2]"
      ],
      "execution_count": 52,
      "outputs": [
        {
          "output_type": "execute_result",
          "data": {
            "text/plain": [
              "['item0', 'item1']"
            ]
          },
          "metadata": {},
          "execution_count": 52
        }
      ]
    },
    {
      "cell_type": "code",
      "metadata": {
        "id": "y7TsHWV47pJX",
        "colab": {
          "base_uri": "https://localhost:8080/",
          "height": 35
        },
        "outputId": "28a57860-e83b-4495-e45c-c68cfcfe9b1b"
      },
      "source": [
        "# Can then even call methods on that value\n",
        "my_dict['key3'][0].upper()"
      ],
      "execution_count": 56,
      "outputs": [
        {
          "output_type": "execute_result",
          "data": {
            "application/vnd.google.colaboratory.intrinsic+json": {
              "type": "string"
            },
            "text/plain": [
              "'ITEM0'"
            ]
          },
          "metadata": {},
          "execution_count": 56
        }
      ]
    },
    {
      "cell_type": "markdown",
      "metadata": {
        "id": "Ba1M-6Yi7pJb"
      },
      "source": [
        "We can affect the values of a key as well. For instance:"
      ]
    },
    {
      "cell_type": "code",
      "metadata": {
        "id": "TS6aI32M7pJb",
        "colab": {
          "base_uri": "https://localhost:8080/"
        },
        "outputId": "fff633df-a47e-4752-9fcd-d82ece5f8c33"
      },
      "source": [
        "my_dict['key1']"
      ],
      "execution_count": 57,
      "outputs": [
        {
          "output_type": "execute_result",
          "data": {
            "text/plain": [
              "123"
            ]
          },
          "metadata": {},
          "execution_count": 57
        }
      ]
    },
    {
      "cell_type": "code",
      "metadata": {
        "id": "aWpHZcwG7pJe"
      },
      "source": [
        "# Subtract 123 from the value\n",
        "my_dict['key1'] = my_dict['key1'] - 123"
      ],
      "execution_count": 58,
      "outputs": []
    },
    {
      "cell_type": "code",
      "metadata": {
        "id": "xG5yEsMC7pJh",
        "colab": {
          "base_uri": "https://localhost:8080/"
        },
        "outputId": "9c5ebbb4-7ab3-4de7-dd2e-b14064f894e3"
      },
      "source": [
        "#Check\n",
        "my_dict['key1']"
      ],
      "execution_count": 59,
      "outputs": [
        {
          "output_type": "execute_result",
          "data": {
            "text/plain": [
              "0"
            ]
          },
          "metadata": {},
          "execution_count": 59
        }
      ]
    },
    {
      "cell_type": "markdown",
      "metadata": {
        "id": "iqLy9B_37pJj"
      },
      "source": [
        "A quick note, Python has a built-in method of doing a self subtraction or addition (or multiplication or division). We could have also used += or -= for the above statement. For example:"
      ]
    },
    {
      "cell_type": "code",
      "metadata": {
        "id": "XjW_-45p7pJk",
        "colab": {
          "base_uri": "https://localhost:8080/"
        },
        "outputId": "a98a979d-6222-4f62-85c8-df312b079aad"
      },
      "source": [
        "# Set the object equal to itself minus 123 \n",
        "my_dict['key1'] -= 123\n",
        "my_dict['key1']"
      ],
      "execution_count": 60,
      "outputs": [
        {
          "output_type": "execute_result",
          "data": {
            "text/plain": [
              "-123"
            ]
          },
          "metadata": {},
          "execution_count": 60
        }
      ]
    },
    {
      "cell_type": "markdown",
      "metadata": {
        "id": "YWSZyICP7pJm"
      },
      "source": [
        "We can also create keys by assignment. For instance if we started off with an empty dictionary, we could continually add to it:"
      ]
    },
    {
      "cell_type": "code",
      "metadata": {
        "id": "iCv5EgmJ7pJo"
      },
      "source": [
        "# Create a new dictionary\n",
        "d = {}"
      ],
      "execution_count": 61,
      "outputs": []
    },
    {
      "cell_type": "code",
      "metadata": {
        "colab": {
          "base_uri": "https://localhost:8080/"
        },
        "id": "1_9401mvAv2f",
        "outputId": "2257dc7b-3218-4ee4-f8a5-5f2dabc1529c"
      },
      "source": [
        "type(d)"
      ],
      "execution_count": 62,
      "outputs": [
        {
          "output_type": "execute_result",
          "data": {
            "text/plain": [
              "dict"
            ]
          },
          "metadata": {},
          "execution_count": 62
        }
      ]
    },
    {
      "cell_type": "code",
      "metadata": {
        "id": "iA2kF8p97pJr"
      },
      "source": [
        "# Create a new key through assignment\n",
        "d['animal'] = 'Dog'"
      ],
      "execution_count": 63,
      "outputs": []
    },
    {
      "cell_type": "code",
      "metadata": {
        "colab": {
          "base_uri": "https://localhost:8080/"
        },
        "id": "3URdCKtNA9zD",
        "outputId": "49d0dd28-61b1-44f3-ccd9-9c8c5253c2ac"
      },
      "source": [
        "d"
      ],
      "execution_count": 64,
      "outputs": [
        {
          "output_type": "execute_result",
          "data": {
            "text/plain": [
              "{'animal': 'Dog'}"
            ]
          },
          "metadata": {},
          "execution_count": 64
        }
      ]
    },
    {
      "cell_type": "code",
      "metadata": {
        "colab": {
          "base_uri": "https://localhost:8080/",
          "height": 35
        },
        "id": "LC26ArNCBAp_",
        "outputId": "0473cc70-0cb5-4bfa-ab6c-20aa54008a21"
      },
      "source": [
        "d[\"animal\"] = \"Cat\"\n",
        "d['animal']"
      ],
      "execution_count": 66,
      "outputs": [
        {
          "output_type": "execute_result",
          "data": {
            "application/vnd.google.colaboratory.intrinsic+json": {
              "type": "string"
            },
            "text/plain": [
              "'Cat'"
            ]
          },
          "metadata": {},
          "execution_count": 66
        }
      ]
    },
    {
      "cell_type": "code",
      "metadata": {
        "colab": {
          "base_uri": "https://localhost:8080/"
        },
        "id": "lzGtoAwPBTtR",
        "outputId": "befbd221-6c15-468d-aad5-98fcbab5f1a8"
      },
      "source": [
        "d"
      ],
      "execution_count": 67,
      "outputs": [
        {
          "output_type": "execute_result",
          "data": {
            "text/plain": [
              "{'animal': 'Cat'}"
            ]
          },
          "metadata": {},
          "execution_count": 67
        }
      ]
    },
    {
      "cell_type": "code",
      "metadata": {
        "id": "mFzx97IG7pJu"
      },
      "source": [
        "# Can do this with any object\n",
        "d['answer'] = 42"
      ],
      "execution_count": 68,
      "outputs": []
    },
    {
      "cell_type": "code",
      "metadata": {
        "id": "dAbBtBhO7pJx",
        "colab": {
          "base_uri": "https://localhost:8080/"
        },
        "outputId": "8390cdbb-3fcc-4cab-fe96-cb2e1fd33b08"
      },
      "source": [
        "#Show\n",
        "d"
      ],
      "execution_count": 69,
      "outputs": [
        {
          "output_type": "execute_result",
          "data": {
            "text/plain": [
              "{'animal': 'Cat', 'answer': 42}"
            ]
          },
          "metadata": {},
          "execution_count": 69
        }
      ]
    },
    {
      "cell_type": "markdown",
      "metadata": {
        "id": "QC0bduJU7pJ1"
      },
      "source": [
        "### Nesting with Dictionaries\n",
        "\n",
        "Hopefully you're starting to see how powerful Python is with its flexibility of nesting objects and calling methods on them. Let's see a dictionary nested inside a dictionary:"
      ]
    },
    {
      "cell_type": "code",
      "metadata": {
        "id": "nlnyFtRQ7pJ1"
      },
      "source": [
        "# Dictionary nested inside a dictionary nested inside a dictionary\n",
        "d = {'key1':{'nestkey':{'subnestkey':'value'}}}"
      ],
      "execution_count": 70,
      "outputs": []
    },
    {
      "cell_type": "markdown",
      "metadata": {
        "id": "O1fUFfwM7pJ4"
      },
      "source": [
        "Wow! That's a quite the inception of dictionaries! Let's see how we can grab that value:"
      ]
    },
    {
      "cell_type": "code",
      "metadata": {
        "id": "Q9Xz_-Rh7pJ5",
        "colab": {
          "base_uri": "https://localhost:8080/",
          "height": 35
        },
        "outputId": "ad3cebac-0a7d-4b87-f857-3e5b4ba0d0d5"
      },
      "source": [
        "# Keep calling the keys\n",
        "d['key1']['nestkey']['subnestkey']"
      ],
      "execution_count": 73,
      "outputs": [
        {
          "output_type": "execute_result",
          "data": {
            "application/vnd.google.colaboratory.intrinsic+json": {
              "type": "string"
            },
            "text/plain": [
              "'value'"
            ]
          },
          "metadata": {},
          "execution_count": 73
        }
      ]
    },
    {
      "cell_type": "markdown",
      "metadata": {
        "id": "Dj8lMPUT7pKB"
      },
      "source": [
        "### A few Dictionary Methods\n",
        "\n",
        "There are a few methods we can call on a dictionary. Let's get a quick introduction to a few of them:"
      ]
    },
    {
      "cell_type": "code",
      "metadata": {
        "id": "isBr7JzN7pKB"
      },
      "source": [
        "# Create a typical dictionary\n",
        "d = {'key1':1,'key2':2,'key3':3}"
      ],
      "execution_count": 74,
      "outputs": []
    },
    {
      "cell_type": "code",
      "metadata": {
        "id": "Ct4hD3vm7pKD",
        "colab": {
          "base_uri": "https://localhost:8080/"
        },
        "outputId": "d0644b89-0f1f-4586-e9d8-c8a8d7aa5362"
      },
      "source": [
        "# Method to return a list of all keys \n",
        "d.keys()"
      ],
      "execution_count": 75,
      "outputs": [
        {
          "output_type": "execute_result",
          "data": {
            "text/plain": [
              "dict_keys(['key1', 'key2', 'key3'])"
            ]
          },
          "metadata": {},
          "execution_count": 75
        }
      ]
    },
    {
      "cell_type": "code",
      "metadata": {
        "id": "ptCaoQYH7pKG",
        "colab": {
          "base_uri": "https://localhost:8080/"
        },
        "outputId": "b1079a11-4b22-4071-a773-4cae97b8a2bc"
      },
      "source": [
        "# Method to grab all values\n",
        "d.values()"
      ],
      "execution_count": 76,
      "outputs": [
        {
          "output_type": "execute_result",
          "data": {
            "text/plain": [
              "dict_values([1, 2, 3])"
            ]
          },
          "metadata": {},
          "execution_count": 76
        }
      ]
    },
    {
      "cell_type": "code",
      "metadata": {
        "id": "ZpvOP-zq7pKI",
        "colab": {
          "base_uri": "https://localhost:8080/"
        },
        "outputId": "d201f24f-7aeb-4976-fa83-d20fef96f4d0"
      },
      "source": [
        "# Method to return tuples of all items  (we'll learn about tuples soon)\n",
        "d.items()"
      ],
      "execution_count": 77,
      "outputs": [
        {
          "output_type": "execute_result",
          "data": {
            "text/plain": [
              "dict_items([('key1', 1), ('key2', 2), ('key3', 3)])"
            ]
          },
          "metadata": {},
          "execution_count": 77
        }
      ]
    },
    {
      "cell_type": "markdown",
      "metadata": {
        "id": "jtEmI2Hy7pKK"
      },
      "source": [
        "Hopefully you now have a good basic understanding how to construct dictionaries. There's a lot more to go into here, but we will revisit dictionaries at later time. After this section all you need to know is how to create a dictionary and how to retrieve values from it."
      ]
    },
    {
      "cell_type": "markdown",
      "metadata": {
        "id": "kzdpNFic2xlU"
      },
      "source": [
        "##Popular Question Answered on Quora\n",
        "<span class='quora-content-embed' data-name='How-should-I-start-learning-Python-1/answer/Neha-Ahuja-178'>Read <a class='quora-content-link' data-width='560' data-height='260' href='https://www.quora.com/How-should-I-start-learning-Python-1/answer/Neha-Ahuja-178' data-type='answer' data-id='122319626' data-key='f8a735498f074d34d32023d61c740361' load-full-answer='False' data-embed='dmvmtdw'><a href='https://www.quora.com/Neha-Ahuja-178'>Neha Ahuja</a>&#039;s <a href='/How-should-I-start-learning-Python-1?top_ans=122319626'>answer</a> to <a href='/How-should-I-start-learning-Python-1' ref='canonical'><span class=\"rendered_qtext\">How should I start learning Python?</span></a></a> on <a href='https://www.quora.com'>Quora</a><script type=\"text/javascript\" src=\"https://www.quora.com/widgets/content\"></script></span>\n",
        "\n",
        "<span class='quora-content-embed' data-name='What-is-the-use-of-learning-the-Python-language/answers/170367059'>Read <a class='quora-content-link' data-width='560' data-height='260' href='https://www.quora.com/What-is-the-use-of-learning-the-Python-language/answers/170367059' data-type='answer' data-id='170367059' data-key='064f54675b4d9e2f23ae166cd062388f' load-full-answer='False' data-embed='dmvmtdw'><a href='https://www.quora.com/Mohammad-Waseem-95'>Mohammad Waseem</a>&#039;s <a href='/What-is-the-use-of-learning-the-Python-language?top_ans=170367059'>answer</a> to <a href='/What-is-the-use-of-learning-the-Python-language' ref='canonical'><span class=\"rendered_qtext\">What is the use of learning the Python language?</span></a></a> on <a href='https://www.quora.com'>Quora</a><script type=\"text/javascript\" src=\"https://www.quora.com/widgets/content\"></script></span>\n",
        "\n",
        "<span class='quora-content-embed' data-name='Why-would-you-recommend-learning-Python-What-makes-it-useful/answer/Janarthanan-Soundararajan'>Read <a class='quora-content-link' data-width='560' data-height='260' href='https://www.quora.com/Why-would-you-recommend-learning-Python-What-makes-it-useful/answer/Janarthanan-Soundararajan' data-type='answer' data-id='25331268' data-key='5b02e3049ad8b5590dd59bbc845224e4' load-full-answer='False' data-embed='dmvmtdw'><a href='https://www.quora.com/Janarthanan-Soundararajan'>Janarthanan Soundararajan</a>&#039;s <a href='/Why-would-you-recommend-learning-Python-What-makes-it-useful?top_ans=25331268'>answer</a> to <a href='/Why-would-you-recommend-learning-Python-What-makes-it-useful' ref='canonical'><span class=\"rendered_qtext\">Why would you recommend learning Python? What makes it useful?</span></a></a> on <a href='https://www.quora.com'>Quora</a><script type=\"text/javascript\" src=\"https://www.quora.com/widgets/content\"></script></span>"
      ]
    },
    {
      "cell_type": "markdown",
      "metadata": {
        "id": "glpgq5vIJC8_"
      },
      "source": [
        "##Building a Basic Calculator"
      ]
    },
    {
      "cell_type": "code",
      "metadata": {
        "id": "BSnD6mjVJHYU",
        "colab": {
          "base_uri": "https://localhost:8080/",
          "height": 136
        },
        "outputId": "ac5fff55-fb63-4949-a040-45bd9613ff5a"
      },
      "source": [
        "num1 = int(input(\"Enter the first number \"))\n",
        "num2 = int(input(\"Enter another number \"))\n",
        "sum = num1 + num2\n",
        "diff = num1 - num2\n",
        "mult = num1 * num2\n",
        "div = num1 / num2\n",
        "mean = (num1+num2)/2\n",
        "print(\"Sum of {0} and {1} is {2}\".format(num1, num2,sum))\n",
        "print(\"Diff of {0} and {1} is {2}\".format(num1, num2,diff))\n",
        "print(\"Prod of {0} and {1} is {2}\".format(num1, num2,mult))\n",
        "print(\"Div of {0} and {1} is {2}\".format(num1, num2,div))\n",
        "print(\"Mean of {0} and {1} is {2}\".format(num1, num2,mean))"
      ],
      "execution_count": null,
      "outputs": [
        {
          "output_type": "stream",
          "text": [
            "Enter the first number 10\n",
            "Enter another number 20\n",
            "Sum of 10 and 20 is 30\n",
            "Diff of 10 and 20 is -10\n",
            "Prod of 10 and 20 is 200\n",
            "Div of 10 and 20 is 0.5\n",
            "Mean of 10 and 20 is 15.0\n"
          ],
          "name": "stdout"
        }
      ]
    },
    {
      "cell_type": "markdown",
      "metadata": {
        "id": "11Mmo_WlPRNT"
      },
      "source": [
        "##In Class Practise Question 1"
      ]
    },
    {
      "cell_type": "code",
      "metadata": {
        "id": "qRwEwoZh2dWR",
        "colab": {
          "base_uri": "https://localhost:8080/",
          "height": 204
        },
        "outputId": "c40b8490-f063-4a7f-90ef-4f23312b9aa1"
      },
      "source": [
        "#Multiplication Table\n",
        "n = int(input(\"Enter a number \"))\n",
        "for i in range(1, 11):\n",
        "  print(n,\"X\",i,\"=\",n*i)"
      ],
      "execution_count": null,
      "outputs": [
        {
          "output_type": "stream",
          "text": [
            "Enter a number 5\n",
            "5 X 1 = 5\n",
            "5 X 2 = 10\n",
            "5 X 3 = 15\n",
            "5 X 4 = 20\n",
            "5 X 5 = 25\n",
            "5 X 6 = 30\n",
            "5 X 7 = 35\n",
            "5 X 8 = 40\n",
            "5 X 9 = 45\n",
            "5 X 10 = 50\n"
          ],
          "name": "stdout"
        }
      ]
    },
    {
      "cell_type": "code",
      "metadata": {
        "id": "wtp3jBW_3PUp",
        "colab": {
          "base_uri": "https://localhost:8080/",
          "height": 34
        },
        "outputId": "31065afe-fe20-48cb-d2d1-835f96e470b5"
      },
      "source": [
        "#Swapping using 3 variables\n",
        "a = 10\n",
        "b = 20\n",
        "temp = a\n",
        "a = b\n",
        "b = temp\n",
        "print(a,b) "
      ],
      "execution_count": null,
      "outputs": [
        {
          "output_type": "stream",
          "text": [
            "20 10\n"
          ],
          "name": "stdout"
        }
      ]
    },
    {
      "cell_type": "code",
      "metadata": {
        "id": "JzCZ5V914QAk",
        "colab": {
          "base_uri": "https://localhost:8080/",
          "height": 51
        },
        "outputId": "3db27444-41a1-427f-fff7-84c8cfb2c613"
      },
      "source": [
        "#Swapping using multiplication\n",
        "a = 10\n",
        "b = 20\n",
        "print(a,b)\n",
        "a = a+b\n",
        "b = a-b\n",
        "a = a-b\n",
        "print(a,b)"
      ],
      "execution_count": null,
      "outputs": [
        {
          "output_type": "stream",
          "text": [
            "10 20\n",
            "20 10\n"
          ],
          "name": "stdout"
        }
      ]
    },
    {
      "cell_type": "code",
      "metadata": {
        "id": "t8PpRK3K4lGp",
        "colab": {
          "base_uri": "https://localhost:8080/",
          "height": 51
        },
        "outputId": "27b022fd-3eab-49cd-8c28-e2340380dc74"
      },
      "source": [
        "# Swapping using Using XOR\n",
        "a = 10\n",
        "b = 20\n",
        "print(a,b)\n",
        "a = a^b\n",
        "b = b^a\n",
        "# a = a^b\n",
        "print(a,b)"
      ],
      "execution_count": null,
      "outputs": [
        {
          "output_type": "stream",
          "text": [
            "10 20\n",
            "30 10\n"
          ],
          "name": "stdout"
        }
      ]
    },
    {
      "cell_type": "code",
      "metadata": {
        "id": "Hx0a1yw74w2k"
      },
      "source": [
        ""
      ],
      "execution_count": null,
      "outputs": []
    }
  ]
}